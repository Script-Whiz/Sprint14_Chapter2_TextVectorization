{
 "cells": [
  {
   "cell_type": "markdown",
   "metadata": {},
   "source": [
    "# Sprint 14, Sentiment Analysis, using tokenization and lemmatization, by Deborah Thomas"
   ]
  },
  {
   "cell_type": "markdown",
   "metadata": {},
   "source": [
    "<h2>The Film Junky Union</h2>\n",
    "<H3>A new edgy community for classic movie enthusiasts, is developing a system for filtering and categorizing movie reviews. The goal is to train a model to automatically detect negative reviews. You'll be using a dataset of IMBD movie reviews with polarity labelling to build a model for classifying positive and negative reviews. It will need to have an F1 score of at least 0.85.</H3>"
   ]
  },
  {
   "cell_type": "markdown",
   "metadata": {},
   "source": [
    "## Initialization"
   ]
  },
  {
   "cell_type": "code",
   "execution_count": null,
   "metadata": {},
   "outputs": [],
   "source": [
    "import math\n",
    "import nltk\n",
    "from nltk.corpus import stopwords\n",
    "\n",
    "import numpy as np\n",
    "import pandas as pd\n",
    "\n",
    "import matplotlib\n",
    "import matplotlib.pyplot as plt\n",
    "import matplotlib.dates as mdates\n",
    "\n",
    "import seaborn as sns\n",
    "\n",
    "from tqdm.auto import tqdm\n",
    "\n",
    "import sklearn.metrics as metrics\n",
    "from sklearn.dummy import DummyClassifier\n",
    "from sklearn.feature_extraction.text import TfidfVectorizer\n",
    "from sklearn.linear_model import LogisticRegression\n",
    "\n",
    "import spacy\n",
    "\n",
    "from lightgbm import LGBMClassifier\n",
    "\n",
    "import torch\n",
    "import transformers\n",
    "\n",
    "import warnings"
   ]
  },
  {
   "cell_type": "code",
   "execution_count": null,
   "metadata": {},
   "outputs": [],
   "source": [
    "%matplotlib inline\n",
    "%config InlineBackend.figure_format = 'png'\n",
    "# the next line provides graphs of better quality on HiDPI screens\n",
    "%config InlineBackend.figure_format = 'retina'\n",
    "\n",
    "plt.style.use('seaborn-v0_8')"
   ]
  },
  {
   "cell_type": "code",
   "execution_count": null,
   "metadata": {},
   "outputs": [],
   "source": [
    "# this is to use progress_apply, read more at https://pypi.org/project/tqdm/#pandas-integration\n",
    "tqdm.pandas()"
   ]
  },
  {
   "cell_type": "markdown",
   "metadata": {},
   "source": [
    "## Load Data"
   ]
  },
  {
   "cell_type": "code",
   "execution_count": null,
   "metadata": {},
   "outputs": [],
   "source": [
    "df_reviews = pd.read_csv('../datasets/imdb_reviews.tsv', sep='\\t', dtype={'votes': 'Int64'})"
   ]
  },
  {
   "cell_type": "code",
   "execution_count": null,
   "metadata": {},
   "outputs": [],
   "source": [
    "df_reviews.shape"
   ]
  },
  {
   "cell_type": "code",
   "execution_count": null,
   "metadata": {},
   "outputs": [],
   "source": [
    "df_reviews.info()"
   ]
  },
  {
   "cell_type": "markdown",
   "metadata": {},
   "source": [
    "- title_type may need to change to type category\n",
    "- sp may need to change to boolean\n",
    "- pos may need to change to boolean\n",
    "- ds_part may need to change to type category\n",
    "<br>\n",
    "<br>\n",
    "- average_rating has 2 missing values\n",
    "- votes has 2 missing values"
   ]
  },
  {
   "cell_type": "code",
   "execution_count": null,
   "metadata": {},
   "outputs": [],
   "source": [
    "display(df_reviews)"
   ]
  },
  {
   "cell_type": "code",
   "execution_count": null,
   "metadata": {},
   "outputs": [],
   "source": [
    "df_reviews.describe()"
   ]
  },
  {
   "cell_type": "markdown",
   "metadata": {},
   "source": [
    "## Clean Dataset"
   ]
  },
  {
   "cell_type": "markdown",
   "metadata": {},
   "source": [
    "### Look for NaN."
   ]
  },
  {
   "cell_type": "code",
   "execution_count": null,
   "metadata": {},
   "outputs": [],
   "source": [
    "df_missing = df_reviews.isna().sum()\n",
    "print(df_missing)"
   ]
  },
  {
   "cell_type": "code",
   "execution_count": null,
   "metadata": {},
   "outputs": [],
   "source": [
    "# Fill NaN values\n",
    "df_reviews_filled = df_reviews.fillna(0)\n",
    "\n",
    "# Check again for missing values\n",
    "print(df_reviews_filled.isna().sum())"
   ]
  },
  {
   "cell_type": "markdown",
   "metadata": {},
   "source": [
    "4 rows have been removed."
   ]
  },
  {
   "cell_type": "markdown",
   "metadata": {},
   "source": [
    "### Check for Infinity values."
   ]
  },
  {
   "cell_type": "code",
   "execution_count": null,
   "metadata": {},
   "outputs": [],
   "source": [
    "# Convert the DataFrame to numeric, forcing errors to NaN\n",
    "numeric_df = df_reviews.select_dtypes(include=[np.number]).apply(pd.to_numeric, errors='coerce')"
   ]
  },
  {
   "cell_type": "code",
   "execution_count": null,
   "metadata": {},
   "outputs": [],
   "source": [
    "# Check for inf values in the DataFrame\n",
    "inf_values_count = np.isinf(numeric_df).sum().sum()\n",
    "print(f\"Number of infinite values in df_reviews: {inf_values_count}\")"
   ]
  },
  {
   "cell_type": "markdown",
   "metadata": {},
   "source": [
    "### Change datatypes"
   ]
  },
  {
   "cell_type": "markdown",
   "metadata": {},
   "source": [
    "- title_type"
   ]
  },
  {
   "cell_type": "code",
   "execution_count": null,
   "metadata": {},
   "outputs": [],
   "source": [
    "df_reviews['title_type'].value_counts()"
   ]
  },
  {
   "cell_type": "code",
   "execution_count": null,
   "metadata": {},
   "outputs": [],
   "source": [
    "df_reviews['title_type'] = df_reviews['title_type'].astype('category')"
   ]
  },
  {
   "cell_type": "markdown",
   "metadata": {},
   "source": [
    "- sp"
   ]
  },
  {
   "cell_type": "code",
   "execution_count": null,
   "metadata": {},
   "outputs": [],
   "source": [
    "df_reviews['sp'].value_counts()"
   ]
  },
  {
   "cell_type": "markdown",
   "metadata": {},
   "source": [
    "I will keep this as neg and pos."
   ]
  },
  {
   "cell_type": "markdown",
   "metadata": {},
   "source": [
    "- pos"
   ]
  },
  {
   "cell_type": "code",
   "execution_count": null,
   "metadata": {},
   "outputs": [],
   "source": [
    "df_reviews['pos'].value_counts()"
   ]
  },
  {
   "cell_type": "code",
   "execution_count": null,
   "metadata": {},
   "outputs": [],
   "source": [
    "df_reviews['pos'] = df_reviews['pos'].astype(bool)"
   ]
  },
  {
   "cell_type": "markdown",
   "metadata": {},
   "source": [
    "- ds_part"
   ]
  },
  {
   "cell_type": "code",
   "execution_count": null,
   "metadata": {},
   "outputs": [],
   "source": [
    "df_reviews['ds_part'].value_counts()"
   ]
  },
  {
   "cell_type": "code",
   "execution_count": null,
   "metadata": {},
   "outputs": [],
   "source": [
    "df_reviews['ds_part'] = df_reviews['ds_part'].astype('category')"
   ]
  },
  {
   "cell_type": "code",
   "execution_count": null,
   "metadata": {},
   "outputs": [],
   "source": [
    "df_reviews['ds_part'].value_counts()"
   ]
  },
  {
   "cell_type": "markdown",
   "metadata": {},
   "source": [
    "### Check for NaN."
   ]
  },
  {
   "cell_type": "code",
   "execution_count": null,
   "metadata": {},
   "outputs": [],
   "source": [
    "df_missing = df_reviews.isna().sum()\n",
    "print(df_missing)"
   ]
  },
  {
   "cell_type": "markdown",
   "metadata": {},
   "source": [
    "### Fill NaN with mean value."
   ]
  },
  {
   "cell_type": "markdown",
   "metadata": {},
   "source": [
    "- average_rating"
   ]
  },
  {
   "cell_type": "code",
   "execution_count": null,
   "metadata": {},
   "outputs": [],
   "source": [
    "# Convert the columns to Float64 type\n",
    "df_reviews['average_rating'] = df_reviews['average_rating'].astype(float)\n",
    "\n",
    "# Calculate mean and fill NaN for 'average_rating'\n",
    "mean_rating = df_reviews['average_rating'].mean()\n",
    "df_reviews['average_rating'] = df_reviews['average_rating'].fillna(mean_rating)"
   ]
  },
  {
   "cell_type": "markdown",
   "metadata": {},
   "source": [
    "- votes"
   ]
  },
  {
   "cell_type": "code",
   "execution_count": null,
   "metadata": {},
   "outputs": [],
   "source": [
    "df_reviews['votes'] = df_reviews['votes'].astype(float)\n",
    "\n",
    "# Calculate mean and fill NaN for 'votes'\n",
    "mean_votes = df_reviews['votes'].mean()\n",
    "df_reviews['votes'] = df_reviews['votes'].fillna(mean_votes)"
   ]
  },
  {
   "cell_type": "code",
   "execution_count": null,
   "metadata": {},
   "outputs": [],
   "source": [
    "# Select only numeric columns and convert DataFrame to float (or raise errors when conversion fails)\n",
    "numeric_df = df_reviews.select_dtypes(include=[np.number]).astype(float)\n",
    "\n",
    "# Check for infinite values\n",
    "has_infinite = np.isinf(numeric_df.values).any()\n",
    "print(\"Contains infinite values:\", has_infinite)"
   ]
  },
  {
   "cell_type": "code",
   "execution_count": null,
   "metadata": {},
   "outputs": [],
   "source": [
    "# Select only numeric columns\n",
    "numeric_df = df_reviews.select_dtypes(include=[np.number])\n",
    "\n",
    "# Convert to a numpy array and handle type conversion\n",
    "try:\n",
    "    # Ensure all values are float, forcing conversion where possible\n",
    "    has_infinite = np.isinf(numeric_df.astype(float).to_numpy()).any()\n",
    "    print(\"Contains infinite values:\", has_infinite)\n",
    "except ValueError as e:\n",
    "    print(\"Error in type conversion:\", e)"
   ]
  },
  {
   "cell_type": "code",
   "execution_count": null,
   "metadata": {},
   "outputs": [],
   "source": [
    "df_reviews.info()"
   ]
  },
  {
   "cell_type": "markdown",
   "metadata": {},
   "source": [
    "## EDA"
   ]
  },
  {
   "cell_type": "markdown",
   "metadata": {},
   "source": [
    "- Check for class imbalance"
   ]
  },
  {
   "cell_type": "code",
   "execution_count": null,
   "metadata": {},
   "outputs": [],
   "source": [
    "class_counts = df_reviews['pos'].value_counts()\n",
    "print(class_counts)"
   ]
  },
  {
   "cell_type": "code",
   "execution_count": null,
   "metadata": {},
   "outputs": [],
   "source": [
    "class_ratios = class_counts / len(df_reviews)\n",
    "print(class_ratios)"
   ]
  },
  {
   "cell_type": "markdown",
   "metadata": {},
   "source": [
    "There is a good balance between False and True."
   ]
  },
  {
   "cell_type": "markdown",
   "metadata": {},
   "source": [
    "- <H3>Let's check the number of movies and reviews over years.</H3>"
   ]
  },
  {
   "cell_type": "code",
   "execution_count": null,
   "metadata": {},
   "outputs": [],
   "source": [
    "fig, axs = plt.subplots(2, 1, figsize=(16, 8))\n",
    "\n",
    "# First subplot\n",
    "ax = axs[0]\n",
    "dft1 = df_reviews[['tconst', 'start_year']].drop_duplicates() \\\n",
    "    ['start_year'].value_counts().sort_index()\n",
    "dft1 = dft1.reindex(index=np.arange(dft1.index.min(), max(dft1.index.max(), 2021))).fillna(0)\n",
    "dft1.plot(kind='bar', ax=ax)\n",
    "\n",
    "ax.set_title('Number of Movies Over Years', fontsize=20, fontweight='bold')\n",
    "ax.set_xlabel('Years', fontsize=14, fontweight='bold')\n",
    "ax.set_ylabel('Number of Movies', fontsize=14, fontweight='bold')\n",
    "\n",
    "# Second subplot\n",
    "ax = axs[1]\n",
    "dft2 = df_reviews.groupby(['start_year', 'pos'])['pos'].count().unstack()\n",
    "dft2 = dft2.reindex(index=np.arange(dft2.index.min(), max(dft2.index.max(), 2021))).fillna(0)\n",
    "dft2.plot(kind='bar', stacked=True, label='#reviews (neg, pos)', ax=ax)\n",
    "dft2 = df_reviews['start_year'].value_counts().sort_index()\n",
    "dft2 = dft2.reindex(index=np.arange(dft2.index.min(), max(dft2.index.max(), 2021))).fillna(0)\n",
    "dft3 = (dft2/dft1).fillna(0)\n",
    "\n",
    "axt = ax.twinx()\n",
    "dft3.reset_index(drop=True).rolling(5).mean().plot(color='orange', label='reviews per movie (avg over 5 years)', ax=axt)\n",
    "lines, labels = axt.get_legend_handles_labels()\n",
    "\n",
    "axt.legend(lines, labels, loc='upper left', fontsize=16) \n",
    "\n",
    "ax.set_title('Number of Reviews Over Years', fontsize=20, fontweight='bold')  # Keep this for the second subplot\n",
    "ax.set_xlabel('Years', fontsize=14, fontweight='bold')  # Make x-label bold\n",
    "ax.set_ylabel('Number of Reviews', fontsize=14, fontweight='bold')\n",
    "\n",
    "# Adjust layout to create more room at the bottom\n",
    "plt.subplots_adjust(hspace=0.6)  # Increase the space between subplots\n",
    "fig.tight_layout()"
   ]
  },
  {
   "cell_type": "markdown",
   "metadata": {},
   "source": [
    "The amount of movies produced increases, over the years, til 2006, when then the amount of movies declines. There is an even balance betwen False and True."
   ]
  },
  {
   "cell_type": "markdown",
   "metadata": {},
   "source": [
    "- <H3>Let's check the distribution of number of reviews per movie with the exact counting and KDE (just to learn how it may differ from the exact counting)</H3>"
   ]
  },
  {
   "cell_type": "code",
   "execution_count": null,
   "metadata": {},
   "outputs": [],
   "source": [
    "# Suppress FutureWarnings\n",
    "warnings.simplefilter(action='ignore', category=FutureWarning)"
   ]
  },
  {
   "cell_type": "code",
   "execution_count": null,
   "metadata": {},
   "outputs": [],
   "source": [
    "# Utility function to clean data by replacing inf with NaN and dropping NaN values\n",
    "def clean_data(dft):\n",
    "    dft.replace([np.inf, -np.inf], np.nan, inplace=True)  # Replace inf values\n",
    "    return dft.dropna()  # Drop NaN values\n",
    "    \n",
    "# Create subplots\n",
    "fig, axs = plt.subplots(1, 2, figsize=(16, 5))\n",
    "\n",
    "# First subplot\n",
    "ax = axs[0]\n",
    "dft = df_reviews.groupby('tconst')['review'].count().value_counts().sort_index()\n",
    "dft = clean_data(dft)  # Clean before plotting\n",
    "\n",
    "dft.plot.bar(ax=ax)\n",
    "ax.set_title('Bar Plot of #Reviews Per Movie', fontsize=16, fontweight='bold')\n",
    "ax.set_xlabel('Number of Reviews', fontsize=14, fontweight='bold')\n",
    "ax.set_ylabel('Frequency', fontsize=14, fontweight='bold')\n",
    "\n",
    "# Second subplot\n",
    "ax = axs[1]\n",
    "dft = df_reviews.groupby('tconst')['review'].count()\n",
    "dft = clean_data(dft)  # Clean before plotting\n",
    "sns.kdeplot(dft, ax=ax, fill=True) \n",
    "ax.set_title('KDE Plot of #Reviews Per Movie', fontsize=16, fontweight='bold') \n",
    "ax.set_xlabel('Number of Reviews', fontsize=14, fontweight='bold') \n",
    "ax.set_ylabel('Density', fontsize=14, fontweight='bold') \n",
    "\n",
    "fig.tight_layout()\n",
    "plt.show()"
   ]
  },
  {
   "cell_type": "markdown",
   "metadata": {},
   "source": [
    "Most movies received only 1 review. As the number of reviews increases, the frequency of how many of that amount of reviews decreases, with the exception of 30 reviews. Theres is only a minimal amount of movies that received over 20 reviews, then suddenly, there are over 400 movies that received 30 reviews."
   ]
  },
  {
   "cell_type": "markdown",
   "metadata": {},
   "source": [
    "- <H3>Let's check the distribution of test and train dataset.</H3>"
   ]
  },
  {
   "cell_type": "code",
   "execution_count": null,
   "metadata": {},
   "outputs": [],
   "source": [
    "fig, axs = plt.subplots(1, 2, figsize=(12, 4))\n",
    "\n",
    "# First subplot\n",
    "ax = axs[0]\n",
    "dft = df_reviews.query('ds_part == \"train\"')['rating'].value_counts().sort_index()\n",
    "dft = dft.reindex(index=np.arange(min(dft.index.min(), 1), max(dft.index.max(), 11))).fillna(0)\n",
    "dft.plot.bar(ax=ax)\n",
    "\n",
    "ax.set_ylim([0, 5000])\n",
    "ax.set_title('The train set: distribution of ratings', fontsize=16, fontweight='bold')\n",
    "ax.set_ylabel('Number of Movies', fontsize=14, fontweight='bold')\n",
    "ax.set_xlabel('Number of Reviews', fontsize=14, fontweight='bold')\n",
    "\n",
    "# Second subplot\n",
    "ax = axs[1]\n",
    "dft = df_reviews.query('ds_part == \"test\"')['rating'].value_counts().sort_index()\n",
    "dft = dft.reindex(index=np.arange(min(dft.index.min(), 1), max(dft.index.max(), 11))).fillna(0)\n",
    "dft.plot.bar(ax=ax)\n",
    "\n",
    "ax.set_ylim([0, 5000])\n",
    "ax.set_title('The test set: distribution of ratings', fontsize=16, fontweight='bold')\n",
    "ax.set_ylabel('Number of Movies', fontsize=14, fontweight='bold')\n",
    "ax.set_xlabel('Number of Reviews', fontsize=14, fontweight='bold')\n",
    "\n",
    "fig.tight_layout()"
   ]
  },
  {
   "cell_type": "markdown",
   "metadata": {},
   "source": [
    "This graph is only showing number of reviews from 1-10. Of this range, the majority of movies have either 1 review, or 10 reviews. There are no movies with 5, nor with 6 reviews. Train and test set distributions, look the same. There is not imbalance."
   ]
  },
  {
   "cell_type": "markdown",
   "metadata": {},
   "source": [
    "- <H3>Distribution of negative and positive reviews over the years for two parts of the dataset.</H3>"
   ]
  },
  {
   "cell_type": "code",
   "execution_count": null,
   "metadata": {},
   "outputs": [],
   "source": [
    "fig, axs = plt.subplots(2, 2, figsize=(16, 8), gridspec_kw=dict(width_ratios=(2, 1), height_ratios=(1, 1)))\n",
    "# Define a utility function to handle inf values\n",
    "\n",
    "def clean_data(dft):\n",
    "    dft.replace([np.inf, -np.inf], np.nan, inplace=True)  # Ensure inf values are replaced\n",
    "    return dft.dropna()  # Drop rows with NaN values\n",
    "    \n",
    "# Suppress chained assignment warnings\n",
    "pd.options.mode.chained_assignment = None\n",
    "\n",
    "# First subplot: Train set review counts by year\n",
    "ax = axs[0][0]\n",
    "dft = df_reviews.query('ds_part == \"train\"').groupby(['start_year', 'pos'])['pos'].count().unstack()\n",
    "dft.index = dft.index.astype('int')\n",
    "dft = dft.reindex(index=np.arange(dft.index.min(), max(dft.index.max(), 2020))).fillna(0)\n",
    "dft = clean_data(dft)  # Clean data before plotting\n",
    "dft.plot(kind='bar', stacked=True, ax=ax)\n",
    "ax.set_title('The train set: number of reviews of different polarities per year', fontsize=18, fontweight='bold')\n",
    "ax.set_xlabel('Year', fontsize=14, fontweight='bold')\n",
    "ax.set_ylabel('Number of Reviews', fontsize=16, fontweight='bold')\n",
    "\n",
    "# Second subplot: Train set distribution of reviews\n",
    "ax = axs[0][1]\n",
    "dft = df_reviews.query('ds_part == \"train\"').groupby(['tconst', 'pos'])['pos'].count().unstack()\n",
    "dft = clean_data(dft)  # Clean data before plotting\n",
    "if (False in dft.columns) and (True in dft.columns):\n",
    "    sns.kdeplot(dft[False], color='blue', label='negative', ax=ax)\n",
    "    sns.kdeplot(dft[True], color='green', label='positive', ax=ax)\n",
    "ax.legend()\n",
    "ax.set_title('The train set: distribution of different polarities per movie', fontsize=18, fontweight='bold')\n",
    "ax.set_xlabel('Number of Reviews', fontsize=16, fontweight='bold') \n",
    "ax.set_ylabel('Density', fontsize=14, fontweight='bold')\n",
    "\n",
    "# Third subplot: Test set review counts by year\n",
    "ax = axs[1][0]\n",
    "dft = df_reviews.query('ds_part == \"test\"').groupby(['start_year', 'pos'])['pos'].count().unstack()\n",
    "dft.index = dft.index.astype('int')\n",
    "dft = dft.reindex(index=np.arange(dft.index.min(), max(dft.index.max(), 2020))).fillna(0)\n",
    "dft = clean_data(dft)  # Clean data before plotting\n",
    "dft.plot(kind='bar', stacked=True, ax=ax)\n",
    "ax.set_title('The test set: number of reviews of different polarities per year', fontsize=18, fontweight='bold')\n",
    "ax.set_xlabel('Year', fontsize=14, fontweight='bold')\n",
    "ax.set_ylabel('Number of Reviews', fontsize=16, fontweight='bold')\n",
    "\n",
    "# Fourth subplot: Test set distribution of reviews\n",
    "ax = axs[1][1]\n",
    "dft = df_reviews.query('ds_part == \"test\"').groupby(['tconst', 'pos'])['pos'].count().unstack()\n",
    "dft = clean_data(dft)  # Clean data before plotting\n",
    "if (False in dft.columns) and (True in dft.columns):\n",
    "    sns.kdeplot(dft[False], color='blue', label='negative', ax=ax)\n",
    "    sns.kdeplot(dft[True], color='green', label='positive', ax=ax)\n",
    "    \n",
    "ax.legend()\n",
    "ax.set_title('The test set: distribution of different polarities per movie', fontsize=18, fontweight='bold')\n",
    "ax.set_xlabel('Number of Reviews', fontsize=16, fontweight='bold')\n",
    "ax.set_ylabel('Density', fontsize=14, fontweight='bold')\n",
    "\n",
    "plt.subplots_adjust(hspace=0.6) \n",
    "fig.tight_layout()"
   ]
  },
  {
   "cell_type": "markdown",
   "metadata": {},
   "source": [
    "The distributions for the False and True classes, in both the training and testing datasets, are fairly consistent, with the exception of a slight difference in the total number of reviews, which varies by about two. Additionally, there was a disproportionate number of movies that had exactly two negative reviews. Overall, there are more positive reviews than negative ones."
   ]
  },
  {
   "cell_type": "markdown",
   "metadata": {},
   "source": [
    "## Evaluation Procedure"
   ]
  },
  {
   "cell_type": "markdown",
   "metadata": {},
   "source": [
    "- Composing an evaluation routine which can be used for all models in this project"
   ]
  },
  {
   "cell_type": "code",
   "execution_count": null,
   "metadata": {},
   "outputs": [],
   "source": [
    "def evaluate_model(model, train_features, train_target, test_features, test_target):\n",
    "    \n",
    "    eval_stats = {}\n",
    "    \n",
    "    fig, axs = plt.subplots(1, 3, figsize=(20, 6)) \n",
    "    \n",
    "    for type, features, target in (('train', train_features, train_target), ('test', test_features, test_target)):\n",
    "        \n",
    "        eval_stats[type] = {}\n",
    "    \n",
    "        pred_target = model.predict(features)\n",
    "        pred_proba = model.predict_proba(features)[:, 1]\n",
    "        \n",
    "        # F1\n",
    "        f1_thresholds = np.arange(0, 1.01, 0.05)\n",
    "        f1_scores = [metrics.f1_score(target, pred_proba>=threshold) for threshold in f1_thresholds]\n",
    "        \n",
    "        # ROC\n",
    "        fpr, tpr, roc_thresholds = metrics.roc_curve(target, pred_proba)\n",
    "        roc_auc = metrics.roc_auc_score(target, pred_proba)    \n",
    "        eval_stats[type]['ROC AUC'] = roc_auc\n",
    "\n",
    "        # PRC\n",
    "        precision, recall, pr_thresholds = metrics.precision_recall_curve(target, pred_proba)\n",
    "        aps = metrics.average_precision_score(target, pred_proba)\n",
    "        eval_stats[type]['APS'] = aps\n",
    "        \n",
    "        if type == 'train':\n",
    "            color = 'blue'\n",
    "        else:\n",
    "            color = 'green'\n",
    "\n",
    "        # F1 Score\n",
    "        ax = axs[0]\n",
    "        max_f1_score_idx = np.argmax(f1_scores)\n",
    "        ax.plot(f1_thresholds, f1_scores, color=color, label=f'{type}, max={f1_scores[max_f1_score_idx]:.2f} @ {f1_thresholds[max_f1_score_idx]:.2f}')\n",
    "        # setting crosses for some thresholds\n",
    "        for threshold in (0.2, 0.4, 0.5, 0.6, 0.8):\n",
    "            closest_value_idx = np.argmin(np.abs(f1_thresholds-threshold))\n",
    "            marker_color = 'orange' if threshold != 0.5 else 'red'\n",
    "            ax.plot(f1_thresholds[closest_value_idx], f1_scores[closest_value_idx], color=marker_color, marker='X', markersize=7)\n",
    "        ax.set_xlim([-0.02, 1.02])    \n",
    "        ax.set_ylim([-0.02, 1.02])\n",
    "        ax.set_xlabel('threshold')\n",
    "        ax.set_ylabel('F1')\n",
    "        ax.legend(loc='lower center')\n",
    "        ax.set_title(f'F1 Score') \n",
    "\n",
    "        # ROC\n",
    "        ax = axs[1]    \n",
    "        ax.plot(fpr, tpr, color=color, label=f'{type}, ROC AUC={roc_auc:.2f}')\n",
    "        # setting crosses for some thresholds\n",
    "        for threshold in (0.2, 0.4, 0.5, 0.6, 0.8):\n",
    "            closest_value_idx = np.argmin(np.abs(roc_thresholds-threshold))\n",
    "            marker_color = 'orange' if threshold != 0.5 else 'red'            \n",
    "            ax.plot(fpr[closest_value_idx], tpr[closest_value_idx], color=marker_color, marker='X', markersize=7)\n",
    "        ax.plot([0, 1], [0, 1], color='grey', linestyle='--')\n",
    "        ax.set_xlim([-0.02, 1.02])    \n",
    "        ax.set_ylim([-0.02, 1.02])\n",
    "        ax.set_xlabel('FPR')\n",
    "        ax.set_ylabel('TPR')\n",
    "        ax.legend(loc='lower center')        \n",
    "        ax.set_title(f'ROC Curve')\n",
    "        \n",
    "        # PRC\n",
    "        ax = axs[2]\n",
    "        ax.plot(recall, precision, color=color, label=f'{type}, AP={aps:.2f}')\n",
    "        # setting crosses for some thresholds\n",
    "        for threshold in (0.2, 0.4, 0.5, 0.6, 0.8):\n",
    "            closest_value_idx = np.argmin(np.abs(pr_thresholds-threshold))\n",
    "            marker_color = 'orange' if threshold != 0.5 else 'red'\n",
    "            ax.plot(recall[closest_value_idx], precision[closest_value_idx], color=marker_color, marker='X', markersize=7)\n",
    "        ax.set_xlim([-0.02, 1.02])    \n",
    "        ax.set_ylim([-0.02, 1.02])\n",
    "        ax.set_xlabel('recall')\n",
    "        ax.set_ylabel('precision')\n",
    "        ax.legend(loc='lower center')\n",
    "        ax.set_title(f'PRC')        \n",
    "\n",
    "        eval_stats[type]['Accuracy'] = metrics.accuracy_score(target, pred_target)\n",
    "        eval_stats[type]['F1'] = metrics.f1_score(target, pred_target)\n",
    "    \n",
    "    df_eval_stats = pd.DataFrame(eval_stats)\n",
    "    df_eval_stats = df_eval_stats.round(2)\n",
    "    df_eval_stats = df_eval_stats.reindex(index=('Accuracy', 'F1', 'APS', 'ROC AUC'))\n",
    "    \n",
    "    print(df_eval_stats)\n",
    "    \n",
    "    return"
   ]
  },
  {
   "cell_type": "markdown",
   "metadata": {},
   "source": [
    "## Normalization"
   ]
  },
  {
   "cell_type": "markdown",
   "metadata": {},
   "source": [
    "- We assume all models below accept texts in lowercase, and without any digits, punctuations marks etc."
   ]
  },
  {
   "cell_type": "code",
   "execution_count": null,
   "metadata": {},
   "outputs": [],
   "source": [
    "df_reviews['review_norm'] = df_reviews['review'].str.lower()"
   ]
  },
  {
   "cell_type": "code",
   "execution_count": null,
   "metadata": {},
   "outputs": [],
   "source": [
    "# Replace any one or more consecutive digit(0-9), with empty string.\n",
    "df_reviews['review_norm'] = df_reviews['review_norm'].str.replace(r'\\d+', '', regex=True)\n",
    "\n",
    "# Replace anything that is not a word or a space with empty string.\n",
    "df_reviews['review_norm'] = df_reviews['review_norm'].str.replace(r'[^\\w\\s]', '', regex=True)"
   ]
  },
  {
   "cell_type": "code",
   "execution_count": null,
   "metadata": {},
   "outputs": [],
   "source": [
    "df_reviews.info()"
   ]
  },
  {
   "cell_type": "markdown",
   "metadata": {},
   "source": [
    "## Train / Test Split"
   ]
  },
  {
   "cell_type": "markdown",
   "metadata": {},
   "source": [
    "- Luckily, the whole dataset is already divided into train/test one parts. The corresponding flag is 'ds_part'."
   ]
  },
  {
   "cell_type": "code",
   "execution_count": null,
   "metadata": {},
   "outputs": [],
   "source": [
    "df_reviews_train = df_reviews.query('ds_part == \"train\"').copy()\n",
    "df_reviews_test = df_reviews.query('ds_part == \"test\"').copy()\n",
    "\n",
    "#targets\n",
    "train_target = df_reviews_train['pos']\n",
    "test_target = df_reviews_test['pos']\n",
    "\n",
    "print(df_reviews_train.shape)\n",
    "print(df_reviews_test.shape)"
   ]
  },
  {
   "cell_type": "markdown",
   "metadata": {},
   "source": [
    "## Working with models"
   ]
  },
  {
   "cell_type": "markdown",
   "metadata": {},
   "source": [
    "### Model 0 - Constant"
   ]
  },
  {
   "cell_type": "markdown",
   "metadata": {},
   "source": [
    "- Dummy Model"
   ]
  },
  {
   "cell_type": "code",
   "execution_count": null,
   "metadata": {},
   "outputs": [],
   "source": [
    "dummyModel = DummyClassifier()\n",
    "dummyModel.fit(df_reviews_train['review_norm'], train_target)"
   ]
  },
  {
   "cell_type": "markdown",
   "metadata": {},
   "source": [
    "- Call function to evaluate model"
   ]
  },
  {
   "cell_type": "code",
   "execution_count": null,
   "metadata": {},
   "outputs": [],
   "source": [
    "evaluate_model(dummyModel, df_reviews_train['review_norm'], train_target, df_reviews_test['review_norm'], test_target)"
   ]
  },
  {
   "cell_type": "markdown",
   "metadata": {},
   "source": [
    "<b>Accuracy</b>\n",
    "- The model performed no better than random guessing on both datasets\n",
    "\n",
    "<b>F1 score</b>\n",
    "- F1 Score: The F1 score is 0.0 for both train and test. This score is a balance between precision and recall, and a score of 0 indicates that the model didn't successfully identify any positive classes. When the model doesn't predict any positive instances correctly, the F1 score drops to zero.\n",
    "    \n",
    "<b>ROC</b>\n",
    "- The ROC AUC score is also 0.5, meaning no discrimination between positive and negative classes, along the same lines as random guessing."
   ]
  },
  {
   "cell_type": "markdown",
   "metadata": {},
   "source": [
    "### Model 1 - NLTK, TF-IDF and LR"
   ]
  },
  {
   "cell_type": "markdown",
   "metadata": {},
   "source": [
    "- NLTK (stop words)"
   ]
  },
  {
   "cell_type": "code",
   "execution_count": null,
   "metadata": {},
   "outputs": [],
   "source": [
    "nltk.download('stopwords')"
   ]
  },
  {
   "cell_type": "code",
   "execution_count": null,
   "metadata": {},
   "outputs": [],
   "source": [
    "stop_words = set(stopwords.words('english'))"
   ]
  },
  {
   "cell_type": "code",
   "execution_count": null,
   "metadata": {},
   "outputs": [],
   "source": [
    "# Convert set to list\n",
    "stop_words_list = list(stop_words)"
   ]
  },
  {
   "cell_type": "markdown",
   "metadata": {},
   "source": [
    "- TF-IDF (using NLTK stop words)"
   ]
  },
  {
   "cell_type": "code",
   "execution_count": null,
   "metadata": {},
   "outputs": [],
   "source": [
    "# Create a TF-IDF Vectorizer with the stop words list\n",
    "tfidf_vectorizer_1 = TfidfVectorizer(stop_words=stop_words_list)"
   ]
  },
  {
   "cell_type": "code",
   "execution_count": null,
   "metadata": {},
   "outputs": [],
   "source": [
    "#Fit and transform the training data, and transform the test data\n",
    "train_features_1 = tfidf_vectorizer_1.fit_transform(df_reviews_train['review_norm'])\n",
    "test_features_1 = tfidf_vectorizer_1.transform(df_reviews_test['review_norm'])"
   ]
  },
  {
   "cell_type": "markdown",
   "metadata": {},
   "source": [
    "- LR"
   ]
  },
  {
   "cell_type": "code",
   "execution_count": null,
   "metadata": {},
   "outputs": [],
   "source": [
    "#Instantiate and Fit the LR Model\n",
    "lr_model_1 = LogisticRegression()\n",
    "lr_model_1.fit(train_features_1, train_target)"
   ]
  },
  {
   "cell_type": "markdown",
   "metadata": {},
   "source": [
    "- Call function to evaluate model"
   ]
  },
  {
   "cell_type": "code",
   "execution_count": null,
   "metadata": {},
   "outputs": [],
   "source": [
    "evaluate_model(lr_model_1, train_features_1, train_target, test_features_1, test_target)"
   ]
  },
  {
   "cell_type": "markdown",
   "metadata": {},
   "source": [
    "The Logistic Regression model achieved strong performance on both the training and testing datasets. The accuracy and F1 scores for both datasets were high, at 0.94 for training and 0.88 for testing. The Average Precision Score (APS) was also impressive, with scores of 0.98 for training and 0.95 for testing. Additionally, the ROC AUC values were notably high, at 0.98 for training and 0.95 for testing, indicating excellent predictive capability. Overall, the model demonstrates effective classification performance with only a slight drop in test accuracy compared to training."
   ]
  },
  {
   "cell_type": "markdown",
   "metadata": {},
   "source": [
    "### Model 3 - spaCy, TF-IDF and LR"
   ]
  },
  {
   "cell_type": "markdown",
   "metadata": {},
   "source": [
    "- spaCy"
   ]
  },
  {
   "cell_type": "code",
   "execution_count": null,
   "metadata": {},
   "outputs": [],
   "source": [
    "# for processing text for tokenization and part-of-speech tagging\n",
    "nlp = spacy.load('en_core_web_sm', disable=['parser', 'ner'])"
   ]
  },
  {
   "cell_type": "code",
   "execution_count": null,
   "metadata": {},
   "outputs": [],
   "source": [
    "def text_preprocessing_3(text):\n",
    "    \n",
    "    doc = nlp(text)\n",
    "    #tokens = [token.lemma_ for token in doc if not token.is_stop]\n",
    "    tokens = [token.lemma_ for token in doc]\n",
    "    \n",
    "    return ' '.join(tokens)"
   ]
  },
  {
   "cell_type": "markdown",
   "metadata": {},
   "source": [
    "- TF-IDF model using spaCy"
   ]
  },
  {
   "cell_type": "code",
   "execution_count": null,
   "metadata": {},
   "outputs": [],
   "source": [
    "df_reviews_train['review_lemma'] = df_reviews_train['review_norm'].apply(text_preprocessing_3)\n",
    "df_reviews_test['review_lemma'] = df_reviews_test['review_norm'].apply(text_preprocessing_3)"
   ]
  },
  {
   "cell_type": "code",
   "execution_count": null,
   "metadata": {},
   "outputs": [],
   "source": [
    "#Create a TF-IDF Vectorizer\n",
    "tfidf_vectorizer_3 = TfidfVectorizer(stop_words=stop_words)"
   ]
  },
  {
   "cell_type": "code",
   "execution_count": null,
   "metadata": {},
   "outputs": [],
   "source": [
    "#Fit and transform the training data, and transform the test data\n",
    "train_features_3 = tfidf_vectorizer_3.fit_transform(df_reviews_train['review_lemma'])\n",
    "test_features_3 = tfidf_vectorizer_3.transform(df_reviews_test['review_lemma'])"
   ]
  },
  {
   "cell_type": "markdown",
   "metadata": {},
   "source": [
    "- LR"
   ]
  },
  {
   "cell_type": "code",
   "execution_count": null,
   "metadata": {},
   "outputs": [],
   "source": [
    "#Instantiate and Fit the LR Model\n",
    "lr_model_3 = LogisticRegression()\n",
    "lr_model_3.fit(train_features_3, train_target)"
   ]
  },
  {
   "cell_type": "markdown",
   "metadata": {},
   "source": [
    "- Call the function to evaluate the model"
   ]
  },
  {
   "cell_type": "code",
   "execution_count": null,
   "metadata": {
    "scrolled": true
   },
   "outputs": [],
   "source": [
    "evaluate_model(lr_model_3, train_features_3, train_target, test_features_3, test_target)"
   ]
  },
  {
   "cell_type": "markdown",
   "metadata": {},
   "source": [
    "The Logistic Regression model, after utilizing lemmatization in the text preprocessing phase, demonstrated robust performance on both the training and testing datasets. The accuracy and F1 scores remained high, at 0.93 for training and 0.88 for testing, which are consistent with the previous results, indicating a slight improvement in training accuracy from 0.94 to 0.93 but steady test performance. The Average Precision Score (APS) and ROC AUC values continued to show excellent predictive capability, with scores of 0.98 for training and 0.95 for testing, similar to the previous performance metrics. Overall, the lemmatization did not significantly impact the performance, maintaining high accuracy and F1 scores while preserving effective classification capabilities."
   ]
  },
  {
   "cell_type": "markdown",
   "metadata": {},
   "source": [
    "### Model 4 - spaCy, TF-IDF and LGBMClassifier\n",
    "\n"
   ]
  },
  {
   "cell_type": "markdown",
   "metadata": {},
   "source": [
    "- Light GBM"
   ]
  },
  {
   "cell_type": "code",
   "execution_count": null,
   "metadata": {},
   "outputs": [],
   "source": [
    "#Instantiate and Fit the LGBMClassifier Model\n",
    "LGBM_model_4 = LGBMClassifier()"
   ]
  },
  {
   "cell_type": "markdown",
   "metadata": {},
   "source": [
    "- fit TF-IDF with spaCy"
   ]
  },
  {
   "cell_type": "code",
   "execution_count": null,
   "metadata": {},
   "outputs": [],
   "source": [
    "LGBM_model_4.fit(train_features_3, train_target)"
   ]
  },
  {
   "cell_type": "code",
   "execution_count": null,
   "metadata": {},
   "outputs": [],
   "source": [
    "evaluate_model(LGBM_model_4, train_features_3, train_target, test_features_3, test_target)"
   ]
  },
  {
   "cell_type": "markdown",
   "metadata": {},
   "source": [
    "The LightGBM model demonstrated a decrease in both training and testing accuracy (0.91 and 0.86, respectively) compared to the previous models, where both were at 0.93 and 0.88. The F1 score also shows a reduction, demonstrating LightGBM's lower performance compared to Logistic Regression and the intermediate model.\n",
    "Average Precision Score and ROC AUC values also decreased for LightGBM (APS: 0.97 train, 0.93 test; ROC AUC: 0.97 train, 0.93 test), indicating it has a weaker ability to classify positive instances compared to the previous models."
   ]
  },
  {
   "cell_type": "markdown",
   "metadata": {},
   "source": [
    "###  Adding my own reviews."
   ]
  },
  {
   "cell_type": "code",
   "execution_count": null,
   "metadata": {},
   "outputs": [],
   "source": [
    "my_reviews = pd.DataFrame([\n",
    "    'The movie was boring. I did not enjoy watching it at all.',\n",
    "    'I actually fell asleep in the middle of the movie. It was so boring',\n",
    "    'I absolutely loved everything about this movie.',    \n",
    "    'The acting was horrible. The script was confusing. The sound effects were scary. I hated this movie. I want my money back.',\n",
    "    'I didn\\'t expect this movie to be so good! It was my favorite movie of the year.',\n",
    "    'The movie started out slow, but then it got good. I can\\'t believe how much fun I had watching it.',\n",
    "    'What a rotten attempt at a comedy. Not a single joke was funny. I won\\'t be watching this movie again!',\n",
    "    'Hated it. Really hated it.',\n",
    "    'Everyone loved this movie. It was so fun from start to finish.',\n",
    "    'I was confused. Was this a comeday, action, or drama? The plot twisted too much, and it was just a plethora of confusion.'\n",
    "], columns=['review'])"
   ]
  },
  {
   "cell_type": "code",
   "execution_count": null,
   "metadata": {},
   "outputs": [],
   "source": [
    "my_reviews['review_norm'] = my_reviews['review'].str.lower()"
   ]
  },
  {
   "cell_type": "code",
   "execution_count": null,
   "metadata": {},
   "outputs": [],
   "source": [
    "# Replace any one or more consecutive digit(0-9), with empty string.\n",
    "my_reviews['review_norm'] = my_reviews['review_norm'].str.replace(r'\\d+', '', regex=True)\n",
    "\n",
    "# Replace anything that is not a word or a space with empty string.\n",
    "my_reviews['review_norm'] = my_reviews['review_norm'].str.replace(r'[^\\w\\s]', '', regex=True)"
   ]
  },
  {
   "cell_type": "code",
   "execution_count": null,
   "metadata": {},
   "outputs": [],
   "source": [
    "# Apply text preprocessing on custom reviews. Lemmatization.\n",
    "my_reviews['review_lemma'] = my_reviews['review_norm'].apply(text_preprocessing_3)"
   ]
  },
  {
   "cell_type": "code",
   "execution_count": null,
   "metadata": {},
   "outputs": [],
   "source": [
    "print(my_reviews['review_lemma'])"
   ]
  },
  {
   "cell_type": "markdown",
   "metadata": {},
   "source": [
    "- TF-IDF"
   ]
  },
  {
   "cell_type": "code",
   "execution_count": null,
   "metadata": {},
   "outputs": [],
   "source": [
    "# Transform custom reviews using the trained TF-IDF vectorizer\n",
    "my_features_3 = tfidf_vectorizer_3.transform(my_reviews['review_lemma'])"
   ]
  },
  {
   "cell_type": "code",
   "execution_count": null,
   "metadata": {},
   "outputs": [],
   "source": [
    "# Predict sentiment using the trained logistic regression model (or LGBM model if preferred)\n",
    "predictions = lr_model_3.predict(my_features_3)"
   ]
  },
  {
   "cell_type": "code",
   "execution_count": null,
   "metadata": {},
   "outputs": [],
   "source": [
    "# Display the predictions\n",
    "print(predictions)"
   ]
  },
  {
   "cell_type": "markdown",
   "metadata": {},
   "source": [
    "The model predicted all of my reviews correctly, with negative reviews being marked as False, and positive reviews being marked as True."
   ]
  },
  {
   "cell_type": "markdown",
   "metadata": {},
   "source": [
    "### Linear Regression Model on my_reviews"
   ]
  },
  {
   "cell_type": "code",
   "execution_count": null,
   "metadata": {},
   "outputs": [],
   "source": [
    "texts = my_reviews['review_norm']\n",
    "\n",
    "my_reviews_pred_prob3 = lr_model_3.predict_proba(tfidf_vectorizer_3.transform(texts.apply(lambda x: text_preprocessing_3(x))))[:, 1]\n",
    "\n",
    "for i, review in enumerate(texts.str.slice(0, 100)):\n",
    "    print(f'{my_reviews_pred_prob3[i]:.2f}:  {review}')"
   ]
  },
  {
   "cell_type": "markdown",
   "metadata": {},
   "source": [
    "The first column is the percentage of probability of a review being positive. (0.18 means 18\\% probabilty)The only review that the model did not predict accurately was the 5th review, which was positive, but it was only given 57\\% probability rate."
   ]
  },
  {
   "cell_type": "markdown",
   "metadata": {},
   "source": [
    "### LGBM Model on my_reviews"
   ]
  },
  {
   "cell_type": "code",
   "execution_count": null,
   "metadata": {},
   "outputs": [],
   "source": [
    "texts = my_reviews['review_norm']\n",
    "\n",
    "tfidf_vectorizer_4 = tfidf_vectorizer_3\n",
    "my_reviews_pred_prob = LGBM_model_4.predict_proba(tfidf_vectorizer_4.transform(texts.apply(lambda x: text_preprocessing_3(x))))[:, 1]\n",
    "\n",
    "for i, review in enumerate(texts.str.slice(0, 100)):\n",
    "    print(f'{my_reviews_pred_prob[i]:.2f}:  {review}')"
   ]
  },
  {
   "cell_type": "markdown",
   "metadata": {},
   "source": [
    "The LGBM model was not as accurate as the Linear Regression model, but still did very good. It is interesting, that on the 8th review, which uses the word \"hate\", that the LGBM model marked this as a 64\\% chance of being positive."
   ]
  },
  {
   "cell_type": "markdown",
   "metadata": {},
   "source": [
    "### Random Forest Model on my_reviews"
   ]
  },
  {
   "cell_type": "code",
   "execution_count": null,
   "metadata": {},
   "outputs": [],
   "source": [
    "from sklearn.ensemble import RandomForestClassifier\n",
    "from sklearn.model_selection import cross_val_predict\n",
    "\n",
    "# Apply vectorization on the lemmatized reviews\n",
    "features = tfidf_vectorizer_3.fit_transform(my_reviews['review_lemma'])\n",
    "my_reviews['label'] = [0, 0, 1, 0, 1, 1, 0, 0, 1, 0] \n",
    "\n",
    "rf_model = RandomForestClassifier(n_estimators=100, random_state=42)\n",
    "\n",
    "# Perform cross-validation and predict probabilities\n",
    "predicted_probs = cross_val_predict(\n",
    "    rf_model,\n",
    "    features,\n",
    "    my_reviews['label'],\n",
    "    cv=5,\n",
    "    method='predict_proba'\n",
    ")[:, 1]\n",
    "\n",
    "for i, review in enumerate(my_reviews['review_norm'].str.slice(0, 100)):\n",
    "    print(f'{predicted_probs[i]:.2f}:  {review}')"
   ]
  },
  {
   "cell_type": "markdown",
   "metadata": {},
   "source": [
    "This random forest only predicted correctly 30\\% of the time."
   ]
  },
  {
   "cell_type": "markdown",
   "metadata": {},
   "source": [
    "## Conclusions"
   ]
  },
  {
   "cell_type": "markdown",
   "metadata": {},
   "source": [
    "The primary objective of this project was to develop a sentiment analysis model for classifying movie reviews as either positive or negative. To achieve this, I employed various preprocessing techniques, including normalization, tokenization, and lemmatization, followed by feature extraction using TF-IDF vectorization. I then trained and evaluated models, such as Logistic Regression and LGBMClassifier to assess their performance.\n",
    "\n",
    "The models demonstrated strong predictive capability, with the Logistic Regression model trained on lemmatized reviews providing particularly reliable results. This project also highlighted the importance of text preprocessing in enhancing model accuracy and the effectiveness of transformer-based embeddings for capturing nuanced semantic information. In conclusion, this project successfully developed a capable sentiment analysis system."
   ]
  }
 ],
 "metadata": {
  "ExecuteTimeLog": [
   {
    "duration": 2488,
    "start_time": "2024-11-30T04:03:12.664Z"
   },
   {
    "duration": 8,
    "start_time": "2024-11-30T04:03:15.154Z"
   },
   {
    "duration": 2602,
    "start_time": "2024-12-01T04:56:15.281Z"
   },
   {
    "duration": 9,
    "start_time": "2024-12-01T04:56:46.485Z"
   },
   {
    "duration": 2529,
    "start_time": "2024-12-01T07:11:09.095Z"
   },
   {
    "duration": 9,
    "start_time": "2024-12-01T07:11:11.626Z"
   },
   {
    "duration": 2,
    "start_time": "2024-12-01T07:11:11.636Z"
   },
   {
    "duration": 212,
    "start_time": "2024-12-01T07:11:16.359Z"
   },
   {
    "duration": 12,
    "start_time": "2024-12-01T07:11:25.715Z"
   },
   {
    "duration": 680,
    "start_time": "2024-12-01T07:11:28.497Z"
   },
   {
    "duration": 12,
    "start_time": "2024-12-01T07:11:31.561Z"
   },
   {
    "duration": 4,
    "start_time": "2024-12-01T07:11:38.855Z"
   },
   {
    "duration": 14,
    "start_time": "2024-12-01T07:11:50.386Z"
   },
   {
    "duration": 28,
    "start_time": "2024-12-01T07:11:56.312Z"
   },
   {
    "duration": 40,
    "start_time": "2024-12-01T07:12:29.425Z"
   },
   {
    "duration": 3165,
    "start_time": "2024-12-01T07:12:42.914Z"
   },
   {
    "duration": 859,
    "start_time": "2024-12-01T07:14:19.030Z"
   },
   {
    "duration": 5,
    "start_time": "2024-12-01T07:15:12.960Z"
   },
   {
    "duration": 4,
    "start_time": "2024-12-01T07:17:19.099Z"
   },
   {
    "duration": 3,
    "start_time": "2024-12-01T07:17:57.997Z"
   },
   {
    "duration": 4,
    "start_time": "2024-12-01T07:20:39.795Z"
   },
   {
    "duration": 4,
    "start_time": "2024-12-01T07:20:40.743Z"
   },
   {
    "duration": 3,
    "start_time": "2024-12-01T07:20:41.286Z"
   },
   {
    "duration": 421,
    "start_time": "2024-12-01T07:20:41.931Z"
   },
   {
    "duration": 4,
    "start_time": "2024-12-01T07:21:39.352Z"
   },
   {
    "duration": 3,
    "start_time": "2024-12-01T07:21:40.622Z"
   },
   {
    "duration": 3,
    "start_time": "2024-12-01T07:21:41.818Z"
   },
   {
    "duration": 790,
    "start_time": "2024-12-01T07:21:45.571Z"
   },
   {
    "duration": 19,
    "start_time": "2024-12-01T07:23:31.657Z"
   },
   {
    "duration": 13,
    "start_time": "2024-12-01T07:29:14.914Z"
   },
   {
    "duration": 3,
    "start_time": "2024-12-01T07:29:26.649Z"
   },
   {
    "duration": 9,
    "start_time": "2024-12-01T07:29:26.656Z"
   },
   {
    "duration": 3,
    "start_time": "2024-12-01T07:29:26.667Z"
   },
   {
    "duration": 601,
    "start_time": "2024-12-01T07:29:26.671Z"
   },
   {
    "duration": 4,
    "start_time": "2024-12-01T07:29:27.273Z"
   },
   {
    "duration": 22,
    "start_time": "2024-12-01T07:29:27.286Z"
   },
   {
    "duration": 7,
    "start_time": "2024-12-01T07:29:36.118Z"
   },
   {
    "duration": 8,
    "start_time": "2024-12-01T07:37:10.786Z"
   },
   {
    "duration": 8,
    "start_time": "2024-12-01T07:38:44.637Z"
   },
   {
    "duration": 7,
    "start_time": "2024-12-01T07:39:35.978Z"
   },
   {
    "duration": 7,
    "start_time": "2024-12-01T07:40:53.846Z"
   },
   {
    "duration": 5,
    "start_time": "2024-12-01T07:43:52.572Z"
   },
   {
    "duration": 3,
    "start_time": "2024-12-01T07:45:57.699Z"
   },
   {
    "duration": 7,
    "start_time": "2024-12-01T07:45:57.706Z"
   },
   {
    "duration": 2,
    "start_time": "2024-12-01T07:45:57.715Z"
   },
   {
    "duration": 617,
    "start_time": "2024-12-01T07:45:57.719Z"
   },
   {
    "duration": 3,
    "start_time": "2024-12-01T07:45:58.346Z"
   },
   {
    "duration": 25,
    "start_time": "2024-12-01T07:45:58.352Z"
   },
   {
    "duration": 24,
    "start_time": "2024-12-01T07:45:58.379Z"
   },
   {
    "duration": 38,
    "start_time": "2024-12-01T07:45:58.405Z"
   },
   {
    "duration": 7,
    "start_time": "2024-12-01T07:45:58.445Z"
   },
   {
    "duration": 34,
    "start_time": "2024-12-01T07:45:58.453Z"
   },
   {
    "duration": 7,
    "start_time": "2024-12-01T07:45:58.488Z"
   },
   {
    "duration": 7,
    "start_time": "2024-12-01T07:45:58.497Z"
   },
   {
    "duration": 5,
    "start_time": "2024-12-01T07:45:58.506Z"
   },
   {
    "duration": 5,
    "start_time": "2024-12-01T07:46:01.247Z"
   },
   {
    "duration": 3,
    "start_time": "2024-12-01T07:46:02.918Z"
   },
   {
    "duration": 7,
    "start_time": "2024-12-01T07:47:23.603Z"
   },
   {
    "duration": 7,
    "start_time": "2024-12-01T07:49:08.329Z"
   },
   {
    "duration": 8,
    "start_time": "2024-12-01T07:49:10.239Z"
   },
   {
    "duration": 6,
    "start_time": "2024-12-01T07:49:19.742Z"
   },
   {
    "duration": 25,
    "start_time": "2024-12-01T07:49:39.934Z"
   },
   {
    "duration": 3,
    "start_time": "2024-12-01T07:50:09.238Z"
   },
   {
    "duration": 3,
    "start_time": "2024-12-01T07:50:10.518Z"
   },
   {
    "duration": 3,
    "start_time": "2024-12-01T07:50:33.975Z"
   },
   {
    "duration": 3,
    "start_time": "2024-12-01T07:51:11.462Z"
   },
   {
    "duration": 7,
    "start_time": "2024-12-01T07:51:11.468Z"
   },
   {
    "duration": 3,
    "start_time": "2024-12-01T07:51:11.478Z"
   },
   {
    "duration": 582,
    "start_time": "2024-12-01T07:51:11.483Z"
   },
   {
    "duration": 4,
    "start_time": "2024-12-01T07:51:12.067Z"
   },
   {
    "duration": 38,
    "start_time": "2024-12-01T07:51:12.074Z"
   },
   {
    "duration": 21,
    "start_time": "2024-12-01T07:51:12.114Z"
   },
   {
    "duration": 55,
    "start_time": "2024-12-01T07:51:12.138Z"
   },
   {
    "duration": 8,
    "start_time": "2024-12-01T07:51:12.195Z"
   },
   {
    "duration": 7,
    "start_time": "2024-12-01T07:51:12.205Z"
   },
   {
    "duration": 8,
    "start_time": "2024-12-01T07:51:12.214Z"
   },
   {
    "duration": 7,
    "start_time": "2024-12-01T07:51:12.224Z"
   },
   {
    "duration": 5,
    "start_time": "2024-12-01T07:51:12.232Z"
   },
   {
    "duration": 3,
    "start_time": "2024-12-01T07:51:12.239Z"
   },
   {
    "duration": 43,
    "start_time": "2024-12-01T07:51:12.246Z"
   },
   {
    "duration": 7,
    "start_time": "2024-12-01T07:51:12.290Z"
   },
   {
    "duration": 5,
    "start_time": "2024-12-01T07:51:12.299Z"
   },
   {
    "duration": 26,
    "start_time": "2024-12-01T07:51:12.308Z"
   },
   {
    "duration": 4,
    "start_time": "2024-12-01T07:51:12.335Z"
   },
   {
    "duration": 4,
    "start_time": "2024-12-01T07:51:13.865Z"
   },
   {
    "duration": 4,
    "start_time": "2024-12-01T07:51:15.745Z"
   },
   {
    "duration": 3,
    "start_time": "2024-12-01T07:51:38.095Z"
   },
   {
    "duration": 761,
    "start_time": "2024-12-01T07:51:55.446Z"
   },
   {
    "duration": 7,
    "start_time": "2024-12-01T07:51:56.209Z"
   },
   {
    "duration": 2,
    "start_time": "2024-12-01T07:51:56.218Z"
   },
   {
    "duration": 607,
    "start_time": "2024-12-01T07:51:56.223Z"
   },
   {
    "duration": 5,
    "start_time": "2024-12-01T07:51:56.831Z"
   },
   {
    "duration": 23,
    "start_time": "2024-12-01T07:51:56.837Z"
   },
   {
    "duration": 40,
    "start_time": "2024-12-01T07:51:56.862Z"
   },
   {
    "duration": 38,
    "start_time": "2024-12-01T07:51:56.903Z"
   },
   {
    "duration": 7,
    "start_time": "2024-12-01T07:51:56.942Z"
   },
   {
    "duration": 9,
    "start_time": "2024-12-01T07:51:56.952Z"
   },
   {
    "duration": 27,
    "start_time": "2024-12-01T07:51:56.962Z"
   },
   {
    "duration": 8,
    "start_time": "2024-12-01T07:51:56.991Z"
   },
   {
    "duration": 4,
    "start_time": "2024-12-01T07:51:57.001Z"
   },
   {
    "duration": 4,
    "start_time": "2024-12-01T07:51:57.006Z"
   },
   {
    "duration": 7,
    "start_time": "2024-12-01T07:51:57.012Z"
   },
   {
    "duration": 8,
    "start_time": "2024-12-01T07:51:57.021Z"
   },
   {
    "duration": 5,
    "start_time": "2024-12-01T07:51:57.030Z"
   },
   {
    "duration": 64,
    "start_time": "2024-12-01T07:51:57.037Z"
   },
   {
    "duration": 3,
    "start_time": "2024-12-01T07:51:57.103Z"
   },
   {
    "duration": 4,
    "start_time": "2024-12-01T07:51:57.108Z"
   },
   {
    "duration": 3,
    "start_time": "2024-12-01T07:52:01.115Z"
   },
   {
    "duration": 3,
    "start_time": "2024-12-01T07:52:07.649Z"
   },
   {
    "duration": 927,
    "start_time": "2024-12-01T07:52:13.083Z"
   },
   {
    "duration": 4,
    "start_time": "2024-12-01T07:52:56.757Z"
   },
   {
    "duration": 24,
    "start_time": "2024-12-01T07:53:29.603Z"
   },
   {
    "duration": 3,
    "start_time": "2024-12-01T07:53:37.743Z"
   },
   {
    "duration": 9,
    "start_time": "2024-12-01T07:53:37.748Z"
   },
   {
    "duration": 2,
    "start_time": "2024-12-01T07:53:37.760Z"
   },
   {
    "duration": 612,
    "start_time": "2024-12-01T07:53:37.764Z"
   },
   {
    "duration": 3,
    "start_time": "2024-12-01T07:53:38.378Z"
   },
   {
    "duration": 22,
    "start_time": "2024-12-01T07:53:38.386Z"
   },
   {
    "duration": 19,
    "start_time": "2024-12-01T07:53:38.410Z"
   },
   {
    "duration": 57,
    "start_time": "2024-12-01T07:53:38.430Z"
   },
   {
    "duration": 7,
    "start_time": "2024-12-01T07:53:38.489Z"
   },
   {
    "duration": 9,
    "start_time": "2024-12-01T07:53:38.497Z"
   },
   {
    "duration": 6,
    "start_time": "2024-12-01T07:53:38.509Z"
   },
   {
    "duration": 8,
    "start_time": "2024-12-01T07:53:38.517Z"
   },
   {
    "duration": 5,
    "start_time": "2024-12-01T07:53:38.526Z"
   },
   {
    "duration": 3,
    "start_time": "2024-12-01T07:53:38.532Z"
   },
   {
    "duration": 7,
    "start_time": "2024-12-01T07:53:38.537Z"
   },
   {
    "duration": 45,
    "start_time": "2024-12-01T07:53:38.546Z"
   },
   {
    "duration": 6,
    "start_time": "2024-12-01T07:53:38.593Z"
   },
   {
    "duration": 5,
    "start_time": "2024-12-01T07:53:38.600Z"
   },
   {
    "duration": 2,
    "start_time": "2024-12-01T07:53:38.607Z"
   },
   {
    "duration": 3,
    "start_time": "2024-12-01T07:53:38.611Z"
   },
   {
    "duration": 4,
    "start_time": "2024-12-01T07:53:38.616Z"
   },
   {
    "duration": 21,
    "start_time": "2024-12-01T07:53:38.621Z"
   },
   {
    "duration": 25,
    "start_time": "2024-12-01T07:54:07.624Z"
   },
   {
    "duration": 3174,
    "start_time": "2024-12-01T07:54:17.297Z"
   },
   {
    "duration": 851,
    "start_time": "2024-12-01T07:55:23.835Z"
   },
   {
    "duration": 5,
    "start_time": "2024-12-01T07:56:29.549Z"
   },
   {
    "duration": 419,
    "start_time": "2024-12-01T07:56:48.262Z"
   },
   {
    "duration": 3964,
    "start_time": "2024-12-01T07:58:09.299Z"
   },
   {
    "duration": 3987,
    "start_time": "2024-12-01T07:59:56.839Z"
   },
   {
    "duration": 4173,
    "start_time": "2024-12-01T08:01:00.788Z"
   },
   {
    "duration": 135,
    "start_time": "2024-12-01T08:02:14.320Z"
   },
   {
    "duration": 10,
    "start_time": "2024-12-01T08:08:20.025Z"
   },
   {
    "duration": 92,
    "start_time": "2024-12-01T08:11:29.408Z"
   },
   {
    "duration": 1607,
    "start_time": "2024-12-01T08:17:46.349Z"
   },
   {
    "duration": 34,
    "start_time": "2024-12-01T08:18:29.107Z"
   },
   {
    "duration": 21,
    "start_time": "2024-12-01T08:19:16.224Z"
   },
   {
    "duration": 2568,
    "start_time": "2024-12-02T02:28:36.862Z"
   },
   {
    "duration": 8,
    "start_time": "2024-12-02T02:28:39.432Z"
   },
   {
    "duration": 3,
    "start_time": "2024-12-02T02:28:39.788Z"
   },
   {
    "duration": 686,
    "start_time": "2024-12-02T02:28:47.061Z"
   },
   {
    "duration": 4,
    "start_time": "2024-12-02T02:28:48.970Z"
   },
   {
    "duration": 27,
    "start_time": "2024-12-02T02:28:50.164Z"
   },
   {
    "duration": 20,
    "start_time": "2024-12-02T02:28:52.197Z"
   },
   {
    "duration": 39,
    "start_time": "2024-12-02T02:28:54.364Z"
   },
   {
    "duration": 8,
    "start_time": "2024-12-02T02:29:00.524Z"
   },
   {
    "duration": 7,
    "start_time": "2024-12-02T02:29:09.338Z"
   },
   {
    "duration": 8,
    "start_time": "2024-12-02T02:29:11.145Z"
   },
   {
    "duration": 9,
    "start_time": "2024-12-02T02:31:00.768Z"
   },
   {
    "duration": 5,
    "start_time": "2024-12-02T02:31:03.217Z"
   },
   {
    "duration": 3,
    "start_time": "2024-12-02T02:51:09.506Z"
   },
   {
    "duration": 7,
    "start_time": "2024-12-02T02:51:09.511Z"
   },
   {
    "duration": 3,
    "start_time": "2024-12-02T02:51:09.520Z"
   },
   {
    "duration": 600,
    "start_time": "2024-12-02T02:51:09.525Z"
   },
   {
    "duration": 7,
    "start_time": "2024-12-02T02:51:10.129Z"
   },
   {
    "duration": 31,
    "start_time": "2024-12-02T02:51:10.138Z"
   },
   {
    "duration": 33,
    "start_time": "2024-12-02T02:51:10.171Z"
   },
   {
    "duration": 47,
    "start_time": "2024-12-02T02:51:10.206Z"
   },
   {
    "duration": 7,
    "start_time": "2024-12-02T02:51:10.256Z"
   },
   {
    "duration": 28,
    "start_time": "2024-12-02T02:51:10.265Z"
   },
   {
    "duration": 6,
    "start_time": "2024-12-02T02:51:10.295Z"
   },
   {
    "duration": 2,
    "start_time": "2024-12-02T02:56:20.213Z"
   },
   {
    "duration": 7,
    "start_time": "2024-12-02T02:56:20.218Z"
   },
   {
    "duration": 3,
    "start_time": "2024-12-02T02:56:20.227Z"
   },
   {
    "duration": 577,
    "start_time": "2024-12-02T02:56:20.231Z"
   },
   {
    "duration": 3,
    "start_time": "2024-12-02T02:56:20.811Z"
   },
   {
    "duration": 22,
    "start_time": "2024-12-02T02:56:20.816Z"
   },
   {
    "duration": 18,
    "start_time": "2024-12-02T02:56:20.839Z"
   },
   {
    "duration": 62,
    "start_time": "2024-12-02T02:56:20.859Z"
   },
   {
    "duration": 7,
    "start_time": "2024-12-02T02:56:25.670Z"
   },
   {
    "duration": 7,
    "start_time": "2024-12-02T02:56:26.558Z"
   },
   {
    "duration": 9,
    "start_time": "2024-12-02T02:56:27.940Z"
   },
   {
    "duration": 5,
    "start_time": "2024-12-02T02:56:29.493Z"
   },
   {
    "duration": 3,
    "start_time": "2024-12-02T02:56:29.885Z"
   },
   {
    "duration": 7,
    "start_time": "2024-12-02T02:56:30.845Z"
   },
   {
    "duration": 7,
    "start_time": "2024-12-02T02:56:31.381Z"
   },
   {
    "duration": 6,
    "start_time": "2024-12-02T02:56:31.736Z"
   },
   {
    "duration": 4,
    "start_time": "2024-12-02T02:56:33.388Z"
   },
   {
    "duration": 4,
    "start_time": "2024-12-02T02:56:33.941Z"
   },
   {
    "duration": 4,
    "start_time": "2024-12-02T02:56:34.900Z"
   },
   {
    "duration": 5,
    "start_time": "2024-12-02T02:56:35.269Z"
   },
   {
    "duration": 26,
    "start_time": "2024-12-02T02:56:35.637Z"
   },
   {
    "duration": 3151,
    "start_time": "2024-12-02T02:56:37.744Z"
   },
   {
    "duration": 840,
    "start_time": "2024-12-02T02:58:15.823Z"
   },
   {
    "duration": 469,
    "start_time": "2024-12-02T03:00:13.035Z"
   },
   {
    "duration": 3963,
    "start_time": "2024-12-02T03:00:32.655Z"
   },
   {
    "duration": 228,
    "start_time": "2024-12-02T03:00:57.847Z"
   },
   {
    "duration": 92,
    "start_time": "2024-12-02T03:01:27.490Z"
   },
   {
    "duration": 1640,
    "start_time": "2024-12-02T03:01:31.681Z"
   },
   {
    "duration": 1151,
    "start_time": "2024-12-02T03:02:36.818Z"
   },
   {
    "duration": 34,
    "start_time": "2024-12-02T03:02:37.971Z"
   },
   {
    "duration": 21,
    "start_time": "2024-12-02T03:03:50.906Z"
   },
   {
    "duration": 17,
    "start_time": "2024-12-02T03:04:21.943Z"
   },
   {
    "duration": 18,
    "start_time": "2024-12-02T03:04:28.170Z"
   },
   {
    "duration": 18,
    "start_time": "2024-12-02T03:04:55.038Z"
   },
   {
    "duration": 18,
    "start_time": "2024-12-02T03:07:18.040Z"
   },
   {
    "duration": 810,
    "start_time": "2024-12-02T03:17:09.106Z"
   },
   {
    "duration": 7,
    "start_time": "2024-12-02T03:17:09.918Z"
   },
   {
    "duration": 3,
    "start_time": "2024-12-02T03:17:09.927Z"
   },
   {
    "duration": 604,
    "start_time": "2024-12-02T03:17:09.933Z"
   },
   {
    "duration": 4,
    "start_time": "2024-12-02T03:17:10.538Z"
   },
   {
    "duration": 23,
    "start_time": "2024-12-02T03:17:10.544Z"
   },
   {
    "duration": 32,
    "start_time": "2024-12-02T03:17:10.568Z"
   },
   {
    "duration": 39,
    "start_time": "2024-12-02T03:17:10.602Z"
   },
   {
    "duration": 7,
    "start_time": "2024-12-02T03:17:10.642Z"
   },
   {
    "duration": 7,
    "start_time": "2024-12-02T03:17:10.652Z"
   },
   {
    "duration": 28,
    "start_time": "2024-12-02T03:17:10.661Z"
   },
   {
    "duration": 4,
    "start_time": "2024-12-02T03:17:10.691Z"
   },
   {
    "duration": 4,
    "start_time": "2024-12-02T03:17:10.696Z"
   },
   {
    "duration": 7,
    "start_time": "2024-12-02T03:17:10.701Z"
   },
   {
    "duration": 9,
    "start_time": "2024-12-02T03:17:10.709Z"
   },
   {
    "duration": 5,
    "start_time": "2024-12-02T03:17:10.719Z"
   },
   {
    "duration": 3,
    "start_time": "2024-12-02T03:17:10.726Z"
   },
   {
    "duration": 4,
    "start_time": "2024-12-02T03:17:10.731Z"
   },
   {
    "duration": 49,
    "start_time": "2024-12-02T03:17:10.736Z"
   },
   {
    "duration": 3,
    "start_time": "2024-12-02T03:17:10.787Z"
   },
   {
    "duration": 23,
    "start_time": "2024-12-02T03:17:10.792Z"
   },
   {
    "duration": 3151,
    "start_time": "2024-12-02T03:17:10.816Z"
   },
   {
    "duration": 849,
    "start_time": "2024-12-02T03:17:13.969Z"
   },
   {
    "duration": 470,
    "start_time": "2024-12-02T03:17:14.821Z"
   },
   {
    "duration": 3974,
    "start_time": "2024-12-02T03:17:15.293Z"
   },
   {
    "duration": 134,
    "start_time": "2024-12-02T03:17:19.268Z"
   },
   {
    "duration": 101,
    "start_time": "2024-12-02T03:17:19.404Z"
   },
   {
    "duration": 1600,
    "start_time": "2024-12-02T03:17:19.510Z"
   },
   {
    "duration": 29,
    "start_time": "2024-12-02T03:17:21.112Z"
   },
   {
    "duration": 19,
    "start_time": "2024-12-02T03:17:21.143Z"
   },
   {
    "duration": 22,
    "start_time": "2024-12-02T03:17:21.164Z"
   },
   {
    "duration": 2,
    "start_time": "2024-12-02T03:17:21.188Z"
   },
   {
    "duration": 5,
    "start_time": "2024-12-02T03:17:21.192Z"
   },
   {
    "duration": 803,
    "start_time": "2024-12-02T03:17:21.199Z"
   },
   {
    "duration": 2,
    "start_time": "2024-12-02T03:39:07.169Z"
   },
   {
    "duration": 3,
    "start_time": "2024-12-02T03:39:51.252Z"
   },
   {
    "duration": 966,
    "start_time": "2024-12-02T03:45:41.376Z"
   },
   {
    "duration": 9,
    "start_time": "2024-12-02T03:45:42.344Z"
   },
   {
    "duration": 2,
    "start_time": "2024-12-02T03:45:42.355Z"
   },
   {
    "duration": 622,
    "start_time": "2024-12-02T03:45:42.359Z"
   },
   {
    "duration": 5,
    "start_time": "2024-12-02T03:45:42.983Z"
   },
   {
    "duration": 25,
    "start_time": "2024-12-02T03:45:42.989Z"
   },
   {
    "duration": 22,
    "start_time": "2024-12-02T03:45:43.016Z"
   },
   {
    "duration": 65,
    "start_time": "2024-12-02T03:45:43.039Z"
   },
   {
    "duration": 8,
    "start_time": "2024-12-02T03:45:43.106Z"
   },
   {
    "duration": 14,
    "start_time": "2024-12-02T03:45:43.118Z"
   },
   {
    "duration": 15,
    "start_time": "2024-12-02T03:45:43.134Z"
   },
   {
    "duration": 7,
    "start_time": "2024-12-02T03:45:43.151Z"
   },
   {
    "duration": 6,
    "start_time": "2024-12-02T03:45:43.167Z"
   },
   {
    "duration": 19,
    "start_time": "2024-12-02T03:45:43.174Z"
   },
   {
    "duration": 9,
    "start_time": "2024-12-02T03:45:43.197Z"
   },
   {
    "duration": 6,
    "start_time": "2024-12-02T03:45:43.207Z"
   },
   {
    "duration": 3,
    "start_time": "2024-12-02T03:45:43.215Z"
   },
   {
    "duration": 4,
    "start_time": "2024-12-02T03:45:43.219Z"
   },
   {
    "duration": 3,
    "start_time": "2024-12-02T03:45:43.225Z"
   },
   {
    "duration": 3,
    "start_time": "2024-12-02T03:45:43.230Z"
   },
   {
    "duration": 69,
    "start_time": "2024-12-02T03:45:43.235Z"
   },
   {
    "duration": 3201,
    "start_time": "2024-12-02T03:45:43.306Z"
   },
   {
    "duration": 847,
    "start_time": "2024-12-02T03:45:46.509Z"
   },
   {
    "duration": 432,
    "start_time": "2024-12-02T03:45:47.358Z"
   },
   {
    "duration": 3934,
    "start_time": "2024-12-02T03:45:47.792Z"
   },
   {
    "duration": 3,
    "start_time": "2024-12-02T03:46:44.378Z"
   },
   {
    "duration": 7,
    "start_time": "2024-12-02T03:46:44.390Z"
   },
   {
    "duration": 3,
    "start_time": "2024-12-02T03:46:44.399Z"
   },
   {
    "duration": 607,
    "start_time": "2024-12-02T03:46:44.404Z"
   },
   {
    "duration": 6,
    "start_time": "2024-12-02T03:46:45.014Z"
   },
   {
    "duration": 33,
    "start_time": "2024-12-02T03:46:45.023Z"
   },
   {
    "duration": 37,
    "start_time": "2024-12-02T03:46:45.058Z"
   },
   {
    "duration": 38,
    "start_time": "2024-12-02T03:46:45.097Z"
   },
   {
    "duration": 7,
    "start_time": "2024-12-02T03:46:45.137Z"
   },
   {
    "duration": 7,
    "start_time": "2024-12-02T03:46:45.146Z"
   },
   {
    "duration": 31,
    "start_time": "2024-12-02T03:46:45.155Z"
   },
   {
    "duration": 4,
    "start_time": "2024-12-02T03:46:45.188Z"
   },
   {
    "duration": 3,
    "start_time": "2024-12-02T03:46:45.194Z"
   },
   {
    "duration": 7,
    "start_time": "2024-12-02T03:46:45.198Z"
   },
   {
    "duration": 7,
    "start_time": "2024-12-02T03:46:45.208Z"
   },
   {
    "duration": 6,
    "start_time": "2024-12-02T03:46:45.217Z"
   },
   {
    "duration": 4,
    "start_time": "2024-12-02T03:46:45.224Z"
   },
   {
    "duration": 3,
    "start_time": "2024-12-02T03:46:45.230Z"
   },
   {
    "duration": 3,
    "start_time": "2024-12-02T03:46:45.235Z"
   },
   {
    "duration": 46,
    "start_time": "2024-12-02T03:46:45.240Z"
   },
   {
    "duration": 25,
    "start_time": "2024-12-02T03:46:45.288Z"
   },
   {
    "duration": 3177,
    "start_time": "2024-12-02T03:46:45.314Z"
   },
   {
    "duration": 829,
    "start_time": "2024-12-02T03:46:48.492Z"
   },
   {
    "duration": 419,
    "start_time": "2024-12-02T03:46:49.323Z"
   },
   {
    "duration": 4001,
    "start_time": "2024-12-02T03:46:49.744Z"
   },
   {
    "duration": 110,
    "start_time": "2024-12-02T03:46:53.748Z"
   },
   {
    "duration": 3,
    "start_time": "2024-12-02T03:50:42.550Z"
   },
   {
    "duration": 7,
    "start_time": "2024-12-02T03:50:43.087Z"
   },
   {
    "duration": 4,
    "start_time": "2024-12-02T03:50:43.637Z"
   },
   {
    "duration": 587,
    "start_time": "2024-12-02T03:50:44.558Z"
   },
   {
    "duration": 3,
    "start_time": "2024-12-02T03:50:45.148Z"
   },
   {
    "duration": 27,
    "start_time": "2024-12-02T03:50:46.335Z"
   },
   {
    "duration": 19,
    "start_time": "2024-12-02T03:50:46.659Z"
   },
   {
    "duration": 38,
    "start_time": "2024-12-02T03:50:47.107Z"
   },
   {
    "duration": 8,
    "start_time": "2024-12-02T03:50:48.169Z"
   },
   {
    "duration": 8,
    "start_time": "2024-12-02T03:50:48.538Z"
   },
   {
    "duration": 10,
    "start_time": "2024-12-02T03:50:50.107Z"
   },
   {
    "duration": 5,
    "start_time": "2024-12-02T03:50:53.970Z"
   },
   {
    "duration": 3,
    "start_time": "2024-12-02T03:50:54.895Z"
   },
   {
    "duration": 8,
    "start_time": "2024-12-02T03:50:58.953Z"
   },
   {
    "duration": 8,
    "start_time": "2024-12-02T03:51:00.017Z"
   },
   {
    "duration": 5,
    "start_time": "2024-12-02T03:51:01.142Z"
   },
   {
    "duration": 4,
    "start_time": "2024-12-02T03:51:19.757Z"
   },
   {
    "duration": 5,
    "start_time": "2024-12-02T03:51:23.486Z"
   },
   {
    "duration": 4,
    "start_time": "2024-12-02T03:51:24.367Z"
   },
   {
    "duration": 4,
    "start_time": "2024-12-02T03:51:24.910Z"
   },
   {
    "duration": 30,
    "start_time": "2024-12-02T03:51:25.336Z"
   },
   {
    "duration": 3030,
    "start_time": "2024-12-02T03:51:28.293Z"
   },
   {
    "duration": 3194,
    "start_time": "2024-12-02T03:53:08.148Z"
   },
   {
    "duration": 3196,
    "start_time": "2024-12-02T03:55:20.732Z"
   },
   {
    "duration": 3199,
    "start_time": "2024-12-02T03:56:23.719Z"
   },
   {
    "duration": 3246,
    "start_time": "2024-12-02T03:56:35.253Z"
   },
   {
    "duration": 3192,
    "start_time": "2024-12-02T03:56:47.857Z"
   },
   {
    "duration": 3191,
    "start_time": "2024-12-02T03:58:04.624Z"
   },
   {
    "duration": 3251,
    "start_time": "2024-12-02T03:59:12.987Z"
   },
   {
    "duration": 3186,
    "start_time": "2024-12-02T03:59:38.676Z"
   },
   {
    "duration": 9,
    "start_time": "2024-12-02T04:01:35.143Z"
   },
   {
    "duration": 3238,
    "start_time": "2024-12-02T04:01:43.127Z"
   },
   {
    "duration": 3265,
    "start_time": "2024-12-02T04:04:04.258Z"
   },
   {
    "duration": 3132,
    "start_time": "2024-12-02T04:04:56.161Z"
   },
   {
    "duration": 3224,
    "start_time": "2024-12-02T04:08:22.705Z"
   },
   {
    "duration": 3242,
    "start_time": "2024-12-02T04:09:08.259Z"
   },
   {
    "duration": 3307,
    "start_time": "2024-12-02T04:11:28.367Z"
   },
   {
    "duration": 3243,
    "start_time": "2024-12-02T04:12:17.406Z"
   },
   {
    "duration": 853,
    "start_time": "2024-12-02T04:13:38.681Z"
   },
   {
    "duration": 528,
    "start_time": "2024-12-02T04:14:41.446Z"
   },
   {
    "duration": 429,
    "start_time": "2024-12-02T04:17:16.273Z"
   },
   {
    "duration": 474,
    "start_time": "2024-12-02T04:18:02.836Z"
   },
   {
    "duration": 3932,
    "start_time": "2024-12-02T04:18:18.210Z"
   },
   {
    "duration": 4044,
    "start_time": "2024-12-02T04:21:49.633Z"
   },
   {
    "duration": 3932,
    "start_time": "2024-12-02T04:22:14.223Z"
   },
   {
    "duration": 4027,
    "start_time": "2024-12-02T04:22:50.390Z"
   },
   {
    "duration": 11,
    "start_time": "2024-12-02T04:25:01.346Z"
   },
   {
    "duration": 976,
    "start_time": "2024-12-02T04:25:12.427Z"
   },
   {
    "duration": 9,
    "start_time": "2024-12-02T04:25:13.405Z"
   },
   {
    "duration": 3,
    "start_time": "2024-12-02T04:25:13.416Z"
   },
   {
    "duration": 626,
    "start_time": "2024-12-02T04:25:13.420Z"
   },
   {
    "duration": 4,
    "start_time": "2024-12-02T04:25:14.048Z"
   },
   {
    "duration": 37,
    "start_time": "2024-12-02T04:25:14.053Z"
   },
   {
    "duration": 20,
    "start_time": "2024-12-02T04:25:14.092Z"
   },
   {
    "duration": 40,
    "start_time": "2024-12-02T04:25:14.114Z"
   },
   {
    "duration": 30,
    "start_time": "2024-12-02T04:25:14.156Z"
   },
   {
    "duration": 8,
    "start_time": "2024-12-02T04:25:14.188Z"
   },
   {
    "duration": 7,
    "start_time": "2024-12-02T04:25:14.198Z"
   },
   {
    "duration": 4,
    "start_time": "2024-12-02T04:25:14.208Z"
   },
   {
    "duration": 4,
    "start_time": "2024-12-02T04:25:14.214Z"
   },
   {
    "duration": 7,
    "start_time": "2024-12-02T04:25:14.221Z"
   },
   {
    "duration": 8,
    "start_time": "2024-12-02T04:25:14.230Z"
   },
   {
    "duration": 6,
    "start_time": "2024-12-02T04:25:14.240Z"
   },
   {
    "duration": 41,
    "start_time": "2024-12-02T04:25:14.247Z"
   },
   {
    "duration": 3,
    "start_time": "2024-12-02T04:25:14.290Z"
   },
   {
    "duration": 3,
    "start_time": "2024-12-02T04:25:14.295Z"
   },
   {
    "duration": 5,
    "start_time": "2024-12-02T04:25:14.300Z"
   },
   {
    "duration": 23,
    "start_time": "2024-12-02T04:25:14.307Z"
   },
   {
    "duration": 3339,
    "start_time": "2024-12-02T04:25:14.332Z"
   },
   {
    "duration": 867,
    "start_time": "2024-12-02T04:25:17.673Z"
   },
   {
    "duration": 457,
    "start_time": "2024-12-02T04:25:18.542Z"
   },
   {
    "duration": 3946,
    "start_time": "2024-12-02T04:25:19.001Z"
   },
   {
    "duration": 11,
    "start_time": "2024-12-02T04:25:22.950Z"
   },
   {
    "duration": 10,
    "start_time": "2024-12-02T04:26:40.607Z"
   },
   {
    "duration": 96,
    "start_time": "2024-12-02T04:26:46.932Z"
   },
   {
    "duration": 1643,
    "start_time": "2024-12-02T04:26:53.382Z"
   },
   {
    "duration": 34,
    "start_time": "2024-12-02T04:26:55.101Z"
   },
   {
    "duration": 21,
    "start_time": "2024-12-02T04:27:38.172Z"
   },
   {
    "duration": 3,
    "start_time": "2024-12-02T04:27:45.983Z"
   },
   {
    "duration": 5,
    "start_time": "2024-12-02T04:27:48.034Z"
   },
   {
    "duration": 790,
    "start_time": "2024-12-02T04:27:51.551Z"
   },
   {
    "duration": 3,
    "start_time": "2024-12-02T04:36:18.653Z"
   },
   {
    "duration": 7,
    "start_time": "2024-12-02T04:36:18.661Z"
   },
   {
    "duration": 3,
    "start_time": "2024-12-02T04:36:18.670Z"
   },
   {
    "duration": 581,
    "start_time": "2024-12-02T04:36:18.674Z"
   },
   {
    "duration": 4,
    "start_time": "2024-12-02T04:36:19.257Z"
   },
   {
    "duration": 35,
    "start_time": "2024-12-02T04:36:19.264Z"
   },
   {
    "duration": 19,
    "start_time": "2024-12-02T04:36:19.301Z"
   },
   {
    "duration": 39,
    "start_time": "2024-12-02T04:36:19.321Z"
   },
   {
    "duration": 6,
    "start_time": "2024-12-02T04:36:19.362Z"
   },
   {
    "duration": 7,
    "start_time": "2024-12-02T04:36:19.387Z"
   },
   {
    "duration": 9,
    "start_time": "2024-12-02T04:36:19.395Z"
   },
   {
    "duration": 4,
    "start_time": "2024-12-02T04:36:19.407Z"
   },
   {
    "duration": 4,
    "start_time": "2024-12-02T04:36:19.414Z"
   },
   {
    "duration": 8,
    "start_time": "2024-12-02T04:36:19.419Z"
   },
   {
    "duration": 7,
    "start_time": "2024-12-02T04:36:19.428Z"
   },
   {
    "duration": 6,
    "start_time": "2024-12-02T04:36:19.437Z"
   },
   {
    "duration": 3,
    "start_time": "2024-12-02T04:36:19.445Z"
   },
   {
    "duration": 38,
    "start_time": "2024-12-02T04:36:19.449Z"
   },
   {
    "duration": 3,
    "start_time": "2024-12-02T04:36:19.489Z"
   },
   {
    "duration": 4,
    "start_time": "2024-12-02T04:36:19.494Z"
   },
   {
    "duration": 25,
    "start_time": "2024-12-02T04:36:19.500Z"
   },
   {
    "duration": 3279,
    "start_time": "2024-12-02T04:36:19.527Z"
   },
   {
    "duration": 1048,
    "start_time": "2024-12-02T04:36:22.808Z"
   },
   {
    "duration": 455,
    "start_time": "2024-12-02T04:36:23.858Z"
   },
   {
    "duration": 3974,
    "start_time": "2024-12-02T04:36:24.314Z"
   },
   {
    "duration": 11,
    "start_time": "2024-12-02T04:36:28.290Z"
   },
   {
    "duration": 105,
    "start_time": "2024-12-02T04:36:28.302Z"
   },
   {
    "duration": 1677,
    "start_time": "2024-12-02T04:36:28.409Z"
   },
   {
    "duration": 29,
    "start_time": "2024-12-02T04:36:30.088Z"
   },
   {
    "duration": 38,
    "start_time": "2024-12-02T04:36:30.118Z"
   },
   {
    "duration": 3,
    "start_time": "2024-12-02T04:36:30.158Z"
   },
   {
    "duration": 26,
    "start_time": "2024-12-02T04:36:30.163Z"
   },
   {
    "duration": 829,
    "start_time": "2024-12-02T04:36:30.190Z"
   },
   {
    "duration": 250,
    "start_time": "2024-12-02T04:36:31.024Z"
   },
   {
    "duration": 11,
    "start_time": "2024-12-02T04:36:31.277Z"
   },
   {
    "duration": 3,
    "start_time": "2024-12-02T04:48:49.614Z"
   },
   {
    "duration": 8,
    "start_time": "2024-12-02T04:48:49.620Z"
   },
   {
    "duration": 3,
    "start_time": "2024-12-02T04:48:49.630Z"
   },
   {
    "duration": 593,
    "start_time": "2024-12-02T04:48:49.635Z"
   },
   {
    "duration": 4,
    "start_time": "2024-12-02T04:48:50.230Z"
   },
   {
    "duration": 23,
    "start_time": "2024-12-02T04:48:50.237Z"
   },
   {
    "duration": 38,
    "start_time": "2024-12-02T04:48:50.262Z"
   },
   {
    "duration": 38,
    "start_time": "2024-12-02T04:48:50.301Z"
   },
   {
    "duration": 8,
    "start_time": "2024-12-02T04:48:50.340Z"
   },
   {
    "duration": 8,
    "start_time": "2024-12-02T04:48:50.349Z"
   },
   {
    "duration": 28,
    "start_time": "2024-12-02T04:48:50.359Z"
   },
   {
    "duration": 4,
    "start_time": "2024-12-02T04:48:50.389Z"
   },
   {
    "duration": 3,
    "start_time": "2024-12-02T04:48:50.395Z"
   },
   {
    "duration": 7,
    "start_time": "2024-12-02T04:48:50.400Z"
   },
   {
    "duration": 7,
    "start_time": "2024-12-02T04:48:50.410Z"
   },
   {
    "duration": 13,
    "start_time": "2024-12-02T04:48:50.419Z"
   },
   {
    "duration": 3,
    "start_time": "2024-12-02T04:48:50.434Z"
   },
   {
    "duration": 3,
    "start_time": "2024-12-02T04:48:50.439Z"
   },
   {
    "duration": 5,
    "start_time": "2024-12-02T04:48:50.444Z"
   },
   {
    "duration": 4,
    "start_time": "2024-12-02T04:48:50.487Z"
   },
   {
    "duration": 28,
    "start_time": "2024-12-02T04:48:50.493Z"
   },
   {
    "duration": 3223,
    "start_time": "2024-12-02T04:48:50.523Z"
   },
   {
    "duration": 991,
    "start_time": "2024-12-02T04:48:53.748Z"
   },
   {
    "duration": 454,
    "start_time": "2024-12-02T04:48:54.741Z"
   },
   {
    "duration": 4041,
    "start_time": "2024-12-02T04:48:55.196Z"
   },
   {
    "duration": 13,
    "start_time": "2024-12-02T04:48:59.239Z"
   },
   {
    "duration": 112,
    "start_time": "2024-12-02T04:48:59.253Z"
   },
   {
    "duration": 1666,
    "start_time": "2024-12-02T04:48:59.367Z"
   },
   {
    "duration": 30,
    "start_time": "2024-12-02T04:49:01.035Z"
   },
   {
    "duration": 46,
    "start_time": "2024-12-02T04:49:01.067Z"
   },
   {
    "duration": 2,
    "start_time": "2024-12-02T04:49:01.117Z"
   },
   {
    "duration": 5,
    "start_time": "2024-12-02T04:49:01.121Z"
   },
   {
    "duration": 835,
    "start_time": "2024-12-02T04:49:01.127Z"
   },
   {
    "duration": 2,
    "start_time": "2024-12-02T04:49:01.967Z"
   },
   {
    "duration": 3,
    "start_time": "2024-12-02T04:49:01.971Z"
   },
   {
    "duration": 4291,
    "start_time": "2024-12-02T04:49:01.986Z"
   },
   {
    "duration": 3820,
    "start_time": "2024-12-02T04:49:06.279Z"
   },
   {
    "duration": 945,
    "start_time": "2024-12-02T04:49:10.101Z"
   },
   {
    "duration": 3,
    "start_time": "2024-12-02T04:54:31.158Z"
   },
   {
    "duration": 7,
    "start_time": "2024-12-02T04:54:31.167Z"
   },
   {
    "duration": 3,
    "start_time": "2024-12-02T04:54:31.176Z"
   },
   {
    "duration": 588,
    "start_time": "2024-12-02T04:54:31.181Z"
   },
   {
    "duration": 4,
    "start_time": "2024-12-02T04:54:31.771Z"
   },
   {
    "duration": 32,
    "start_time": "2024-12-02T04:54:31.777Z"
   },
   {
    "duration": 137,
    "start_time": "2024-12-02T04:54:31.810Z"
   },
   {
    "duration": 48,
    "start_time": "2024-12-02T04:54:31.949Z"
   },
   {
    "duration": 7,
    "start_time": "2024-12-02T04:54:31.999Z"
   },
   {
    "duration": 8,
    "start_time": "2024-12-02T04:54:32.009Z"
   },
   {
    "duration": 8,
    "start_time": "2024-12-02T04:54:32.018Z"
   },
   {
    "duration": 5,
    "start_time": "2024-12-02T04:54:32.028Z"
   },
   {
    "duration": 2,
    "start_time": "2024-12-02T04:54:32.035Z"
   },
   {
    "duration": 8,
    "start_time": "2024-12-02T04:54:32.039Z"
   },
   {
    "duration": 7,
    "start_time": "2024-12-02T04:54:32.086Z"
   },
   {
    "duration": 7,
    "start_time": "2024-12-02T04:54:32.095Z"
   },
   {
    "duration": 3,
    "start_time": "2024-12-02T04:54:32.103Z"
   },
   {
    "duration": 3,
    "start_time": "2024-12-02T04:54:32.108Z"
   },
   {
    "duration": 3,
    "start_time": "2024-12-02T04:54:32.113Z"
   },
   {
    "duration": 3,
    "start_time": "2024-12-02T04:54:32.119Z"
   },
   {
    "duration": 24,
    "start_time": "2024-12-02T04:54:32.124Z"
   },
   {
    "duration": 3274,
    "start_time": "2024-12-02T04:54:32.149Z"
   },
   {
    "duration": 1012,
    "start_time": "2024-12-02T04:54:35.424Z"
   },
   {
    "duration": 451,
    "start_time": "2024-12-02T04:54:36.438Z"
   },
   {
    "duration": 4060,
    "start_time": "2024-12-02T04:54:36.891Z"
   },
   {
    "duration": 12,
    "start_time": "2024-12-02T04:54:40.953Z"
   },
   {
    "duration": 121,
    "start_time": "2024-12-02T04:54:40.967Z"
   },
   {
    "duration": 1616,
    "start_time": "2024-12-02T04:54:41.089Z"
   },
   {
    "duration": 30,
    "start_time": "2024-12-02T04:54:42.707Z"
   },
   {
    "duration": 53,
    "start_time": "2024-12-02T04:54:42.739Z"
   },
   {
    "duration": 2,
    "start_time": "2024-12-02T04:54:42.795Z"
   },
   {
    "duration": 5,
    "start_time": "2024-12-02T04:54:42.799Z"
   },
   {
    "duration": 828,
    "start_time": "2024-12-02T04:54:42.805Z"
   },
   {
    "duration": 2,
    "start_time": "2024-12-02T04:54:43.642Z"
   },
   {
    "duration": 41,
    "start_time": "2024-12-02T04:54:43.646Z"
   },
   {
    "duration": 3,
    "start_time": "2024-12-02T04:54:48.282Z"
   },
   {
    "duration": 4,
    "start_time": "2024-12-02T05:08:03.933Z"
   },
   {
    "duration": 2,
    "start_time": "2024-12-02T05:09:29.663Z"
   },
   {
    "duration": 768,
    "start_time": "2024-12-02T05:09:30.467Z"
   },
   {
    "duration": 6425,
    "start_time": "2024-12-02T05:30:19.872Z"
   },
   {
    "duration": 5,
    "start_time": "2024-12-02T05:31:06.046Z"
   },
   {
    "duration": 956,
    "start_time": "2024-12-02T05:31:44.683Z"
   },
   {
    "duration": 1888,
    "start_time": "2024-12-02T05:32:17.784Z"
   },
   {
    "duration": 325,
    "start_time": "2024-12-02T05:42:26.634Z"
   },
   {
    "duration": 3,
    "start_time": "2024-12-02T06:08:41.830Z"
   },
   {
    "duration": 10,
    "start_time": "2024-12-02T06:08:41.842Z"
   },
   {
    "duration": 2,
    "start_time": "2024-12-02T06:08:41.854Z"
   },
   {
    "duration": 584,
    "start_time": "2024-12-02T06:08:41.858Z"
   },
   {
    "duration": 4,
    "start_time": "2024-12-02T06:08:42.444Z"
   },
   {
    "duration": 38,
    "start_time": "2024-12-02T06:08:42.449Z"
   },
   {
    "duration": 20,
    "start_time": "2024-12-02T06:08:42.489Z"
   },
   {
    "duration": 39,
    "start_time": "2024-12-02T06:08:42.510Z"
   },
   {
    "duration": 7,
    "start_time": "2024-12-02T06:08:42.552Z"
   },
   {
    "duration": 31,
    "start_time": "2024-12-02T06:08:42.560Z"
   },
   {
    "duration": 7,
    "start_time": "2024-12-02T06:08:42.594Z"
   },
   {
    "duration": 5,
    "start_time": "2024-12-02T06:08:42.603Z"
   },
   {
    "duration": 3,
    "start_time": "2024-12-02T06:08:42.610Z"
   },
   {
    "duration": 7,
    "start_time": "2024-12-02T06:08:42.614Z"
   },
   {
    "duration": 7,
    "start_time": "2024-12-02T06:08:42.623Z"
   },
   {
    "duration": 6,
    "start_time": "2024-12-02T06:08:42.631Z"
   },
   {
    "duration": 4,
    "start_time": "2024-12-02T06:08:42.638Z"
   },
   {
    "duration": 46,
    "start_time": "2024-12-02T06:08:42.643Z"
   },
   {
    "duration": 3,
    "start_time": "2024-12-02T06:08:42.691Z"
   },
   {
    "duration": 3,
    "start_time": "2024-12-02T06:08:42.696Z"
   },
   {
    "duration": 26,
    "start_time": "2024-12-02T06:08:42.703Z"
   },
   {
    "duration": 3442,
    "start_time": "2024-12-02T06:08:42.731Z"
   },
   {
    "duration": 839,
    "start_time": "2024-12-02T06:08:46.175Z"
   },
   {
    "duration": 467,
    "start_time": "2024-12-02T06:08:47.016Z"
   },
   {
    "duration": 4120,
    "start_time": "2024-12-02T06:08:47.487Z"
   },
   {
    "duration": 13,
    "start_time": "2024-12-02T06:08:51.609Z"
   },
   {
    "duration": 109,
    "start_time": "2024-12-02T06:08:51.624Z"
   },
   {
    "duration": 1650,
    "start_time": "2024-12-02T06:08:51.735Z"
   },
   {
    "duration": 36,
    "start_time": "2024-12-02T06:08:53.387Z"
   },
   {
    "duration": 43,
    "start_time": "2024-12-02T06:08:53.424Z"
   },
   {
    "duration": 19,
    "start_time": "2024-12-02T06:08:53.469Z"
   },
   {
    "duration": 824,
    "start_time": "2024-12-02T06:08:53.490Z"
   },
   {
    "duration": 36,
    "start_time": "2024-12-02T06:08:54.316Z"
   },
   {
    "duration": 3,
    "start_time": "2024-12-02T06:08:54.354Z"
   },
   {
    "duration": 9,
    "start_time": "2024-12-02T06:08:54.358Z"
   },
   {
    "duration": 4233,
    "start_time": "2024-12-02T06:08:54.371Z"
   },
   {
    "duration": 6390,
    "start_time": "2024-12-02T06:08:58.606Z"
   },
   {
    "duration": 1115,
    "start_time": "2024-12-02T06:09:05.001Z"
   },
   {
    "duration": 298,
    "start_time": "2024-12-02T06:09:06.118Z"
   },
   {
    "duration": 4,
    "start_time": "2024-12-02T06:09:06.418Z"
   },
   {
    "duration": 3,
    "start_time": "2024-12-02T06:24:17.786Z"
   },
   {
    "duration": 10,
    "start_time": "2024-12-02T06:24:17.793Z"
   },
   {
    "duration": 4,
    "start_time": "2024-12-02T06:24:17.847Z"
   },
   {
    "duration": 602,
    "start_time": "2024-12-02T06:24:17.856Z"
   },
   {
    "duration": 4,
    "start_time": "2024-12-02T06:24:18.460Z"
   },
   {
    "duration": 34,
    "start_time": "2024-12-02T06:24:18.466Z"
   },
   {
    "duration": 18,
    "start_time": "2024-12-02T06:24:18.502Z"
   },
   {
    "duration": 38,
    "start_time": "2024-12-02T06:24:18.523Z"
   },
   {
    "duration": 27,
    "start_time": "2024-12-02T06:24:18.562Z"
   },
   {
    "duration": 8,
    "start_time": "2024-12-02T06:24:18.591Z"
   },
   {
    "duration": 7,
    "start_time": "2024-12-02T06:24:18.601Z"
   },
   {
    "duration": 4,
    "start_time": "2024-12-02T06:24:18.610Z"
   },
   {
    "duration": 3,
    "start_time": "2024-12-02T06:24:18.616Z"
   },
   {
    "duration": 6,
    "start_time": "2024-12-02T06:24:18.621Z"
   },
   {
    "duration": 7,
    "start_time": "2024-12-02T06:24:18.629Z"
   },
   {
    "duration": 6,
    "start_time": "2024-12-02T06:24:18.637Z"
   },
   {
    "duration": 3,
    "start_time": "2024-12-02T06:24:18.687Z"
   },
   {
    "duration": 3,
    "start_time": "2024-12-02T06:24:18.691Z"
   },
   {
    "duration": 3,
    "start_time": "2024-12-02T06:24:18.696Z"
   },
   {
    "duration": 3,
    "start_time": "2024-12-02T06:24:18.701Z"
   },
   {
    "duration": 27,
    "start_time": "2024-12-02T06:24:18.706Z"
   },
   {
    "duration": 3187,
    "start_time": "2024-12-02T06:24:18.735Z"
   },
   {
    "duration": 867,
    "start_time": "2024-12-02T06:24:21.924Z"
   },
   {
    "duration": 439,
    "start_time": "2024-12-02T06:24:22.793Z"
   },
   {
    "duration": 4162,
    "start_time": "2024-12-02T06:24:23.236Z"
   },
   {
    "duration": 12,
    "start_time": "2024-12-02T06:24:27.399Z"
   },
   {
    "duration": 132,
    "start_time": "2024-12-02T06:24:27.413Z"
   },
   {
    "duration": 1646,
    "start_time": "2024-12-02T06:24:27.546Z"
   },
   {
    "duration": 32,
    "start_time": "2024-12-02T06:24:29.194Z"
   },
   {
    "duration": 40,
    "start_time": "2024-12-02T06:24:29.227Z"
   },
   {
    "duration": 6,
    "start_time": "2024-12-02T06:24:29.287Z"
   },
   {
    "duration": 777,
    "start_time": "2024-12-02T06:24:29.295Z"
   },
   {
    "duration": 13,
    "start_time": "2024-12-02T06:24:30.074Z"
   },
   {
    "duration": 2,
    "start_time": "2024-12-02T06:24:30.089Z"
   },
   {
    "duration": 8,
    "start_time": "2024-12-02T06:24:30.094Z"
   },
   {
    "duration": 4347,
    "start_time": "2024-12-02T06:24:30.105Z"
   },
   {
    "duration": 4334,
    "start_time": "2024-12-02T06:24:34.453Z"
   },
   {
    "duration": 915,
    "start_time": "2024-12-02T06:24:38.789Z"
   },
   {
    "duration": 325,
    "start_time": "2024-12-02T06:24:39.706Z"
   },
   {
    "duration": 2,
    "start_time": "2024-12-02T06:24:40.038Z"
   },
   {
    "duration": 8,
    "start_time": "2024-12-02T06:24:40.346Z"
   },
   {
    "duration": 4304,
    "start_time": "2024-12-02T06:24:44.129Z"
   },
   {
    "duration": 292,
    "start_time": "2024-12-02T06:25:39.494Z"
   },
   {
    "duration": 3,
    "start_time": "2024-12-02T06:25:40.329Z"
   },
   {
    "duration": 8,
    "start_time": "2024-12-02T06:25:41.232Z"
   },
   {
    "duration": 4278,
    "start_time": "2024-12-02T06:25:41.586Z"
   },
   {
    "duration": 3670,
    "start_time": "2024-12-02T06:26:15.217Z"
   },
   {
    "duration": 866,
    "start_time": "2024-12-02T06:27:01.394Z"
   },
   {
    "duration": 2992,
    "start_time": "2024-12-02T06:36:36.235Z"
   },
   {
    "duration": 10,
    "start_time": "2024-12-02T06:36:39.229Z"
   },
   {
    "duration": 3,
    "start_time": "2024-12-02T06:36:39.241Z"
   },
   {
    "duration": 629,
    "start_time": "2024-12-02T06:36:39.246Z"
   },
   {
    "duration": 11,
    "start_time": "2024-12-02T06:36:39.877Z"
   },
   {
    "duration": 23,
    "start_time": "2024-12-02T06:36:39.890Z"
   },
   {
    "duration": 20,
    "start_time": "2024-12-02T06:36:39.915Z"
   },
   {
    "duration": 60,
    "start_time": "2024-12-02T06:36:39.937Z"
   },
   {
    "duration": 8,
    "start_time": "2024-12-02T06:36:39.998Z"
   },
   {
    "duration": 7,
    "start_time": "2024-12-02T06:36:40.009Z"
   },
   {
    "duration": 7,
    "start_time": "2024-12-02T06:36:40.018Z"
   },
   {
    "duration": 4,
    "start_time": "2024-12-02T06:36:40.027Z"
   },
   {
    "duration": 3,
    "start_time": "2024-12-02T06:36:40.033Z"
   },
   {
    "duration": 6,
    "start_time": "2024-12-02T06:36:40.038Z"
   },
   {
    "duration": 45,
    "start_time": "2024-12-02T06:36:40.046Z"
   },
   {
    "duration": 6,
    "start_time": "2024-12-02T06:36:40.093Z"
   },
   {
    "duration": 3,
    "start_time": "2024-12-02T06:36:40.100Z"
   },
   {
    "duration": 3,
    "start_time": "2024-12-02T06:36:40.105Z"
   },
   {
    "duration": 3,
    "start_time": "2024-12-02T06:36:40.110Z"
   },
   {
    "duration": 3,
    "start_time": "2024-12-02T06:36:40.115Z"
   },
   {
    "duration": 24,
    "start_time": "2024-12-02T06:36:40.120Z"
   },
   {
    "duration": 3364,
    "start_time": "2024-12-02T06:36:40.147Z"
   },
   {
    "duration": 851,
    "start_time": "2024-12-02T06:36:43.513Z"
   },
   {
    "duration": 437,
    "start_time": "2024-12-02T06:36:44.365Z"
   },
   {
    "duration": 4024,
    "start_time": "2024-12-02T06:36:44.804Z"
   },
   {
    "duration": 13,
    "start_time": "2024-12-02T06:36:48.830Z"
   },
   {
    "duration": 128,
    "start_time": "2024-12-02T06:36:48.844Z"
   },
   {
    "duration": 1605,
    "start_time": "2024-12-02T06:36:48.976Z"
   },
   {
    "duration": 31,
    "start_time": "2024-12-02T06:36:50.583Z"
   },
   {
    "duration": 19,
    "start_time": "2024-12-02T06:36:50.616Z"
   },
   {
    "duration": 5,
    "start_time": "2024-12-02T06:36:50.637Z"
   },
   {
    "duration": 803,
    "start_time": "2024-12-02T06:36:50.645Z"
   },
   {
    "duration": 38,
    "start_time": "2024-12-02T06:36:51.450Z"
   },
   {
    "duration": 3,
    "start_time": "2024-12-02T06:36:51.489Z"
   },
   {
    "duration": 3,
    "start_time": "2024-12-02T06:36:51.494Z"
   },
   {
    "duration": 4119,
    "start_time": "2024-12-02T06:36:51.498Z"
   },
   {
    "duration": 3681,
    "start_time": "2024-12-02T06:36:55.619Z"
   },
   {
    "duration": 948,
    "start_time": "2024-12-02T06:36:59.302Z"
   },
   {
    "duration": 331,
    "start_time": "2024-12-02T06:37:00.252Z"
   },
   {
    "duration": 3,
    "start_time": "2024-12-02T06:37:00.587Z"
   },
   {
    "duration": 426176,
    "start_time": "2024-12-02T06:37:00.592Z"
   },
   {
    "duration": 2,
    "start_time": "2024-12-02T06:44:06.770Z"
   },
   {
    "duration": 4057,
    "start_time": "2024-12-02T06:44:06.774Z"
   },
   {
    "duration": 2770,
    "start_time": "2024-12-02T06:44:10.832Z"
   },
   {
    "duration": 930,
    "start_time": "2024-12-02T06:44:13.603Z"
   },
   {
    "duration": 24,
    "start_time": "2024-12-02T06:51:52.087Z"
   },
   {
    "duration": 3,
    "start_time": "2024-12-02T06:56:31.260Z"
   },
   {
    "duration": 3,
    "start_time": "2024-12-02T06:56:44.923Z"
   },
   {
    "duration": 3,
    "start_time": "2024-12-02T06:57:03.434Z"
   },
   {
    "duration": 9,
    "start_time": "2024-12-02T06:57:03.440Z"
   },
   {
    "duration": 2,
    "start_time": "2024-12-02T06:57:03.451Z"
   },
   {
    "duration": 597,
    "start_time": "2024-12-02T06:57:03.455Z"
   },
   {
    "duration": 4,
    "start_time": "2024-12-02T06:57:04.055Z"
   },
   {
    "duration": 36,
    "start_time": "2024-12-02T06:57:04.061Z"
   },
   {
    "duration": 19,
    "start_time": "2024-12-02T06:57:04.099Z"
   },
   {
    "duration": 40,
    "start_time": "2024-12-02T06:57:04.120Z"
   },
   {
    "duration": 26,
    "start_time": "2024-12-02T06:57:04.161Z"
   },
   {
    "duration": 8,
    "start_time": "2024-12-02T06:57:04.189Z"
   },
   {
    "duration": 7,
    "start_time": "2024-12-02T06:57:04.200Z"
   },
   {
    "duration": 4,
    "start_time": "2024-12-02T06:57:04.209Z"
   },
   {
    "duration": 3,
    "start_time": "2024-12-02T06:57:04.215Z"
   },
   {
    "duration": 7,
    "start_time": "2024-12-02T06:57:04.219Z"
   },
   {
    "duration": 8,
    "start_time": "2024-12-02T06:57:04.227Z"
   },
   {
    "duration": 5,
    "start_time": "2024-12-02T06:57:04.236Z"
   },
   {
    "duration": 3,
    "start_time": "2024-12-02T06:57:04.286Z"
   },
   {
    "duration": 3,
    "start_time": "2024-12-02T06:57:04.291Z"
   },
   {
    "duration": 4,
    "start_time": "2024-12-02T06:57:04.296Z"
   },
   {
    "duration": 4,
    "start_time": "2024-12-02T06:57:04.301Z"
   },
   {
    "duration": 25,
    "start_time": "2024-12-02T06:57:04.306Z"
   },
   {
    "duration": 3423,
    "start_time": "2024-12-02T06:57:04.333Z"
   },
   {
    "duration": 864,
    "start_time": "2024-12-02T06:57:07.757Z"
   },
   {
    "duration": 461,
    "start_time": "2024-12-02T06:57:08.623Z"
   },
   {
    "duration": 3833,
    "start_time": "2024-12-02T06:57:09.086Z"
   },
   {
    "duration": 315,
    "start_time": "2024-12-02T06:57:12.920Z"
   },
   {
    "duration": 95,
    "start_time": "2024-12-02T06:57:13.237Z"
   },
   {
    "duration": 1617,
    "start_time": "2024-12-02T06:57:13.334Z"
   },
   {
    "duration": 38,
    "start_time": "2024-12-02T06:57:14.955Z"
   },
   {
    "duration": 51,
    "start_time": "2024-12-02T06:57:14.995Z"
   },
   {
    "duration": 5,
    "start_time": "2024-12-02T06:57:15.048Z"
   },
   {
    "duration": 801,
    "start_time": "2024-12-02T06:57:15.054Z"
   },
   {
    "duration": 4,
    "start_time": "2024-12-02T06:57:15.857Z"
   },
   {
    "duration": 3,
    "start_time": "2024-12-02T06:57:15.862Z"
   },
   {
    "duration": 24,
    "start_time": "2024-12-02T06:57:15.866Z"
   },
   {
    "duration": 4163,
    "start_time": "2024-12-02T06:57:15.891Z"
   },
   {
    "duration": 4247,
    "start_time": "2024-12-02T06:57:20.056Z"
   },
   {
    "duration": 914,
    "start_time": "2024-12-02T06:57:24.305Z"
   },
   {
    "duration": 302,
    "start_time": "2024-12-02T06:57:25.220Z"
   },
   {
    "duration": 3,
    "start_time": "2024-12-02T06:57:25.525Z"
   },
   {
    "duration": 453992,
    "start_time": "2024-12-02T06:57:25.529Z"
   },
   {
    "duration": 7,
    "start_time": "2024-12-02T07:04:59.523Z"
   },
   {
    "duration": 4141,
    "start_time": "2024-12-02T07:04:59.531Z"
   },
   {
    "duration": 3215,
    "start_time": "2024-12-02T07:05:03.674Z"
   },
   {
    "duration": 861,
    "start_time": "2024-12-02T07:05:08.028Z"
   },
   {
    "duration": 3,
    "start_time": "2024-12-02T07:13:09.206Z"
   },
   {
    "duration": 30608,
    "start_time": "2024-12-02T07:13:10.386Z"
   },
   {
    "duration": 1581,
    "start_time": "2024-12-02T07:13:40.997Z"
   },
   {
    "duration": 143,
    "start_time": "2024-12-02T07:15:27.702Z"
   },
   {
    "duration": 1584,
    "start_time": "2024-12-02T07:15:31.728Z"
   },
   {
    "duration": 3,
    "start_time": "2024-12-02T07:19:46.214Z"
   },
   {
    "duration": 4887,
    "start_time": "2024-12-04T02:04:48.378Z"
   },
   {
    "duration": 14,
    "start_time": "2024-12-04T02:04:53.268Z"
   },
   {
    "duration": 2,
    "start_time": "2024-12-04T02:04:53.285Z"
   },
   {
    "duration": 662,
    "start_time": "2024-12-04T02:04:53.289Z"
   },
   {
    "duration": 4,
    "start_time": "2024-12-04T02:04:53.952Z"
   },
   {
    "duration": 22,
    "start_time": "2024-12-04T02:04:53.958Z"
   },
   {
    "duration": 37,
    "start_time": "2024-12-04T02:04:53.982Z"
   },
   {
    "duration": 41,
    "start_time": "2024-12-04T02:04:54.020Z"
   },
   {
    "duration": 8,
    "start_time": "2024-12-04T02:04:54.973Z"
   },
   {
    "duration": 7,
    "start_time": "2024-12-04T02:04:55.403Z"
   },
   {
    "duration": 8,
    "start_time": "2024-12-04T02:04:56.612Z"
   },
   {
    "duration": 5,
    "start_time": "2024-12-04T02:04:59.678Z"
   },
   {
    "duration": 4,
    "start_time": "2024-12-04T02:05:01.856Z"
   },
   {
    "duration": 4,
    "start_time": "2024-12-04T02:05:33.627Z"
   },
   {
    "duration": 5,
    "start_time": "2024-12-04T02:05:50.544Z"
   },
   {
    "duration": 6,
    "start_time": "2024-12-04T02:06:14.100Z"
   },
   {
    "duration": 11,
    "start_time": "2024-12-04T02:06:24.845Z"
   },
   {
    "duration": 4,
    "start_time": "2024-12-04T02:06:42.184Z"
   },
   {
    "duration": 4,
    "start_time": "2024-12-04T02:08:07.607Z"
   },
   {
    "duration": 9,
    "start_time": "2024-12-04T02:08:07.613Z"
   },
   {
    "duration": 2,
    "start_time": "2024-12-04T02:08:07.624Z"
   },
   {
    "duration": 618,
    "start_time": "2024-12-04T02:08:07.628Z"
   },
   {
    "duration": 3,
    "start_time": "2024-12-04T02:08:08.249Z"
   },
   {
    "duration": 25,
    "start_time": "2024-12-04T02:08:08.254Z"
   },
   {
    "duration": 37,
    "start_time": "2024-12-04T02:08:08.280Z"
   },
   {
    "duration": 39,
    "start_time": "2024-12-04T02:08:08.318Z"
   },
   {
    "duration": 7,
    "start_time": "2024-12-04T02:08:08.358Z"
   },
   {
    "duration": 9,
    "start_time": "2024-12-04T02:08:08.366Z"
   },
   {
    "duration": 7,
    "start_time": "2024-12-04T02:08:08.378Z"
   },
   {
    "duration": 5,
    "start_time": "2024-12-04T02:08:08.411Z"
   },
   {
    "duration": 6,
    "start_time": "2024-12-04T02:08:11.305Z"
   },
   {
    "duration": 3,
    "start_time": "2024-12-04T02:08:12.124Z"
   },
   {
    "duration": 8,
    "start_time": "2024-12-04T02:08:12.939Z"
   },
   {
    "duration": 8,
    "start_time": "2024-12-04T02:08:13.336Z"
   },
   {
    "duration": 6,
    "start_time": "2024-12-04T02:08:13.838Z"
   },
   {
    "duration": 3,
    "start_time": "2024-12-04T02:08:14.641Z"
   },
   {
    "duration": 5,
    "start_time": "2024-12-04T02:08:15.210Z"
   },
   {
    "duration": 3,
    "start_time": "2024-12-04T02:08:16.031Z"
   },
   {
    "duration": 3,
    "start_time": "2024-12-04T02:08:16.459Z"
   },
   {
    "duration": 26,
    "start_time": "2024-12-04T02:08:17.071Z"
   },
   {
    "duration": 4,
    "start_time": "2024-12-04T02:09:29.465Z"
   },
   {
    "duration": 8,
    "start_time": "2024-12-04T02:09:29.471Z"
   },
   {
    "duration": 3,
    "start_time": "2024-12-04T02:09:29.481Z"
   },
   {
    "duration": 578,
    "start_time": "2024-12-04T02:09:29.486Z"
   },
   {
    "duration": 4,
    "start_time": "2024-12-04T02:09:30.066Z"
   },
   {
    "duration": 22,
    "start_time": "2024-12-04T02:09:30.073Z"
   },
   {
    "duration": 31,
    "start_time": "2024-12-04T02:09:30.097Z"
   },
   {
    "duration": 38,
    "start_time": "2024-12-04T02:09:30.129Z"
   },
   {
    "duration": 7,
    "start_time": "2024-12-04T02:09:30.169Z"
   },
   {
    "duration": 7,
    "start_time": "2024-12-04T02:09:30.177Z"
   },
   {
    "duration": 31,
    "start_time": "2024-12-04T02:09:30.186Z"
   },
   {
    "duration": 4,
    "start_time": "2024-12-04T02:09:30.219Z"
   },
   {
    "duration": 3,
    "start_time": "2024-12-04T02:09:30.225Z"
   },
   {
    "duration": 7,
    "start_time": "2024-12-04T02:09:30.231Z"
   },
   {
    "duration": 6,
    "start_time": "2024-12-04T02:09:30.242Z"
   },
   {
    "duration": 5,
    "start_time": "2024-12-04T02:09:30.250Z"
   },
   {
    "duration": 2,
    "start_time": "2024-12-04T02:09:30.257Z"
   },
   {
    "duration": 3,
    "start_time": "2024-12-04T02:09:30.261Z"
   },
   {
    "duration": 3,
    "start_time": "2024-12-04T02:09:30.266Z"
   },
   {
    "duration": 43,
    "start_time": "2024-12-04T02:09:30.271Z"
   },
   {
    "duration": 23,
    "start_time": "2024-12-04T02:09:30.316Z"
   },
   {
    "duration": 5,
    "start_time": "2024-12-04T02:09:33.020Z"
   },
   {
    "duration": 4,
    "start_time": "2024-12-04T02:09:37.486Z"
   },
   {
    "duration": 4,
    "start_time": "2024-12-04T02:20:18.628Z"
   },
   {
    "duration": 3258,
    "start_time": "2024-12-04T02:20:21.650Z"
   },
   {
    "duration": 1038,
    "start_time": "2024-12-04T02:24:47.891Z"
   },
   {
    "duration": 443,
    "start_time": "2024-12-04T02:33:46.276Z"
   },
   {
    "duration": 4142,
    "start_time": "2024-12-04T02:44:12.408Z"
   },
   {
    "duration": 11,
    "start_time": "2024-12-04T03:49:50.596Z"
   },
   {
    "duration": 13,
    "start_time": "2024-12-04T03:50:07.540Z"
   },
   {
    "duration": 90,
    "start_time": "2024-12-04T03:50:31.971Z"
   },
   {
    "duration": 1703,
    "start_time": "2024-12-04T03:50:33.757Z"
   },
   {
    "duration": 33,
    "start_time": "2024-12-04T03:50:36.304Z"
   },
   {
    "duration": 21,
    "start_time": "2024-12-04T03:50:49.039Z"
   },
   {
    "duration": 6,
    "start_time": "2024-12-04T03:51:00.333Z"
   },
   {
    "duration": 985,
    "start_time": "2024-12-04T03:51:15.922Z"
   },
   {
    "duration": 5215,
    "start_time": "2024-12-04T05:34:08.355Z"
   },
   {
    "duration": 18,
    "start_time": "2024-12-04T05:34:13.577Z"
   },
   {
    "duration": 4,
    "start_time": "2024-12-04T05:34:13.597Z"
   },
   {
    "duration": 675,
    "start_time": "2024-12-04T05:34:13.603Z"
   },
   {
    "duration": 5,
    "start_time": "2024-12-04T05:34:14.281Z"
   },
   {
    "duration": 34,
    "start_time": "2024-12-04T05:34:14.288Z"
   },
   {
    "duration": 49,
    "start_time": "2024-12-04T05:34:14.324Z"
   },
   {
    "duration": 40,
    "start_time": "2024-12-04T05:34:14.375Z"
   },
   {
    "duration": 29,
    "start_time": "2024-12-04T05:34:14.417Z"
   },
   {
    "duration": 7,
    "start_time": "2024-12-04T05:34:14.449Z"
   },
   {
    "duration": 9,
    "start_time": "2024-12-04T05:34:14.458Z"
   },
   {
    "duration": 5,
    "start_time": "2024-12-04T05:34:14.469Z"
   },
   {
    "duration": 4,
    "start_time": "2024-12-04T05:34:14.476Z"
   },
   {
    "duration": 7,
    "start_time": "2024-12-04T05:34:14.483Z"
   },
   {
    "duration": 8,
    "start_time": "2024-12-04T05:34:14.492Z"
   },
   {
    "duration": 45,
    "start_time": "2024-12-04T05:34:14.502Z"
   },
   {
    "duration": 3,
    "start_time": "2024-12-04T05:34:14.550Z"
   },
   {
    "duration": 4,
    "start_time": "2024-12-04T05:34:14.555Z"
   },
   {
    "duration": 3,
    "start_time": "2024-12-04T05:34:14.561Z"
   },
   {
    "duration": 4,
    "start_time": "2024-12-04T05:34:14.565Z"
   },
   {
    "duration": 27,
    "start_time": "2024-12-04T05:34:14.570Z"
   },
   {
    "duration": 4,
    "start_time": "2024-12-04T05:34:14.599Z"
   },
   {
    "duration": 43,
    "start_time": "2024-12-04T05:34:14.605Z"
   },
   {
    "duration": 3388,
    "start_time": "2024-12-04T05:34:14.652Z"
   },
   {
    "duration": 1056,
    "start_time": "2024-12-04T05:34:18.042Z"
   },
   {
    "duration": 442,
    "start_time": "2024-12-04T05:34:19.102Z"
   },
   {
    "duration": 4037,
    "start_time": "2024-12-04T05:34:19.546Z"
   },
   {
    "duration": 11,
    "start_time": "2024-12-04T05:34:23.585Z"
   },
   {
    "duration": 109,
    "start_time": "2024-12-04T05:34:23.598Z"
   },
   {
    "duration": 1585,
    "start_time": "2024-12-04T05:34:23.709Z"
   },
   {
    "duration": 28,
    "start_time": "2024-12-04T05:34:25.296Z"
   },
   {
    "duration": 32,
    "start_time": "2024-12-04T05:34:25.325Z"
   },
   {
    "duration": 6,
    "start_time": "2024-12-04T05:34:25.358Z"
   },
   {
    "duration": 1005,
    "start_time": "2024-12-04T05:34:25.365Z"
   },
   {
    "duration": 36,
    "start_time": "2024-12-04T05:34:26.375Z"
   },
   {
    "duration": 4,
    "start_time": "2024-12-04T05:34:31.501Z"
   },
   {
    "duration": 3,
    "start_time": "2024-12-04T05:34:55.516Z"
   },
   {
    "duration": 4290,
    "start_time": "2024-12-04T05:34:57.576Z"
   },
   {
    "duration": 4357,
    "start_time": "2024-12-04T05:35:39.047Z"
   },
   {
    "duration": 5046,
    "start_time": "2024-12-04T05:35:43.406Z"
   },
   {
    "duration": 956,
    "start_time": "2024-12-04T05:35:48.454Z"
   },
   {
    "duration": 335,
    "start_time": "2024-12-04T05:39:25.972Z"
   },
   {
    "duration": 2,
    "start_time": "2024-12-04T05:39:44.641Z"
   },
   {
    "duration": 435726,
    "start_time": "2024-12-04T05:40:07.230Z"
   },
   {
    "duration": 3,
    "start_time": "2024-12-04T05:47:22.959Z"
   },
   {
    "duration": 4187,
    "start_time": "2024-12-04T05:47:22.965Z"
   },
   {
    "duration": 2411,
    "start_time": "2024-12-04T05:47:27.155Z"
   },
   {
    "duration": 932,
    "start_time": "2024-12-04T05:47:29.642Z"
   },
   {
    "duration": 3,
    "start_time": "2024-12-04T05:53:54.452Z"
   },
   {
    "duration": 2,
    "start_time": "2024-12-04T05:54:13.830Z"
   },
   {
    "duration": 481,
    "start_time": "2024-12-04T05:54:15.730Z"
   },
   {
    "duration": 29888,
    "start_time": "2024-12-04T05:54:40.067Z"
   },
   {
    "duration": 1598,
    "start_time": "2024-12-04T05:58:05.830Z"
   },
   {
    "duration": 1524,
    "start_time": "2024-12-04T06:00:39.609Z"
   },
   {
    "duration": 5043,
    "start_time": "2024-12-04T16:28:56.528Z"
   },
   {
    "duration": 149,
    "start_time": "2024-12-04T16:29:01.573Z"
   },
   {
    "duration": 3,
    "start_time": "2024-12-04T16:29:01.724Z"
   },
   {
    "duration": 720,
    "start_time": "2024-12-04T16:29:01.730Z"
   },
   {
    "duration": 4,
    "start_time": "2024-12-04T16:29:02.452Z"
   },
   {
    "duration": 28,
    "start_time": "2024-12-04T16:29:02.458Z"
   },
   {
    "duration": 31,
    "start_time": "2024-12-04T16:29:03.355Z"
   },
   {
    "duration": 46,
    "start_time": "2024-12-04T16:29:12.536Z"
   },
   {
    "duration": 8,
    "start_time": "2024-12-04T16:29:14.871Z"
   },
   {
    "duration": 8,
    "start_time": "2024-12-04T16:29:15.253Z"
   },
   {
    "duration": 8,
    "start_time": "2024-12-04T16:29:15.869Z"
   },
   {
    "duration": 6,
    "start_time": "2024-12-04T16:29:17.066Z"
   },
   {
    "duration": 3,
    "start_time": "2024-12-04T16:29:17.455Z"
   },
   {
    "duration": 7,
    "start_time": "2024-12-04T16:29:18.353Z"
   },
   {
    "duration": 12,
    "start_time": "2024-12-04T16:29:18.806Z"
   },
   {
    "duration": 6,
    "start_time": "2024-12-04T16:29:19.262Z"
   },
   {
    "duration": 4,
    "start_time": "2024-12-04T16:29:21.106Z"
   },
   {
    "duration": 4,
    "start_time": "2024-12-04T16:29:21.605Z"
   },
   {
    "duration": 3,
    "start_time": "2024-12-04T16:29:22.690Z"
   },
   {
    "duration": 3,
    "start_time": "2024-12-04T16:29:23.201Z"
   },
   {
    "duration": 26,
    "start_time": "2024-12-04T16:29:23.940Z"
   },
   {
    "duration": 4,
    "start_time": "2024-12-04T16:29:25.699Z"
   },
   {
    "duration": 6,
    "start_time": "2024-12-04T16:29:26.119Z"
   },
   {
    "duration": 3304,
    "start_time": "2024-12-04T16:29:27.627Z"
   },
   {
    "duration": 869,
    "start_time": "2024-12-04T16:29:30.933Z"
   },
   {
    "duration": 458,
    "start_time": "2024-12-04T16:29:39.892Z"
   },
   {
    "duration": 4108,
    "start_time": "2024-12-04T16:29:43.524Z"
   },
   {
    "duration": 4216,
    "start_time": "2024-12-04T16:32:20.460Z"
   },
   {
    "duration": 11,
    "start_time": "2024-12-04T16:32:28.362Z"
   },
   {
    "duration": 113,
    "start_time": "2024-12-04T16:32:31.785Z"
   },
   {
    "duration": 1646,
    "start_time": "2024-12-04T16:32:32.285Z"
   },
   {
    "duration": 28,
    "start_time": "2024-12-04T16:32:33.934Z"
   },
   {
    "duration": 21,
    "start_time": "2024-12-04T16:32:35.063Z"
   },
   {
    "duration": 5,
    "start_time": "2024-12-04T16:32:38.587Z"
   },
   {
    "duration": 807,
    "start_time": "2024-12-04T16:32:41.751Z"
   },
   {
    "duration": 34,
    "start_time": "2024-12-04T16:32:44.463Z"
   },
   {
    "duration": 4,
    "start_time": "2024-12-04T16:32:45.171Z"
   },
   {
    "duration": 4,
    "start_time": "2024-12-04T16:32:46.579Z"
   },
   {
    "duration": 4363,
    "start_time": "2024-12-04T16:32:47.095Z"
   },
   {
    "duration": 4683,
    "start_time": "2024-12-04T16:32:51.461Z"
   },
   {
    "duration": 927,
    "start_time": "2024-12-04T16:32:56.146Z"
   },
   {
    "duration": 333,
    "start_time": "2024-12-04T16:33:05.646Z"
   },
   {
    "duration": 3,
    "start_time": "2024-12-04T16:33:06.337Z"
   },
   {
    "duration": 440302,
    "start_time": "2024-12-04T16:33:07.804Z"
   },
   {
    "duration": 3,
    "start_time": "2024-12-04T16:40:28.108Z"
   },
   {
    "duration": 4252,
    "start_time": "2024-12-04T16:40:28.112Z"
   },
   {
    "duration": 3089,
    "start_time": "2024-12-04T16:40:32.367Z"
   },
   {
    "duration": 944,
    "start_time": "2024-12-04T16:40:35.458Z"
   },
   {
    "duration": 3,
    "start_time": "2024-12-04T17:36:13.568Z"
   },
   {
    "duration": 2,
    "start_time": "2024-12-04T17:36:24.532Z"
   },
   {
    "duration": 31597,
    "start_time": "2024-12-04T17:36:26.746Z"
   },
   {
    "duration": 4936,
    "start_time": "2024-12-05T01:52:14.857Z"
   },
   {
    "duration": 11,
    "start_time": "2024-12-05T01:52:19.795Z"
   },
   {
    "duration": 3,
    "start_time": "2024-12-05T01:52:19.808Z"
   },
   {
    "duration": 663,
    "start_time": "2024-12-05T01:52:19.813Z"
   },
   {
    "duration": 4,
    "start_time": "2024-12-05T01:52:24.838Z"
   },
   {
    "duration": 28,
    "start_time": "2024-12-05T01:52:25.564Z"
   },
   {
    "duration": 24,
    "start_time": "2024-12-05T01:52:27.603Z"
   },
   {
    "duration": 39,
    "start_time": "2024-12-05T01:52:28.617Z"
   },
   {
    "duration": 7,
    "start_time": "2024-12-05T01:52:30.474Z"
   },
   {
    "duration": 10,
    "start_time": "2024-12-05T01:52:30.704Z"
   },
   {
    "duration": 7,
    "start_time": "2024-12-05T01:52:31.649Z"
   },
   {
    "duration": 7,
    "start_time": "2024-12-05T01:52:32.818Z"
   },
   {
    "duration": 4,
    "start_time": "2024-12-05T01:52:33.268Z"
   },
   {
    "duration": 8,
    "start_time": "2024-12-05T01:52:35.237Z"
   },
   {
    "duration": 7,
    "start_time": "2024-12-05T01:52:35.727Z"
   },
   {
    "duration": 6,
    "start_time": "2024-12-05T01:52:36.169Z"
   },
   {
    "duration": 5,
    "start_time": "2024-12-05T01:52:37.753Z"
   },
   {
    "duration": 4,
    "start_time": "2024-12-05T01:52:38.182Z"
   },
   {
    "duration": 3,
    "start_time": "2024-12-05T01:52:38.705Z"
   },
   {
    "duration": 4,
    "start_time": "2024-12-05T01:52:39.053Z"
   },
   {
    "duration": 27,
    "start_time": "2024-12-05T01:52:39.442Z"
   },
   {
    "duration": 4,
    "start_time": "2024-12-05T01:52:40.648Z"
   },
   {
    "duration": 5,
    "start_time": "2024-12-05T01:52:40.968Z"
   },
   {
    "duration": 3350,
    "start_time": "2024-12-05T01:52:42.115Z"
   },
   {
    "duration": 881,
    "start_time": "2024-12-05T01:52:45.467Z"
   },
   {
    "duration": 468,
    "start_time": "2024-12-05T01:52:46.350Z"
   },
   {
    "duration": 4143,
    "start_time": "2024-12-05T01:52:46.820Z"
   },
   {
    "duration": 11,
    "start_time": "2024-12-05T01:52:50.965Z"
   },
   {
    "duration": 114,
    "start_time": "2024-12-05T01:52:50.978Z"
   },
   {
    "duration": 1656,
    "start_time": "2024-12-05T01:52:51.095Z"
   },
   {
    "duration": 28,
    "start_time": "2024-12-05T01:52:52.753Z"
   },
   {
    "duration": 28,
    "start_time": "2024-12-05T01:52:52.785Z"
   },
   {
    "duration": 4,
    "start_time": "2024-12-05T01:52:54.721Z"
   },
   {
    "duration": 782,
    "start_time": "2024-12-05T01:52:58.014Z"
   },
   {
    "duration": 38,
    "start_time": "2024-12-05T01:53:01.929Z"
   },
   {
    "duration": 4,
    "start_time": "2024-12-05T01:53:02.418Z"
   },
   {
    "duration": 2,
    "start_time": "2024-12-05T01:53:20.470Z"
   },
   {
    "duration": 4216,
    "start_time": "2024-12-05T01:53:20.819Z"
   },
   {
    "duration": 5786,
    "start_time": "2024-12-05T01:53:25.037Z"
   },
   {
    "duration": 950,
    "start_time": "2024-12-05T01:53:30.825Z"
   },
   {
    "duration": 328,
    "start_time": "2024-12-05T01:53:37.457Z"
   },
   {
    "duration": 3,
    "start_time": "2024-12-05T01:53:38.051Z"
   },
   {
    "duration": 3,
    "start_time": "2024-12-05T02:01:25.315Z"
   },
   {
    "duration": 7,
    "start_time": "2024-12-05T02:01:25.352Z"
   },
   {
    "duration": 4,
    "start_time": "2024-12-05T02:01:25.361Z"
   },
   {
    "duration": 628,
    "start_time": "2024-12-05T02:01:25.366Z"
   },
   {
    "duration": 5,
    "start_time": "2024-12-05T02:01:25.996Z"
   },
   {
    "duration": 32,
    "start_time": "2024-12-05T02:01:26.003Z"
   },
   {
    "duration": 21,
    "start_time": "2024-12-05T02:01:26.037Z"
   },
   {
    "duration": 67,
    "start_time": "2024-12-05T02:01:26.060Z"
   },
   {
    "duration": 7,
    "start_time": "2024-12-05T02:01:26.129Z"
   },
   {
    "duration": 9,
    "start_time": "2024-12-05T02:01:26.138Z"
   },
   {
    "duration": 8,
    "start_time": "2024-12-05T02:01:26.148Z"
   },
   {
    "duration": 5,
    "start_time": "2024-12-05T02:01:26.158Z"
   },
   {
    "duration": 4,
    "start_time": "2024-12-05T02:01:26.165Z"
   },
   {
    "duration": 40,
    "start_time": "2024-12-05T02:01:26.171Z"
   },
   {
    "duration": 8,
    "start_time": "2024-12-05T02:01:26.215Z"
   },
   {
    "duration": 7,
    "start_time": "2024-12-05T02:01:26.225Z"
   },
   {
    "duration": 4,
    "start_time": "2024-12-05T02:01:26.233Z"
   },
   {
    "duration": 4,
    "start_time": "2024-12-05T02:01:26.238Z"
   },
   {
    "duration": 4,
    "start_time": "2024-12-05T02:01:26.243Z"
   },
   {
    "duration": 4,
    "start_time": "2024-12-05T02:01:26.249Z"
   },
   {
    "duration": 68,
    "start_time": "2024-12-05T02:01:26.255Z"
   },
   {
    "duration": 6,
    "start_time": "2024-12-05T02:01:26.326Z"
   },
   {
    "duration": 4,
    "start_time": "2024-12-05T02:01:26.334Z"
   },
   {
    "duration": 3620,
    "start_time": "2024-12-05T02:01:26.340Z"
   },
   {
    "duration": 885,
    "start_time": "2024-12-05T02:01:34.771Z"
   },
   {
    "duration": 467,
    "start_time": "2024-12-05T02:01:39.536Z"
   },
   {
    "duration": 4313,
    "start_time": "2024-12-05T02:01:44.380Z"
   },
   {
    "duration": 22,
    "start_time": "2024-12-05T02:01:48.695Z"
   },
   {
    "duration": 94,
    "start_time": "2024-12-05T02:03:50.375Z"
   },
   {
    "duration": 1621,
    "start_time": "2024-12-05T02:03:50.910Z"
   },
   {
    "duration": 33,
    "start_time": "2024-12-05T02:03:52.905Z"
   },
   {
    "duration": 59,
    "start_time": "2024-12-05T02:04:01.495Z"
   },
   {
    "duration": 5,
    "start_time": "2024-12-05T02:04:05.611Z"
   },
   {
    "duration": 804,
    "start_time": "2024-12-05T02:04:08.589Z"
   },
   {
    "duration": 4,
    "start_time": "2024-12-05T02:04:46.897Z"
   },
   {
    "duration": 3,
    "start_time": "2024-12-05T02:04:47.498Z"
   },
   {
    "duration": 9,
    "start_time": "2024-12-05T02:04:48.358Z"
   },
   {
    "duration": 4797,
    "start_time": "2024-12-05T02:04:48.894Z"
   },
   {
    "duration": 3833,
    "start_time": "2024-12-05T02:04:53.693Z"
   },
   {
    "duration": 983,
    "start_time": "2024-12-05T02:04:57.528Z"
   },
   {
    "duration": 316,
    "start_time": "2024-12-05T02:05:36.718Z"
   },
   {
    "duration": 3,
    "start_time": "2024-12-05T02:05:37.243Z"
   },
   {
    "duration": 457646,
    "start_time": "2024-12-05T02:05:38.436Z"
   },
   {
    "duration": 7,
    "start_time": "2024-12-05T02:13:16.084Z"
   },
   {
    "duration": 4255,
    "start_time": "2024-12-05T02:13:16.093Z"
   },
   {
    "duration": 2476,
    "start_time": "2024-12-05T02:13:20.350Z"
   },
   {
    "duration": 963,
    "start_time": "2024-12-05T02:13:22.830Z"
   },
   {
    "duration": 3,
    "start_time": "2024-12-05T02:27:35.331Z"
   },
   {
    "duration": 30175,
    "start_time": "2024-12-05T02:27:36.245Z"
   },
   {
    "duration": 1578,
    "start_time": "2024-12-05T02:28:06.423Z"
   },
   {
    "duration": 1433,
    "start_time": "2024-12-05T02:28:08.003Z"
   },
   {
    "duration": 5,
    "start_time": "2024-12-05T02:28:09.439Z"
   },
   {
    "duration": 67675,
    "start_time": "2024-12-05T02:28:09.446Z"
   },
   {
    "duration": 0,
    "start_time": "2024-12-05T02:29:17.123Z"
   },
   {
    "duration": 0,
    "start_time": "2024-12-05T02:29:17.124Z"
   },
   {
    "duration": 0,
    "start_time": "2024-12-05T02:29:17.125Z"
   },
   {
    "duration": 6,
    "start_time": "2024-12-05T02:40:47.134Z"
   },
   {
    "duration": 73152,
    "start_time": "2024-12-05T02:40:51.400Z"
   },
   {
    "duration": 13,
    "start_time": "2024-12-05T02:42:04.610Z"
   },
   {
    "duration": 5,
    "start_time": "2024-12-05T02:42:04.625Z"
   },
   {
    "duration": 3,
    "start_time": "2024-12-05T02:42:04.632Z"
   },
   {
    "duration": 5306,
    "start_time": "2024-12-05T04:35:13.889Z"
   },
   {
    "duration": 10,
    "start_time": "2024-12-05T04:35:19.199Z"
   },
   {
    "duration": 3,
    "start_time": "2024-12-05T04:35:19.212Z"
   },
   {
    "duration": 708,
    "start_time": "2024-12-05T04:35:19.218Z"
   },
   {
    "duration": 4,
    "start_time": "2024-12-05T04:35:19.928Z"
   },
   {
    "duration": 27,
    "start_time": "2024-12-05T04:35:19.934Z"
   },
   {
    "duration": 43,
    "start_time": "2024-12-05T04:35:19.963Z"
   },
   {
    "duration": 42,
    "start_time": "2024-12-05T04:35:20.008Z"
   },
   {
    "duration": 11,
    "start_time": "2024-12-05T04:35:20.052Z"
   },
   {
    "duration": 25,
    "start_time": "2024-12-05T04:35:20.066Z"
   },
   {
    "duration": 9,
    "start_time": "2024-12-05T04:35:20.094Z"
   },
   {
    "duration": 5,
    "start_time": "2024-12-05T04:35:20.105Z"
   },
   {
    "duration": 4,
    "start_time": "2024-12-05T04:35:20.513Z"
   },
   {
    "duration": 7,
    "start_time": "2024-12-05T04:35:21.180Z"
   },
   {
    "duration": 10,
    "start_time": "2024-12-05T04:35:21.345Z"
   },
   {
    "duration": 7,
    "start_time": "2024-12-05T04:35:21.753Z"
   },
   {
    "duration": 5,
    "start_time": "2024-12-05T04:35:22.817Z"
   },
   {
    "duration": 4,
    "start_time": "2024-12-05T04:35:23.000Z"
   },
   {
    "duration": 3,
    "start_time": "2024-12-05T04:35:23.804Z"
   },
   {
    "duration": 4,
    "start_time": "2024-12-05T04:35:24.262Z"
   },
   {
    "duration": 29,
    "start_time": "2024-12-05T04:35:24.415Z"
   },
   {
    "duration": 4,
    "start_time": "2024-12-05T04:35:25.444Z"
   },
   {
    "duration": 6,
    "start_time": "2024-12-05T04:35:25.889Z"
   },
   {
    "duration": 3549,
    "start_time": "2024-12-05T04:35:26.702Z"
   },
   {
    "duration": 937,
    "start_time": "2024-12-05T04:35:30.253Z"
   },
   {
    "duration": 516,
    "start_time": "2024-12-05T04:35:33.114Z"
   },
   {
    "duration": 4378,
    "start_time": "2024-12-05T04:35:35.644Z"
   },
   {
    "duration": 11,
    "start_time": "2024-12-05T04:35:42.873Z"
   },
   {
    "duration": 118,
    "start_time": "2024-12-05T04:35:43.829Z"
   },
   {
    "duration": 1686,
    "start_time": "2024-12-05T04:35:44.296Z"
   },
   {
    "duration": 37,
    "start_time": "2024-12-05T04:35:45.986Z"
   },
   {
    "duration": 29,
    "start_time": "2024-12-05T04:35:46.025Z"
   },
   {
    "duration": 6,
    "start_time": "2024-12-05T04:35:46.605Z"
   },
   {
    "duration": 839,
    "start_time": "2024-12-05T04:35:47.762Z"
   },
   {
    "duration": 37,
    "start_time": "2024-12-05T04:35:51.087Z"
   },
   {
    "duration": 4,
    "start_time": "2024-12-05T04:35:51.907Z"
   },
   {
    "duration": 3,
    "start_time": "2024-12-05T04:35:53.026Z"
   },
   {
    "duration": 4449,
    "start_time": "2024-12-05T04:35:53.415Z"
   },
   {
    "duration": 7027,
    "start_time": "2024-12-05T04:35:57.868Z"
   },
   {
    "duration": 954,
    "start_time": "2024-12-05T04:36:04.903Z"
   },
   {
    "duration": 366,
    "start_time": "2024-12-05T04:36:05.861Z"
   },
   {
    "duration": 3,
    "start_time": "2024-12-05T04:36:06.229Z"
   },
   {
    "duration": 110023,
    "start_time": "2024-12-05T04:36:06.234Z"
   },
   {
    "duration": 0,
    "start_time": "2024-12-05T04:37:56.261Z"
   },
   {
    "duration": 0,
    "start_time": "2024-12-05T04:37:56.262Z"
   },
   {
    "duration": 0,
    "start_time": "2024-12-05T04:37:56.264Z"
   },
   {
    "duration": 0,
    "start_time": "2024-12-05T04:37:56.264Z"
   },
   {
    "duration": 0,
    "start_time": "2024-12-05T04:37:56.266Z"
   },
   {
    "duration": 0,
    "start_time": "2024-12-05T04:37:56.267Z"
   },
   {
    "duration": 0,
    "start_time": "2024-12-05T04:37:56.268Z"
   },
   {
    "duration": 3,
    "start_time": "2024-12-05T04:38:02.040Z"
   },
   {
    "duration": 10,
    "start_time": "2024-12-05T04:38:02.050Z"
   },
   {
    "duration": 3,
    "start_time": "2024-12-05T04:38:02.063Z"
   },
   {
    "duration": 606,
    "start_time": "2024-12-05T04:38:02.068Z"
   },
   {
    "duration": 4,
    "start_time": "2024-12-05T04:38:02.675Z"
   },
   {
    "duration": 27,
    "start_time": "2024-12-05T04:38:02.688Z"
   },
   {
    "duration": 23,
    "start_time": "2024-12-05T04:38:02.717Z"
   },
   {
    "duration": 64,
    "start_time": "2024-12-05T04:38:02.742Z"
   },
   {
    "duration": 13,
    "start_time": "2024-12-05T04:38:02.807Z"
   },
   {
    "duration": 8,
    "start_time": "2024-12-05T04:38:02.822Z"
   },
   {
    "duration": 7,
    "start_time": "2024-12-05T04:38:02.832Z"
   },
   {
    "duration": 5,
    "start_time": "2024-12-05T04:38:02.841Z"
   },
   {
    "duration": 3,
    "start_time": "2024-12-05T04:38:02.848Z"
   },
   {
    "duration": 35,
    "start_time": "2024-12-05T04:38:02.853Z"
   },
   {
    "duration": 10,
    "start_time": "2024-12-05T04:38:02.892Z"
   },
   {
    "duration": 6,
    "start_time": "2024-12-05T04:38:02.904Z"
   },
   {
    "duration": 3,
    "start_time": "2024-12-05T04:38:02.912Z"
   },
   {
    "duration": 3,
    "start_time": "2024-12-05T04:38:02.918Z"
   },
   {
    "duration": 4,
    "start_time": "2024-12-05T04:38:02.923Z"
   },
   {
    "duration": 3,
    "start_time": "2024-12-05T04:38:02.929Z"
   },
   {
    "duration": 67,
    "start_time": "2024-12-05T04:38:02.934Z"
   },
   {
    "duration": 5,
    "start_time": "2024-12-05T04:38:03.003Z"
   },
   {
    "duration": 3,
    "start_time": "2024-12-05T04:38:03.010Z"
   },
   {
    "duration": 3548,
    "start_time": "2024-12-05T04:38:03.014Z"
   },
   {
    "duration": 1045,
    "start_time": "2024-12-05T04:38:06.564Z"
   },
   {
    "duration": 499,
    "start_time": "2024-12-05T04:38:07.611Z"
   },
   {
    "duration": 4408,
    "start_time": "2024-12-05T04:38:08.112Z"
   },
   {
    "duration": 17,
    "start_time": "2024-12-05T04:38:12.521Z"
   },
   {
    "duration": 109,
    "start_time": "2024-12-05T04:38:12.541Z"
   },
   {
    "duration": 1775,
    "start_time": "2024-12-05T04:38:12.652Z"
   },
   {
    "duration": 34,
    "start_time": "2024-12-05T04:38:14.429Z"
   },
   {
    "duration": 43,
    "start_time": "2024-12-05T04:38:14.464Z"
   },
   {
    "duration": 5,
    "start_time": "2024-12-05T04:38:14.510Z"
   },
   {
    "duration": 821,
    "start_time": "2024-12-05T04:38:14.517Z"
   },
   {
    "duration": 6,
    "start_time": "2024-12-05T04:38:15.339Z"
   },
   {
    "duration": 3,
    "start_time": "2024-12-05T04:38:15.348Z"
   },
   {
    "duration": 10,
    "start_time": "2024-12-05T04:38:15.353Z"
   },
   {
    "duration": 4562,
    "start_time": "2024-12-05T04:38:15.368Z"
   },
   {
    "duration": 3787,
    "start_time": "2024-12-05T04:38:19.932Z"
   },
   {
    "duration": 990,
    "start_time": "2024-12-05T04:38:23.721Z"
   },
   {
    "duration": 334,
    "start_time": "2024-12-05T04:39:18.215Z"
   },
   {
    "duration": 3,
    "start_time": "2024-12-05T04:39:18.553Z"
   },
   {
    "duration": 487369,
    "start_time": "2024-12-05T04:39:19.965Z"
   },
   {
    "duration": 5,
    "start_time": "2024-12-05T04:47:27.336Z"
   },
   {
    "duration": 4414,
    "start_time": "2024-12-05T04:47:27.344Z"
   },
   {
    "duration": 3241,
    "start_time": "2024-12-05T04:47:31.760Z"
   },
   {
    "duration": 978,
    "start_time": "2024-12-05T04:47:35.013Z"
   },
   {
    "duration": 2,
    "start_time": "2024-12-05T04:47:45.986Z"
   },
   {
    "duration": 41366,
    "start_time": "2024-12-05T04:47:46.873Z"
   },
   {
    "duration": 1799,
    "start_time": "2024-12-05T04:48:28.242Z"
   },
   {
    "duration": 1558,
    "start_time": "2024-12-05T04:48:38.877Z"
   },
   {
    "duration": 5,
    "start_time": "2024-12-05T04:48:40.438Z"
   },
   {
    "duration": 7,
    "start_time": "2024-12-05T04:50:02.643Z"
   },
   {
    "duration": 3477,
    "start_time": "2024-12-05T04:52:10.543Z"
   },
   {
    "duration": 13,
    "start_time": "2024-12-05T04:52:14.022Z"
   },
   {
    "duration": 3,
    "start_time": "2024-12-05T04:52:14.037Z"
   },
   {
    "duration": 745,
    "start_time": "2024-12-05T04:52:14.042Z"
   },
   {
    "duration": 4,
    "start_time": "2024-12-05T04:52:14.790Z"
   },
   {
    "duration": 36,
    "start_time": "2024-12-05T04:52:14.796Z"
   },
   {
    "duration": 27,
    "start_time": "2024-12-05T04:52:14.834Z"
   },
   {
    "duration": 79,
    "start_time": "2024-12-05T04:52:14.862Z"
   },
   {
    "duration": 7,
    "start_time": "2024-12-05T04:52:14.944Z"
   },
   {
    "duration": 11,
    "start_time": "2024-12-05T04:52:14.955Z"
   },
   {
    "duration": 26,
    "start_time": "2024-12-05T04:52:14.967Z"
   },
   {
    "duration": 5,
    "start_time": "2024-12-05T04:52:14.995Z"
   },
   {
    "duration": 4,
    "start_time": "2024-12-05T04:52:15.001Z"
   },
   {
    "duration": 11,
    "start_time": "2024-12-05T04:52:15.007Z"
   },
   {
    "duration": 12,
    "start_time": "2024-12-05T04:52:15.020Z"
   },
   {
    "duration": 6,
    "start_time": "2024-12-05T04:52:15.034Z"
   },
   {
    "duration": 3,
    "start_time": "2024-12-05T04:52:15.042Z"
   },
   {
    "duration": 41,
    "start_time": "2024-12-05T04:52:15.047Z"
   },
   {
    "duration": 4,
    "start_time": "2024-12-05T04:52:15.090Z"
   },
   {
    "duration": 3,
    "start_time": "2024-12-05T04:52:15.097Z"
   },
   {
    "duration": 27,
    "start_time": "2024-12-05T04:52:15.102Z"
   },
   {
    "duration": 4,
    "start_time": "2024-12-05T04:52:15.131Z"
   },
   {
    "duration": 5,
    "start_time": "2024-12-05T04:52:15.137Z"
   },
   {
    "duration": 3569,
    "start_time": "2024-12-05T04:52:15.143Z"
   },
   {
    "duration": 959,
    "start_time": "2024-12-05T04:52:18.714Z"
   },
   {
    "duration": 464,
    "start_time": "2024-12-05T04:52:19.675Z"
   },
   {
    "duration": 4324,
    "start_time": "2024-12-05T04:52:20.141Z"
   },
   {
    "duration": 21,
    "start_time": "2024-12-05T04:52:24.469Z"
   },
   {
    "duration": 135,
    "start_time": "2024-12-05T04:52:24.492Z"
   },
   {
    "duration": 1635,
    "start_time": "2024-12-05T04:52:24.629Z"
   },
   {
    "duration": 46,
    "start_time": "2024-12-05T04:52:26.266Z"
   },
   {
    "duration": 24,
    "start_time": "2024-12-05T04:52:26.314Z"
   },
   {
    "duration": 5,
    "start_time": "2024-12-05T04:52:26.342Z"
   },
   {
    "duration": 896,
    "start_time": "2024-12-05T04:52:26.349Z"
   },
   {
    "duration": 13,
    "start_time": "2024-12-05T04:53:23.126Z"
   },
   {
    "duration": 49,
    "start_time": "2024-12-05T04:53:36.338Z"
   },
   {
    "duration": 4,
    "start_time": "2024-12-05T04:53:36.847Z"
   },
   {
    "duration": 3,
    "start_time": "2024-12-05T04:53:37.747Z"
   },
   {
    "duration": 4565,
    "start_time": "2024-12-05T04:53:37.881Z"
   },
   {
    "duration": 5645,
    "start_time": "2024-12-05T04:53:42.448Z"
   },
   {
    "duration": 923,
    "start_time": "2024-12-05T04:53:48.095Z"
   },
   {
    "duration": 349,
    "start_time": "2024-12-05T05:03:01.689Z"
   },
   {
    "duration": 3,
    "start_time": "2024-12-05T05:03:02.162Z"
   },
   {
    "duration": 477819,
    "start_time": "2024-12-05T05:03:03.220Z"
   },
   {
    "duration": 2,
    "start_time": "2024-12-05T05:11:01.042Z"
   },
   {
    "duration": 4503,
    "start_time": "2024-12-05T05:11:01.046Z"
   },
   {
    "duration": 3848,
    "start_time": "2024-12-05T05:11:05.551Z"
   },
   {
    "duration": 1002,
    "start_time": "2024-12-05T05:11:09.404Z"
   },
   {
    "duration": 2,
    "start_time": "2024-12-05T05:12:22.791Z"
   },
   {
    "duration": 38700,
    "start_time": "2024-12-05T05:12:23.754Z"
   },
   {
    "duration": 1962,
    "start_time": "2024-12-05T05:13:02.456Z"
   },
   {
    "duration": 8,
    "start_time": "2024-12-05T05:25:37.521Z"
   },
   {
    "duration": 4,
    "start_time": "2024-12-05T05:25:50.710Z"
   },
   {
    "duration": 788,
    "start_time": "2024-12-05T05:26:18.668Z"
   },
   {
    "duration": 3,
    "start_time": "2024-12-05T05:29:03.940Z"
   },
   {
    "duration": 4,
    "start_time": "2024-12-05T05:29:27.152Z"
   },
   {
    "duration": 18,
    "start_time": "2024-12-05T05:31:49.995Z"
   },
   {
    "duration": 4,
    "start_time": "2024-12-05T05:31:55.584Z"
   },
   {
    "duration": 3,
    "start_time": "2024-12-05T05:31:55.965Z"
   },
   {
    "duration": 4,
    "start_time": "2024-12-05T05:31:56.300Z"
   },
   {
    "duration": 2,
    "start_time": "2024-12-05T05:31:56.704Z"
   },
   {
    "duration": 6,
    "start_time": "2024-12-05T05:31:57.665Z"
   },
   {
    "duration": 3,
    "start_time": "2024-12-05T05:34:40.439Z"
   },
   {
    "duration": 4,
    "start_time": "2024-12-05T05:36:49.037Z"
   },
   {
    "duration": 4,
    "start_time": "2024-12-05T05:36:50.874Z"
   },
   {
    "duration": 4,
    "start_time": "2024-12-05T05:36:51.387Z"
   },
   {
    "duration": 3,
    "start_time": "2024-12-05T05:36:53.486Z"
   },
   {
    "duration": 5,
    "start_time": "2024-12-05T05:36:54.159Z"
   },
   {
    "duration": 24,
    "start_time": "2024-12-05T05:46:22.697Z"
   },
   {
    "duration": 4,
    "start_time": "2024-12-05T05:46:38.347Z"
   },
   {
    "duration": 4,
    "start_time": "2024-12-05T05:47:09.795Z"
   },
   {
    "duration": 5,
    "start_time": "2024-12-05T05:49:14.588Z"
   },
   {
    "duration": 3,
    "start_time": "2024-12-05T05:49:40.071Z"
   },
   {
    "duration": 3,
    "start_time": "2024-12-05T05:49:51.839Z"
   },
   {
    "duration": 5,
    "start_time": "2024-12-05T05:53:23.906Z"
   },
   {
    "duration": 4,
    "start_time": "2024-12-05T05:53:34.416Z"
   },
   {
    "duration": 4,
    "start_time": "2024-12-05T05:53:34.849Z"
   },
   {
    "duration": 4,
    "start_time": "2024-12-05T05:53:38.063Z"
   },
   {
    "duration": 26,
    "start_time": "2024-12-05T05:53:41.037Z"
   },
   {
    "duration": 7,
    "start_time": "2024-12-05T05:53:44.434Z"
   },
   {
    "duration": 5,
    "start_time": "2024-12-05T05:53:59.548Z"
   },
   {
    "duration": 3,
    "start_time": "2024-12-05T05:54:00.148Z"
   },
   {
    "duration": 3,
    "start_time": "2024-12-05T05:54:01.292Z"
   },
   {
    "duration": 5,
    "start_time": "2024-12-05T06:02:58.837Z"
   },
   {
    "duration": 9,
    "start_time": "2024-12-05T06:02:59.312Z"
   },
   {
    "duration": 4,
    "start_time": "2024-12-05T06:02:59.753Z"
   },
   {
    "duration": 607,
    "start_time": "2024-12-05T06:03:00.441Z"
   },
   {
    "duration": 4,
    "start_time": "2024-12-05T06:03:01.050Z"
   },
   {
    "duration": 40,
    "start_time": "2024-12-05T06:03:01.056Z"
   },
   {
    "duration": 25,
    "start_time": "2024-12-05T06:03:01.741Z"
   },
   {
    "duration": 41,
    "start_time": "2024-12-05T06:03:02.030Z"
   },
   {
    "duration": 9,
    "start_time": "2024-12-05T06:03:03.018Z"
   },
   {
    "duration": 8,
    "start_time": "2024-12-05T06:03:03.334Z"
   },
   {
    "duration": 12,
    "start_time": "2024-12-05T06:03:03.975Z"
   },
   {
    "duration": 6,
    "start_time": "2024-12-05T06:03:04.911Z"
   },
   {
    "duration": 4,
    "start_time": "2024-12-05T06:03:05.275Z"
   },
   {
    "duration": 9,
    "start_time": "2024-12-05T06:03:05.841Z"
   },
   {
    "duration": 9,
    "start_time": "2024-12-05T06:03:06.155Z"
   },
   {
    "duration": 6,
    "start_time": "2024-12-05T06:03:06.446Z"
   },
   {
    "duration": 4,
    "start_time": "2024-12-05T06:03:07.533Z"
   },
   {
    "duration": 3,
    "start_time": "2024-12-05T06:03:07.831Z"
   },
   {
    "duration": 3,
    "start_time": "2024-12-05T06:03:08.436Z"
   },
   {
    "duration": 4,
    "start_time": "2024-12-05T06:03:08.800Z"
   },
   {
    "duration": 27,
    "start_time": "2024-12-05T06:03:09.223Z"
   },
   {
    "duration": 6,
    "start_time": "2024-12-05T06:03:10.218Z"
   },
   {
    "duration": 4,
    "start_time": "2024-12-05T06:03:10.375Z"
   },
   {
    "duration": 3310,
    "start_time": "2024-12-05T06:03:11.298Z"
   },
   {
    "duration": 880,
    "start_time": "2024-12-05T06:03:14.610Z"
   },
   {
    "duration": 481,
    "start_time": "2024-12-05T06:03:15.493Z"
   },
   {
    "duration": 4458,
    "start_time": "2024-12-05T06:03:15.976Z"
   },
   {
    "duration": 11,
    "start_time": "2024-12-05T06:03:20.436Z"
   },
   {
    "duration": 150,
    "start_time": "2024-12-05T06:03:20.450Z"
   },
   {
    "duration": 1679,
    "start_time": "2024-12-05T06:03:20.602Z"
   },
   {
    "duration": 37,
    "start_time": "2024-12-05T06:03:22.283Z"
   },
   {
    "duration": 72,
    "start_time": "2024-12-05T06:03:22.322Z"
   },
   {
    "duration": 5,
    "start_time": "2024-12-05T06:03:22.399Z"
   },
   {
    "duration": 864,
    "start_time": "2024-12-05T06:03:22.407Z"
   },
   {
    "duration": 50,
    "start_time": "2024-12-05T06:03:23.273Z"
   },
   {
    "duration": 3,
    "start_time": "2024-12-05T06:03:23.325Z"
   },
   {
    "duration": 10,
    "start_time": "2024-12-05T06:03:23.329Z"
   },
   {
    "duration": 5301,
    "start_time": "2024-12-05T06:03:28.532Z"
   },
   {
    "duration": 5064,
    "start_time": "2024-12-05T06:03:33.835Z"
   },
   {
    "duration": 1249,
    "start_time": "2024-12-05T06:03:38.901Z"
   },
   {
    "duration": 321,
    "start_time": "2024-12-05T06:03:45.090Z"
   },
   {
    "duration": 4,
    "start_time": "2024-12-05T06:03:47.209Z"
   },
   {
    "duration": 504373,
    "start_time": "2024-12-05T06:03:47.964Z"
   },
   {
    "duration": 7,
    "start_time": "2024-12-05T06:12:12.340Z"
   },
   {
    "duration": 4531,
    "start_time": "2024-12-05T06:12:12.350Z"
   },
   {
    "duration": 2615,
    "start_time": "2024-12-05T06:12:16.886Z"
   },
   {
    "duration": 983,
    "start_time": "2024-12-05T06:12:19.503Z"
   },
   {
    "duration": 4,
    "start_time": "2024-12-05T06:13:41.127Z"
   },
   {
    "duration": 40804,
    "start_time": "2024-12-05T06:13:47.298Z"
   },
   {
    "duration": 1757,
    "start_time": "2024-12-05T06:14:28.105Z"
   },
   {
    "duration": 6,
    "start_time": "2024-12-05T06:15:01.411Z"
   },
   {
    "duration": 10,
    "start_time": "2024-12-05T06:15:01.419Z"
   },
   {
    "duration": 2,
    "start_time": "2024-12-05T06:15:01.431Z"
   },
   {
    "duration": 668,
    "start_time": "2024-12-05T06:15:01.435Z"
   },
   {
    "duration": 3,
    "start_time": "2024-12-05T06:15:02.107Z"
   },
   {
    "duration": 27,
    "start_time": "2024-12-05T06:15:02.112Z"
   },
   {
    "duration": 23,
    "start_time": "2024-12-05T06:15:02.140Z"
   },
   {
    "duration": 75,
    "start_time": "2024-12-05T06:15:02.165Z"
   },
   {
    "duration": 8,
    "start_time": "2024-12-05T06:15:02.242Z"
   },
   {
    "duration": 10,
    "start_time": "2024-12-05T06:15:02.252Z"
   },
   {
    "duration": 30,
    "start_time": "2024-12-05T06:15:02.264Z"
   },
   {
    "duration": 5,
    "start_time": "2024-12-05T06:15:02.296Z"
   },
   {
    "duration": 4,
    "start_time": "2024-12-05T06:15:02.302Z"
   },
   {
    "duration": 7,
    "start_time": "2024-12-05T06:15:02.311Z"
   },
   {
    "duration": 10,
    "start_time": "2024-12-05T06:15:02.320Z"
   },
   {
    "duration": 6,
    "start_time": "2024-12-05T06:15:02.331Z"
   },
   {
    "duration": 4,
    "start_time": "2024-12-05T06:15:02.339Z"
   },
   {
    "duration": 3,
    "start_time": "2024-12-05T06:15:02.345Z"
   },
   {
    "duration": 4,
    "start_time": "2024-12-05T06:15:02.386Z"
   },
   {
    "duration": 4,
    "start_time": "2024-12-05T06:15:02.392Z"
   },
   {
    "duration": 30,
    "start_time": "2024-12-05T06:15:02.398Z"
   },
   {
    "duration": 5,
    "start_time": "2024-12-05T06:15:02.429Z"
   },
   {
    "duration": 7,
    "start_time": "2024-12-05T06:15:02.436Z"
   },
   {
    "duration": 3351,
    "start_time": "2024-12-05T06:15:02.446Z"
   },
   {
    "duration": 863,
    "start_time": "2024-12-05T06:15:05.800Z"
   },
   {
    "duration": 456,
    "start_time": "2024-12-05T06:15:06.666Z"
   },
   {
    "duration": 4504,
    "start_time": "2024-12-05T06:15:07.125Z"
   },
   {
    "duration": 16,
    "start_time": "2024-12-05T06:15:11.633Z"
   },
   {
    "duration": 107,
    "start_time": "2024-12-05T06:15:11.650Z"
   },
   {
    "duration": 1675,
    "start_time": "2024-12-05T06:15:11.759Z"
   },
   {
    "duration": 36,
    "start_time": "2024-12-05T06:15:13.436Z"
   },
   {
    "duration": 67,
    "start_time": "2024-12-05T06:15:13.475Z"
   },
   {
    "duration": 6,
    "start_time": "2024-12-05T06:15:15.149Z"
   },
   {
    "duration": 816,
    "start_time": "2024-12-05T06:15:17.149Z"
   },
   {
    "duration": 4,
    "start_time": "2024-12-05T06:15:19.658Z"
   },
   {
    "duration": 3,
    "start_time": "2024-12-05T06:15:20.181Z"
   },
   {
    "duration": 8,
    "start_time": "2024-12-05T06:15:20.999Z"
   },
   {
    "duration": 4706,
    "start_time": "2024-12-05T06:15:21.580Z"
   },
   {
    "duration": 5622,
    "start_time": "2024-12-05T06:15:26.289Z"
   },
   {
    "duration": 1209,
    "start_time": "2024-12-05T06:15:31.913Z"
   },
   {
    "duration": 381,
    "start_time": "2024-12-05T06:15:33.124Z"
   },
   {
    "duration": 3,
    "start_time": "2024-12-05T06:15:33.507Z"
   },
   {
    "duration": 490386,
    "start_time": "2024-12-05T06:15:33.512Z"
   },
   {
    "duration": 9,
    "start_time": "2024-12-05T06:23:43.900Z"
   },
   {
    "duration": 4506,
    "start_time": "2024-12-05T06:23:43.911Z"
   },
   {
    "duration": 5304,
    "start_time": "2024-12-05T06:23:48.420Z"
   },
   {
    "duration": 901,
    "start_time": "2024-12-05T06:23:53.789Z"
   },
   {
    "duration": 3,
    "start_time": "2024-12-05T06:35:06.363Z"
   },
   {
    "duration": 39621,
    "start_time": "2024-12-05T06:35:07.239Z"
   },
   {
    "duration": 1733,
    "start_time": "2024-12-05T06:35:46.863Z"
   },
   {
    "duration": 4,
    "start_time": "2024-12-05T06:35:52.341Z"
   },
   {
    "duration": 4,
    "start_time": "2024-12-05T06:35:53.418Z"
   },
   {
    "duration": 4,
    "start_time": "2024-12-05T06:35:53.976Z"
   },
   {
    "duration": 31,
    "start_time": "2024-12-05T06:35:54.494Z"
   },
   {
    "duration": 5,
    "start_time": "2024-12-05T06:35:55.318Z"
   },
   {
    "duration": 5,
    "start_time": "2024-12-05T06:35:56.896Z"
   },
   {
    "duration": 3,
    "start_time": "2024-12-05T06:35:57.399Z"
   },
   {
    "duration": 4,
    "start_time": "2024-12-05T06:35:57.894Z"
   },
   {
    "duration": 32,
    "start_time": "2024-12-05T06:36:51.991Z"
   },
   {
    "duration": 3,
    "start_time": "2024-12-05T06:41:20.551Z"
   },
   {
    "duration": 3,
    "start_time": "2024-12-05T06:41:26.768Z"
   },
   {
    "duration": 6,
    "start_time": "2024-12-05T06:41:29.220Z"
   },
   {
    "duration": 24,
    "start_time": "2024-12-05T06:44:26.850Z"
   },
   {
    "duration": 31,
    "start_time": "2024-12-05T06:45:18.994Z"
   },
   {
    "duration": 28,
    "start_time": "2024-12-05T06:45:34.772Z"
   },
   {
    "duration": 30,
    "start_time": "2024-12-05T06:48:28.104Z"
   },
   {
    "duration": 141,
    "start_time": "2024-12-05T06:50:16.252Z"
   },
   {
    "duration": 38,
    "start_time": "2024-12-05T06:51:11.720Z"
   },
   {
    "duration": 38,
    "start_time": "2024-12-05T06:51:27.433Z"
   },
   {
    "duration": 21,
    "start_time": "2024-12-05T06:53:53.647Z"
   },
   {
    "duration": 37,
    "start_time": "2024-12-05T06:54:34.796Z"
   },
   {
    "duration": 25,
    "start_time": "2024-12-05T07:03:12.320Z"
   },
   {
    "duration": 26,
    "start_time": "2024-12-05T07:04:49.011Z"
   },
   {
    "duration": 28,
    "start_time": "2024-12-05T07:06:46.360Z"
   },
   {
    "duration": 45,
    "start_time": "2024-12-05T07:07:04.383Z"
   },
   {
    "duration": 25,
    "start_time": "2024-12-05T07:07:24.406Z"
   },
   {
    "duration": 26,
    "start_time": "2024-12-05T07:08:44.232Z"
   },
   {
    "duration": 30,
    "start_time": "2024-12-05T07:10:57.760Z"
   },
   {
    "duration": 29,
    "start_time": "2024-12-05T07:11:46.550Z"
   },
   {
    "duration": 383,
    "start_time": "2024-12-05T07:12:05.258Z"
   },
   {
    "duration": 3459,
    "start_time": "2024-12-05T07:17:30.642Z"
   },
   {
    "duration": 14,
    "start_time": "2024-12-05T07:17:34.104Z"
   },
   {
    "duration": 3,
    "start_time": "2024-12-05T07:17:34.120Z"
   },
   {
    "duration": 670,
    "start_time": "2024-12-05T07:17:34.126Z"
   },
   {
    "duration": 5,
    "start_time": "2024-12-05T07:17:34.798Z"
   },
   {
    "duration": 38,
    "start_time": "2024-12-05T07:17:34.805Z"
   },
   {
    "duration": 46,
    "start_time": "2024-12-05T07:17:34.845Z"
   },
   {
    "duration": 60,
    "start_time": "2024-12-05T07:17:34.893Z"
   },
   {
    "duration": 10,
    "start_time": "2024-12-05T07:17:34.956Z"
   },
   {
    "duration": 25,
    "start_time": "2024-12-05T07:17:34.970Z"
   },
   {
    "duration": 9,
    "start_time": "2024-12-05T07:17:34.996Z"
   },
   {
    "duration": 5,
    "start_time": "2024-12-05T07:17:35.007Z"
   },
   {
    "duration": 3,
    "start_time": "2024-12-05T07:17:35.014Z"
   },
   {
    "duration": 9,
    "start_time": "2024-12-05T07:17:35.019Z"
   },
   {
    "duration": 12,
    "start_time": "2024-12-05T07:17:35.030Z"
   },
   {
    "duration": 7,
    "start_time": "2024-12-05T07:17:35.044Z"
   },
   {
    "duration": 4,
    "start_time": "2024-12-05T07:17:35.087Z"
   },
   {
    "duration": 5,
    "start_time": "2024-12-05T07:17:35.093Z"
   },
   {
    "duration": 4,
    "start_time": "2024-12-05T07:17:35.099Z"
   },
   {
    "duration": 6,
    "start_time": "2024-12-05T07:17:35.105Z"
   },
   {
    "duration": 27,
    "start_time": "2024-12-05T07:17:35.113Z"
   },
   {
    "duration": 5,
    "start_time": "2024-12-05T07:17:35.142Z"
   },
   {
    "duration": 38,
    "start_time": "2024-12-05T07:17:35.150Z"
   },
   {
    "duration": 3477,
    "start_time": "2024-12-05T07:17:35.190Z"
   },
   {
    "duration": 893,
    "start_time": "2024-12-05T07:17:38.669Z"
   },
   {
    "duration": 448,
    "start_time": "2024-12-05T07:17:39.564Z"
   },
   {
    "duration": 4211,
    "start_time": "2024-12-05T07:17:40.015Z"
   },
   {
    "duration": 11,
    "start_time": "2024-12-05T07:17:52.862Z"
   },
   {
    "duration": 196,
    "start_time": "2024-12-05T07:17:54.630Z"
   },
   {
    "duration": 1603,
    "start_time": "2024-12-05T07:17:55.170Z"
   },
   {
    "duration": 40,
    "start_time": "2024-12-05T07:17:56.776Z"
   },
   {
    "duration": 26,
    "start_time": "2024-12-05T07:17:57.060Z"
   },
   {
    "duration": 5,
    "start_time": "2024-12-05T07:17:58.660Z"
   },
   {
    "duration": 832,
    "start_time": "2024-12-05T07:17:59.481Z"
   },
   {
    "duration": 44,
    "start_time": "2024-12-05T07:18:02.681Z"
   },
   {
    "duration": 4,
    "start_time": "2024-12-05T07:18:03.077Z"
   },
   {
    "duration": 2,
    "start_time": "2024-12-05T07:18:03.715Z"
   },
   {
    "duration": 4497,
    "start_time": "2024-12-05T07:18:04.105Z"
   },
   {
    "duration": 6889,
    "start_time": "2024-12-05T07:18:08.605Z"
   },
   {
    "duration": 905,
    "start_time": "2024-12-05T07:18:15.501Z"
   },
   {
    "duration": 327,
    "start_time": "2024-12-05T07:18:20.451Z"
   },
   {
    "duration": 3,
    "start_time": "2024-12-05T07:18:20.819Z"
   },
   {
    "duration": 446189,
    "start_time": "2024-12-05T07:18:21.643Z"
   },
   {
    "duration": 2,
    "start_time": "2024-12-05T07:25:47.834Z"
   },
   {
    "duration": 4129,
    "start_time": "2024-12-05T07:25:47.839Z"
   },
   {
    "duration": 3124,
    "start_time": "2024-12-05T07:25:51.971Z"
   },
   {
    "duration": 917,
    "start_time": "2024-12-05T07:25:55.096Z"
   },
   {
    "duration": 3,
    "start_time": "2024-12-05T07:26:03.587Z"
   },
   {
    "duration": 31603,
    "start_time": "2024-12-05T07:26:04.248Z"
   },
   {
    "duration": 1585,
    "start_time": "2024-12-05T07:26:35.854Z"
   },
   {
    "duration": 4,
    "start_time": "2024-12-05T07:26:37.441Z"
   },
   {
    "duration": 4,
    "start_time": "2024-12-05T07:26:37.447Z"
   },
   {
    "duration": 4,
    "start_time": "2024-12-05T07:26:37.452Z"
   },
   {
    "duration": 41,
    "start_time": "2024-12-05T07:26:37.457Z"
   },
   {
    "duration": 3,
    "start_time": "2024-12-05T07:26:37.500Z"
   },
   {
    "duration": 4,
    "start_time": "2024-12-05T07:26:37.505Z"
   },
   {
    "duration": 3,
    "start_time": "2024-12-05T07:26:37.511Z"
   },
   {
    "duration": 3,
    "start_time": "2024-12-05T07:26:37.517Z"
   },
   {
    "duration": 25,
    "start_time": "2024-12-05T07:26:37.522Z"
   },
   {
    "duration": 26,
    "start_time": "2024-12-05T07:27:43.331Z"
   },
   {
    "duration": 396,
    "start_time": "2024-12-05T07:27:45.333Z"
   }
  ],
  "kernelspec": {
   "display_name": "Python 3 (ipykernel)",
   "language": "python",
   "name": "python3"
  },
  "language_info": {
   "codemirror_mode": {
    "name": "ipython",
    "version": 3
   },
   "file_extension": ".py",
   "mimetype": "text/x-python",
   "name": "python",
   "nbconvert_exporter": "python",
   "pygments_lexer": "ipython3",
   "version": "3.11.7"
  },
  "toc": {
   "base_numbering": 1,
   "nav_menu": {},
   "number_sections": true,
   "sideBar": true,
   "skip_h1_title": true,
   "title_cell": "Table of Contents",
   "title_sidebar": "Contents",
   "toc_cell": false,
   "toc_position": {},
   "toc_section_display": true,
   "toc_window_display": false
  }
 },
 "nbformat": 4,
 "nbformat_minor": 4
}
