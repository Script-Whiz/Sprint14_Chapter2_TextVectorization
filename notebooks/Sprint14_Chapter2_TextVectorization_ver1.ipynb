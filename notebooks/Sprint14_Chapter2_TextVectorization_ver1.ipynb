{
 "cells": [
  {
   "cell_type": "markdown",
   "id": "f366a7cd-894d-4cf6-859d-83fb4d2695f2",
   "metadata": {},
   "source": [
    "Sprint 14 Chapter 2"
   ]
  },
  {
   "cell_type": "markdown",
   "id": "dfe34c68-b437-47e9-a40c-fa2f8fb47c4b",
   "metadata": {},
   "source": [
    "## Introduction"
   ]
  },
  {
   "cell_type": "markdown",
   "id": "d34adc7e-9e34-4bee-9005-e0537064c17e",
   "metadata": {},
   "source": [
    "Train a logistic regression model to determine the tonality of the reviews. Use TF-IDF vectors for lemmatized reviews as features.\n",
    "\n",
    "The train part of the dataset is in the imdb_reviews_small_lemm_train.tsv file, the lemmatized reviews are in the review_lemm column (so you don't have to lemmatize reviews yourself), and the target is in the pos column (0 - negative review, 1 - positive review).\n",
    "\n",
    "Use the trained classification model to determine the prediction results for the test sample of reviews from the imdb_reviews_small_lemm_test.tsv file. Save the predictions to the pos column. The model accuracy should be at least 0.82.\n",
    "\n",
    "Save the table with results as a CSV file. Don't specify the file extension so that the platform accepts the file (for example, call it 'predictions'). To submit your answer, upload your CSV file to the platform, do not submit your actual code."
   ]
  },
  {
   "cell_type": "markdown",
   "id": "2c6c04c0-fa35-433c-a73f-333b8e1f35f3",
   "metadata": {},
   "source": [
    "## Import libraries"
   ]
  },
  {
   "cell_type": "code",
   "execution_count": 152,
   "id": "2fd4ac37-8b10-4908-b673-57580d2708c8",
   "metadata": {},
   "outputs": [],
   "source": [
    "import pandas as pd\n",
    "\n",
    "import spacy\n",
    "\n",
    "import random \n",
    "\n",
    "from nltk.corpus import stopwords as nltk_stopwords\n",
    "from sklearn.feature_extraction.text import TfidfVectorizer\n",
    "from sklearn.feature_extraction.text import CountVectorizer\n",
    "\n",
    "from sklearn.linear_model import LogisticRegression\n",
    "from sklearn.metrics import accuracy_score"
   ]
  },
  {
   "cell_type": "markdown",
   "id": "86f125c0-f175-4ca7-ae6e-a50ecdbd11ff",
   "metadata": {},
   "source": [
    "## Load test dataset"
   ]
  },
  {
   "cell_type": "code",
   "execution_count": 154,
   "id": "1848573f-2a42-4a87-854c-adbe4992fdd0",
   "metadata": {},
   "outputs": [
    {
     "name": "stdout",
     "output_type": "stream",
     "text": [
      "TSV test file loaded successfully from the local path.\n",
      "It's a great day.\n"
     ]
    }
   ],
   "source": [
    "try:\n",
    "    # Attempt to read from the server path\n",
    "    test = pd.read_csv('/datasets/moved_imdb_reviews_small_lemm_test.tsv', sep='\\t')\n",
    "except FileNotFoundError:\n",
    "    # Fallback to the local path\n",
    "    test = pd.read_csv('../datasets/moved_imdb_reviews_small_lemm_test.tsv', sep='\\t')\n",
    "    print(\"TSV test file loaded successfully from the local path.\")\n",
    "else:\n",
    "    # This block runs if no exception is raised in the try block\n",
    "    print(\"CSV test file loaded successfully from the server path.\")\n",
    "finally:\n",
    "    # This block is always executed, no matter if an exception is thrown or not\n",
    "    print(\"It's a great day.\")"
   ]
  },
  {
   "cell_type": "code",
   "execution_count": 155,
   "id": "c51945dd-6a05-4fac-93ea-06fdbe9f528e",
   "metadata": {},
   "outputs": [
    {
     "data": {
      "text/plain": [
       "(2220, 4)"
      ]
     },
     "execution_count": 155,
     "metadata": {},
     "output_type": "execute_result"
    }
   ],
   "source": [
    "test.shape"
   ]
  },
  {
   "cell_type": "code",
   "execution_count": 156,
   "id": "6ff33d50-75e5-41a0-b0ce-f81102ac3e4d",
   "metadata": {},
   "outputs": [
    {
     "data": {
      "text/html": [
       "<div>\n",
       "<style scoped>\n",
       "    .dataframe tbody tr th:only-of-type {\n",
       "        vertical-align: middle;\n",
       "    }\n",
       "\n",
       "    .dataframe tbody tr th {\n",
       "        vertical-align: top;\n",
       "    }\n",
       "\n",
       "    .dataframe thead th {\n",
       "        text-align: right;\n",
       "    }\n",
       "</style>\n",
       "<table border=\"1\" class=\"dataframe\">\n",
       "  <thead>\n",
       "    <tr style=\"text-align: right;\">\n",
       "      <th></th>\n",
       "      <th>tconst</th>\n",
       "      <th>original_title</th>\n",
       "      <th>review</th>\n",
       "      <th>review_lemm</th>\n",
       "    </tr>\n",
       "  </thead>\n",
       "  <tbody>\n",
       "    <tr>\n",
       "      <th>0</th>\n",
       "      <td>tt0108999</td>\n",
       "      <td>...And the Earth Did Not Swallow Him</td>\n",
       "      <td>I rented this movie from a local library witho...</td>\n",
       "      <td>i rent this movie from a local library without...</td>\n",
       "    </tr>\n",
       "    <tr>\n",
       "      <th>1</th>\n",
       "      <td>tt0108999</td>\n",
       "      <td>...And the Earth Did Not Swallow Him</td>\n",
       "      <td>The movie \". . . And The Earth Did not Swallow...</td>\n",
       "      <td>the movie and the earth do not swallow -PRON- ...</td>\n",
       "    </tr>\n",
       "    <tr>\n",
       "      <th>2</th>\n",
       "      <td>tt0108999</td>\n",
       "      <td>...And the Earth Did Not Swallow Him</td>\n",
       "      <td>I was very moved by the young life experiences...</td>\n",
       "      <td>i be very move by the young life experience of...</td>\n",
       "    </tr>\n",
       "    <tr>\n",
       "      <th>3</th>\n",
       "      <td>tt0108999</td>\n",
       "      <td>...And the Earth Did Not Swallow Him</td>\n",
       "      <td>Recently finally available in DVD (11/11/08), ...</td>\n",
       "      <td>recently finally available in dvd severo p rez...</td>\n",
       "    </tr>\n",
       "    <tr>\n",
       "      <th>4</th>\n",
       "      <td>tt0063308</td>\n",
       "      <td>Un minuto per pregare, un istante per morire</td>\n",
       "      <td>I saw this movie over 20 years ago and had rat...</td>\n",
       "      <td>i see this movie over year ago and have rather...</td>\n",
       "    </tr>\n",
       "    <tr>\n",
       "      <th>5</th>\n",
       "      <td>tt0063308</td>\n",
       "      <td>Un minuto per pregare, un istante per morire</td>\n",
       "      <td>This Spaghetti Western uses three American lea...</td>\n",
       "      <td>this spaghetti western use three american lead...</td>\n",
       "    </tr>\n",
       "    <tr>\n",
       "      <th>6</th>\n",
       "      <td>tt0063308</td>\n",
       "      <td>Un minuto per pregare, un istante per morire</td>\n",
       "      <td>I found this to be an underrated, quietly comp...</td>\n",
       "      <td>i find this to be an underrated quietly compel...</td>\n",
       "    </tr>\n",
       "    <tr>\n",
       "      <th>7</th>\n",
       "      <td>tt0063308</td>\n",
       "      <td>Un minuto per pregare, un istante per morire</td>\n",
       "      <td>\"A Minute to Pray, A Second to Die\" is a quali...</td>\n",
       "      <td>a minute to pray a second to die be a quality ...</td>\n",
       "    </tr>\n",
       "    <tr>\n",
       "      <th>8</th>\n",
       "      <td>tt0063308</td>\n",
       "      <td>Un minuto per pregare, un istante per morire</td>\n",
       "      <td>The cast alone tells you this will be a notch ...</td>\n",
       "      <td>the cast alone tell -PRON- this will be a notc...</td>\n",
       "    </tr>\n",
       "    <tr>\n",
       "      <th>9</th>\n",
       "      <td>tt0063308</td>\n",
       "      <td>Un minuto per pregare, un istante per morire</td>\n",
       "      <td>There are a number of reviews that comment on ...</td>\n",
       "      <td>there be a number of review that comment on th...</td>\n",
       "    </tr>\n",
       "    <tr>\n",
       "      <th>10</th>\n",
       "      <td>tt0063308</td>\n",
       "      <td>Un minuto per pregare, un istante per morire</td>\n",
       "      <td>I caught this for the first time a few nights ...</td>\n",
       "      <td>i catch this for the first time a few night ag...</td>\n",
       "    </tr>\n",
       "    <tr>\n",
       "      <th>11</th>\n",
       "      <td>tt0063308</td>\n",
       "      <td>Un minuto per pregare, un istante per morire</td>\n",
       "      <td>In A Minute To Pray, A Second To Die, Clay McC...</td>\n",
       "      <td>in a minute to pray a second to die clay mccor...</td>\n",
       "    </tr>\n",
       "  </tbody>\n",
       "</table>\n",
       "</div>"
      ],
      "text/plain": [
       "       tconst                                original_title  \\\n",
       "0   tt0108999          ...And the Earth Did Not Swallow Him   \n",
       "1   tt0108999          ...And the Earth Did Not Swallow Him   \n",
       "2   tt0108999          ...And the Earth Did Not Swallow Him   \n",
       "3   tt0108999          ...And the Earth Did Not Swallow Him   \n",
       "4   tt0063308  Un minuto per pregare, un istante per morire   \n",
       "5   tt0063308  Un minuto per pregare, un istante per morire   \n",
       "6   tt0063308  Un minuto per pregare, un istante per morire   \n",
       "7   tt0063308  Un minuto per pregare, un istante per morire   \n",
       "8   tt0063308  Un minuto per pregare, un istante per morire   \n",
       "9   tt0063308  Un minuto per pregare, un istante per morire   \n",
       "10  tt0063308  Un minuto per pregare, un istante per morire   \n",
       "11  tt0063308  Un minuto per pregare, un istante per morire   \n",
       "\n",
       "                                               review  \\\n",
       "0   I rented this movie from a local library witho...   \n",
       "1   The movie \". . . And The Earth Did not Swallow...   \n",
       "2   I was very moved by the young life experiences...   \n",
       "3   Recently finally available in DVD (11/11/08), ...   \n",
       "4   I saw this movie over 20 years ago and had rat...   \n",
       "5   This Spaghetti Western uses three American lea...   \n",
       "6   I found this to be an underrated, quietly comp...   \n",
       "7   \"A Minute to Pray, A Second to Die\" is a quali...   \n",
       "8   The cast alone tells you this will be a notch ...   \n",
       "9   There are a number of reviews that comment on ...   \n",
       "10  I caught this for the first time a few nights ...   \n",
       "11  In A Minute To Pray, A Second To Die, Clay McC...   \n",
       "\n",
       "                                          review_lemm  \n",
       "0   i rent this movie from a local library without...  \n",
       "1   the movie and the earth do not swallow -PRON- ...  \n",
       "2   i be very move by the young life experience of...  \n",
       "3   recently finally available in dvd severo p rez...  \n",
       "4   i see this movie over year ago and have rather...  \n",
       "5   this spaghetti western use three american lead...  \n",
       "6   i find this to be an underrated quietly compel...  \n",
       "7   a minute to pray a second to die be a quality ...  \n",
       "8   the cast alone tell -PRON- this will be a notc...  \n",
       "9   there be a number of review that comment on th...  \n",
       "10  i catch this for the first time a few night ag...  \n",
       "11  in a minute to pray a second to die clay mccor...  "
      ]
     },
     "metadata": {},
     "output_type": "display_data"
    }
   ],
   "source": [
    "display(test.head(12))"
   ]
  },
  {
   "cell_type": "markdown",
   "id": "f56b9e9f-3b4b-4e29-a241-5359bd145a4f",
   "metadata": {},
   "source": [
    "# Inspect test dataset"
   ]
  },
  {
   "cell_type": "code",
   "execution_count": 158,
   "id": "6592f5bd-0f78-4d61-a741-ce0b2da78220",
   "metadata": {},
   "outputs": [
    {
     "name": "stdout",
     "output_type": "stream",
     "text": [
      "<class 'pandas.core.frame.DataFrame'>\n",
      "RangeIndex: 2220 entries, 0 to 2219\n",
      "Data columns (total 4 columns):\n",
      " #   Column          Non-Null Count  Dtype \n",
      "---  ------          --------------  ----- \n",
      " 0   tconst          2220 non-null   object\n",
      " 1   original_title  2220 non-null   object\n",
      " 2   review          2220 non-null   object\n",
      " 3   review_lemm     2220 non-null   object\n",
      "dtypes: object(4)\n",
      "memory usage: 69.5+ KB\n"
     ]
    }
   ],
   "source": [
    "test.info()"
   ]
  },
  {
   "cell_type": "markdown",
   "id": "8c7cdc17-86c4-42dd-aaa4-6f4f5c18a309",
   "metadata": {},
   "source": [
    "There is no data missing."
   ]
  },
  {
   "cell_type": "markdown",
   "id": "964959e0-6872-4220-83ac-82d3d28fe26d",
   "metadata": {},
   "source": [
    "## Load train dataset"
   ]
  },
  {
   "cell_type": "code",
   "execution_count": 161,
   "id": "47035f04-4a95-469f-9921-fd7904830685",
   "metadata": {},
   "outputs": [
    {
     "name": "stdout",
     "output_type": "stream",
     "text": [
      "CSV train file loaded successfully from the local path.\n",
      "It's a great day.\n"
     ]
    }
   ],
   "source": [
    "try:\n",
    "    # Attempt to read from the server path\n",
    "    train = pd.read_csv('/datasets/moved_imdb_reviews_small_lemm_train.tsv', sep='\\t')\n",
    "except FileNotFoundError:\n",
    "    # Fallback to the local path\n",
    "    train = pd.read_csv('../datasets/moved_imdb_reviews_small_lemm_train.tsv', sep='\\t')\n",
    "    print(\"CSV train file loaded successfully from the local path.\")\n",
    "else:\n",
    "    # This block runs if no exception is raised in the try block\n",
    "    print(\"CSV train file loaded successfully from the server path.\")\n",
    "finally:\n",
    "    # This block is always executed, no matter if an exception is thrown or not\n",
    "    print(\"It's a great day.\")"
   ]
  },
  {
   "cell_type": "code",
   "execution_count": 162,
   "id": "3408413c-5358-4ea3-8aab-0d90c2fe00c1",
   "metadata": {},
   "outputs": [
    {
     "data": {
      "text/plain": [
       "(2027, 5)"
      ]
     },
     "execution_count": 162,
     "metadata": {},
     "output_type": "execute_result"
    }
   ],
   "source": [
    "train.shape"
   ]
  },
  {
   "cell_type": "code",
   "execution_count": 163,
   "id": "0a0064b3-2565-4625-924c-5967612e06ac",
   "metadata": {},
   "outputs": [
    {
     "data": {
      "text/html": [
       "<div>\n",
       "<style scoped>\n",
       "    .dataframe tbody tr th:only-of-type {\n",
       "        vertical-align: middle;\n",
       "    }\n",
       "\n",
       "    .dataframe tbody tr th {\n",
       "        vertical-align: top;\n",
       "    }\n",
       "\n",
       "    .dataframe thead th {\n",
       "        text-align: right;\n",
       "    }\n",
       "</style>\n",
       "<table border=\"1\" class=\"dataframe\">\n",
       "  <thead>\n",
       "    <tr style=\"text-align: right;\">\n",
       "      <th></th>\n",
       "      <th>tconst</th>\n",
       "      <th>original_title</th>\n",
       "      <th>review</th>\n",
       "      <th>review_lemm</th>\n",
       "      <th>pos</th>\n",
       "    </tr>\n",
       "  </thead>\n",
       "  <tbody>\n",
       "    <tr>\n",
       "      <th>0</th>\n",
       "      <td>tt0087803</td>\n",
       "      <td>Nineteen Eighty-Four</td>\n",
       "      <td>I saw this movie last year in Media class and ...</td>\n",
       "      <td>i see this movie last year in medium class and...</td>\n",
       "      <td>0</td>\n",
       "    </tr>\n",
       "    <tr>\n",
       "      <th>1</th>\n",
       "      <td>tt0087803</td>\n",
       "      <td>Nineteen Eighty-Four</td>\n",
       "      <td>I must admit, there are few books with corresp...</td>\n",
       "      <td>i must admit there be few book with correspond...</td>\n",
       "      <td>0</td>\n",
       "    </tr>\n",
       "    <tr>\n",
       "      <th>2</th>\n",
       "      <td>tt0087803</td>\n",
       "      <td>Nineteen Eighty-Four</td>\n",
       "      <td>I think that the shots and lighting were very ...</td>\n",
       "      <td>i think that the shot and light be very poor w...</td>\n",
       "      <td>0</td>\n",
       "    </tr>\n",
       "    <tr>\n",
       "      <th>3</th>\n",
       "      <td>tt0087803</td>\n",
       "      <td>Nineteen Eighty-Four</td>\n",
       "      <td>A few weeks ago, I read the classic George Orw...</td>\n",
       "      <td>a few week ago i read the classic george orwel...</td>\n",
       "      <td>0</td>\n",
       "    </tr>\n",
       "    <tr>\n",
       "      <th>4</th>\n",
       "      <td>tt0087803</td>\n",
       "      <td>Nineteen Eighty-Four</td>\n",
       "      <td>I saw this movie literally directly after fini...</td>\n",
       "      <td>i see this movie literally directly after fini...</td>\n",
       "      <td>0</td>\n",
       "    </tr>\n",
       "    <tr>\n",
       "      <th>5</th>\n",
       "      <td>tt0087803</td>\n",
       "      <td>Nineteen Eighty-Four</td>\n",
       "      <td>The book is fantastic, this film is not. There...</td>\n",
       "      <td>the book be fantastic this film be not there b...</td>\n",
       "      <td>0</td>\n",
       "    </tr>\n",
       "    <tr>\n",
       "      <th>6</th>\n",
       "      <td>tt0087803</td>\n",
       "      <td>Nineteen Eighty-Four</td>\n",
       "      <td>'Ninteen Eighty-Four' is a film about a futuri...</td>\n",
       "      <td>' ninteen eighty four ' be a film about a futu...</td>\n",
       "      <td>0</td>\n",
       "    </tr>\n",
       "    <tr>\n",
       "      <th>7</th>\n",
       "      <td>tt0087803</td>\n",
       "      <td>Nineteen Eighty-Four</td>\n",
       "      <td>After hearing about George Orwell's prophetic ...</td>\n",
       "      <td>after hear about george orwell 's prophetic ma...</td>\n",
       "      <td>0</td>\n",
       "    </tr>\n",
       "    <tr>\n",
       "      <th>8</th>\n",
       "      <td>tt0087803</td>\n",
       "      <td>Nineteen Eighty-Four</td>\n",
       "      <td>I have heard about this novel a long time ago,...</td>\n",
       "      <td>i have hear about this novel a long time ago m...</td>\n",
       "      <td>0</td>\n",
       "    </tr>\n",
       "    <tr>\n",
       "      <th>9</th>\n",
       "      <td>tt0087803</td>\n",
       "      <td>Nineteen Eighty-Four</td>\n",
       "      <td>I am a massive fan of the book and Orwell is c...</td>\n",
       "      <td>i be a massive fan of the book and orwell be c...</td>\n",
       "      <td>0</td>\n",
       "    </tr>\n",
       "    <tr>\n",
       "      <th>10</th>\n",
       "      <td>tt0087803</td>\n",
       "      <td>Nineteen Eighty-Four</td>\n",
       "      <td>I had high hopes for this movie, because I enj...</td>\n",
       "      <td>i have high hope for this movie because i enjo...</td>\n",
       "      <td>0</td>\n",
       "    </tr>\n",
       "    <tr>\n",
       "      <th>11</th>\n",
       "      <td>tt0088915</td>\n",
       "      <td>A Chorus Line</td>\n",
       "      <td>i was lucky enough to see A Chorus Line when i...</td>\n",
       "      <td>i be lucky enough to see a chorus line when -P...</td>\n",
       "      <td>0</td>\n",
       "    </tr>\n",
       "  </tbody>\n",
       "</table>\n",
       "</div>"
      ],
      "text/plain": [
       "       tconst        original_title  \\\n",
       "0   tt0087803  Nineteen Eighty-Four   \n",
       "1   tt0087803  Nineteen Eighty-Four   \n",
       "2   tt0087803  Nineteen Eighty-Four   \n",
       "3   tt0087803  Nineteen Eighty-Four   \n",
       "4   tt0087803  Nineteen Eighty-Four   \n",
       "5   tt0087803  Nineteen Eighty-Four   \n",
       "6   tt0087803  Nineteen Eighty-Four   \n",
       "7   tt0087803  Nineteen Eighty-Four   \n",
       "8   tt0087803  Nineteen Eighty-Four   \n",
       "9   tt0087803  Nineteen Eighty-Four   \n",
       "10  tt0087803  Nineteen Eighty-Four   \n",
       "11  tt0088915         A Chorus Line   \n",
       "\n",
       "                                               review  \\\n",
       "0   I saw this movie last year in Media class and ...   \n",
       "1   I must admit, there are few books with corresp...   \n",
       "2   I think that the shots and lighting were very ...   \n",
       "3   A few weeks ago, I read the classic George Orw...   \n",
       "4   I saw this movie literally directly after fini...   \n",
       "5   The book is fantastic, this film is not. There...   \n",
       "6   'Ninteen Eighty-Four' is a film about a futuri...   \n",
       "7   After hearing about George Orwell's prophetic ...   \n",
       "8   I have heard about this novel a long time ago,...   \n",
       "9   I am a massive fan of the book and Orwell is c...   \n",
       "10  I had high hopes for this movie, because I enj...   \n",
       "11  i was lucky enough to see A Chorus Line when i...   \n",
       "\n",
       "                                          review_lemm  pos  \n",
       "0   i see this movie last year in medium class and...    0  \n",
       "1   i must admit there be few book with correspond...    0  \n",
       "2   i think that the shot and light be very poor w...    0  \n",
       "3   a few week ago i read the classic george orwel...    0  \n",
       "4   i see this movie literally directly after fini...    0  \n",
       "5   the book be fantastic this film be not there b...    0  \n",
       "6   ' ninteen eighty four ' be a film about a futu...    0  \n",
       "7   after hear about george orwell 's prophetic ma...    0  \n",
       "8   i have hear about this novel a long time ago m...    0  \n",
       "9   i be a massive fan of the book and orwell be c...    0  \n",
       "10  i have high hope for this movie because i enjo...    0  \n",
       "11  i be lucky enough to see a chorus line when -P...    0  "
      ]
     },
     "metadata": {},
     "output_type": "display_data"
    }
   ],
   "source": [
    "display(train.head(12))"
   ]
  },
  {
   "cell_type": "markdown",
   "id": "2498c5f3-dc98-4f14-8dd8-db37f0513fea",
   "metadata": {},
   "source": [
    "the lemmatized reviews are in the review_lemm column"
   ]
  },
  {
   "cell_type": "markdown",
   "id": "0319d1bc-f11b-47c5-bd42-c221dccb7518",
   "metadata": {},
   "source": [
    " the target is in the pos column (0 - negative review, 1 - positive review)."
   ]
  },
  {
   "cell_type": "markdown",
   "id": "ea843e0d-fa53-4068-8f35-a9194a5ff66f",
   "metadata": {},
   "source": [
    "# Inspect train dataset"
   ]
  },
  {
   "cell_type": "code",
   "execution_count": 167,
   "id": "c0bccd0e-8996-46a3-bf93-af07773da332",
   "metadata": {},
   "outputs": [
    {
     "name": "stdout",
     "output_type": "stream",
     "text": [
      "pos\n",
      "1    1162\n",
      "0     865\n",
      "Name: count, dtype: int64\n"
     ]
    }
   ],
   "source": [
    "value_counts = train['pos'].value_counts()\n",
    "print(value_counts)"
   ]
  },
  {
   "cell_type": "code",
   "execution_count": 168,
   "id": "0e046696-b287-4a9c-ab05-a38f431fdff4",
   "metadata": {},
   "outputs": [
    {
     "name": "stdout",
     "output_type": "stream",
     "text": [
      "<class 'pandas.core.frame.DataFrame'>\n",
      "RangeIndex: 2027 entries, 0 to 2026\n",
      "Data columns (total 5 columns):\n",
      " #   Column          Non-Null Count  Dtype \n",
      "---  ------          --------------  ----- \n",
      " 0   tconst          2027 non-null   object\n",
      " 1   original_title  2027 non-null   object\n",
      " 2   review          2027 non-null   object\n",
      " 3   review_lemm     2027 non-null   object\n",
      " 4   pos             2027 non-null   int64 \n",
      "dtypes: int64(1), object(4)\n",
      "memory usage: 79.3+ KB\n"
     ]
    }
   ],
   "source": [
    "train.info()"
   ]
  },
  {
   "cell_type": "markdown",
   "id": "4e23ac75-c355-4944-9376-de7667d064d4",
   "metadata": {},
   "source": [
    "There is no missing data. pos datatype should be changed to boolean."
   ]
  },
  {
   "cell_type": "code",
   "execution_count": 170,
   "id": "b01277a2-6ab7-424a-8411-62d6f07ca7a1",
   "metadata": {},
   "outputs": [],
   "source": [
    "train['pos'] = train['pos'].astype(bool)"
   ]
  },
  {
   "cell_type": "code",
   "execution_count": 171,
   "id": "4200f0f6-b259-4144-8103-b2ca21e71214",
   "metadata": {},
   "outputs": [
    {
     "name": "stdout",
     "output_type": "stream",
     "text": [
      "<class 'pandas.core.frame.DataFrame'>\n",
      "RangeIndex: 2027 entries, 0 to 2026\n",
      "Data columns (total 5 columns):\n",
      " #   Column          Non-Null Count  Dtype \n",
      "---  ------          --------------  ----- \n",
      " 0   tconst          2027 non-null   object\n",
      " 1   original_title  2027 non-null   object\n",
      " 2   review          2027 non-null   object\n",
      " 3   review_lemm     2027 non-null   object\n",
      " 4   pos             2027 non-null   bool  \n",
      "dtypes: bool(1), object(4)\n",
      "memory usage: 65.5+ KB\n"
     ]
    }
   ],
   "source": [
    "train.info()"
   ]
  },
  {
   "cell_type": "markdown",
   "id": "32e59aac-b52d-4fca-a651-a5f60e1c1f2d",
   "metadata": {},
   "source": [
    "## Create corpus"
   ]
  },
  {
   "cell_type": "code",
   "execution_count": 173,
   "id": "d0fe8d82-cbd2-41b9-936e-d7e2468fdd6c",
   "metadata": {},
   "outputs": [],
   "source": [
    "corpus_train = train['review_lemm']\n",
    "corpus_test = test['review_lemm']\n",
    "target_train = train['pos']"
   ]
  },
  {
   "cell_type": "markdown",
   "id": "bf2c3eb9-757c-4036-b1e1-5709625cb0af",
   "metadata": {},
   "source": [
    "## Vectorize text data using TF-IDF"
   ]
  },
  {
   "cell_type": "markdown",
   "id": "55fde8bf-c6db-4901-8c77-eaf06a6fcdc0",
   "metadata": {},
   "source": [
    "convert these text reviews into numerical format"
   ]
  },
  {
   "cell_type": "code",
   "execution_count": 176,
   "id": "20664b3e-84f3-48cb-b1b9-7dff1ed82a31",
   "metadata": {},
   "outputs": [],
   "source": [
    "tfidf_vectorizer = TfidfVectorizer()"
   ]
  },
  {
   "cell_type": "code",
   "execution_count": 177,
   "id": "bfb2e1ab-b32e-4d63-ad5b-cb417863fb54",
   "metadata": {},
   "outputs": [],
   "source": [
    "X_train_tfidf = tfidf_vectorizer.fit_transform(corpus_train)\n",
    "X_test_tfidf = tfidf_vectorizer.transform(corpus_test)"
   ]
  },
  {
   "cell_type": "markdown",
   "id": "1dadbd8e-d867-4a0c-ab25-cac45c5c023b",
   "metadata": {},
   "source": [
    "## Create Logistic Regression model"
   ]
  },
  {
   "cell_type": "code",
   "execution_count": 179,
   "id": "35120fa8-dbbd-4360-bad4-30dab20eba0b",
   "metadata": {},
   "outputs": [],
   "source": [
    "# Train logistic regression model\n",
    "model = LogisticRegression(max_iter=1000)"
   ]
  },
  {
   "cell_type": "markdown",
   "id": "3235051e-0f65-4278-a907-26dcfd093f08",
   "metadata": {},
   "source": [
    "## Train model"
   ]
  },
  {
   "cell_type": "markdown",
   "id": "59833c33-9c5d-4462-a98d-29f6caec6648",
   "metadata": {},
   "source": [
    "to determine the tonality of the reviews"
   ]
  },
  {
   "cell_type": "code",
   "execution_count": 182,
   "id": "cd1f2a50-7898-4a49-96e9-9a644fd2ced9",
   "metadata": {},
   "outputs": [
    {
     "data": {
      "text/html": [
       "<style>#sk-container-id-3 {\n",
       "  /* Definition of color scheme common for light and dark mode */\n",
       "  --sklearn-color-text: black;\n",
       "  --sklearn-color-line: gray;\n",
       "  /* Definition of color scheme for unfitted estimators */\n",
       "  --sklearn-color-unfitted-level-0: #fff5e6;\n",
       "  --sklearn-color-unfitted-level-1: #f6e4d2;\n",
       "  --sklearn-color-unfitted-level-2: #ffe0b3;\n",
       "  --sklearn-color-unfitted-level-3: chocolate;\n",
       "  /* Definition of color scheme for fitted estimators */\n",
       "  --sklearn-color-fitted-level-0: #f0f8ff;\n",
       "  --sklearn-color-fitted-level-1: #d4ebff;\n",
       "  --sklearn-color-fitted-level-2: #b3dbfd;\n",
       "  --sklearn-color-fitted-level-3: cornflowerblue;\n",
       "\n",
       "  /* Specific color for light theme */\n",
       "  --sklearn-color-text-on-default-background: var(--sg-text-color, var(--theme-code-foreground, var(--jp-content-font-color1, black)));\n",
       "  --sklearn-color-background: var(--sg-background-color, var(--theme-background, var(--jp-layout-color0, white)));\n",
       "  --sklearn-color-border-box: var(--sg-text-color, var(--theme-code-foreground, var(--jp-content-font-color1, black)));\n",
       "  --sklearn-color-icon: #696969;\n",
       "\n",
       "  @media (prefers-color-scheme: dark) {\n",
       "    /* Redefinition of color scheme for dark theme */\n",
       "    --sklearn-color-text-on-default-background: var(--sg-text-color, var(--theme-code-foreground, var(--jp-content-font-color1, white)));\n",
       "    --sklearn-color-background: var(--sg-background-color, var(--theme-background, var(--jp-layout-color0, #111)));\n",
       "    --sklearn-color-border-box: var(--sg-text-color, var(--theme-code-foreground, var(--jp-content-font-color1, white)));\n",
       "    --sklearn-color-icon: #878787;\n",
       "  }\n",
       "}\n",
       "\n",
       "#sk-container-id-3 {\n",
       "  color: var(--sklearn-color-text);\n",
       "}\n",
       "\n",
       "#sk-container-id-3 pre {\n",
       "  padding: 0;\n",
       "}\n",
       "\n",
       "#sk-container-id-3 input.sk-hidden--visually {\n",
       "  border: 0;\n",
       "  clip: rect(1px 1px 1px 1px);\n",
       "  clip: rect(1px, 1px, 1px, 1px);\n",
       "  height: 1px;\n",
       "  margin: -1px;\n",
       "  overflow: hidden;\n",
       "  padding: 0;\n",
       "  position: absolute;\n",
       "  width: 1px;\n",
       "}\n",
       "\n",
       "#sk-container-id-3 div.sk-dashed-wrapped {\n",
       "  border: 1px dashed var(--sklearn-color-line);\n",
       "  margin: 0 0.4em 0.5em 0.4em;\n",
       "  box-sizing: border-box;\n",
       "  padding-bottom: 0.4em;\n",
       "  background-color: var(--sklearn-color-background);\n",
       "}\n",
       "\n",
       "#sk-container-id-3 div.sk-container {\n",
       "  /* jupyter's `normalize.less` sets `[hidden] { display: none; }`\n",
       "     but bootstrap.min.css set `[hidden] { display: none !important; }`\n",
       "     so we also need the `!important` here to be able to override the\n",
       "     default hidden behavior on the sphinx rendered scikit-learn.org.\n",
       "     See: https://github.com/scikit-learn/scikit-learn/issues/21755 */\n",
       "  display: inline-block !important;\n",
       "  position: relative;\n",
       "}\n",
       "\n",
       "#sk-container-id-3 div.sk-text-repr-fallback {\n",
       "  display: none;\n",
       "}\n",
       "\n",
       "div.sk-parallel-item,\n",
       "div.sk-serial,\n",
       "div.sk-item {\n",
       "  /* draw centered vertical line to link estimators */\n",
       "  background-image: linear-gradient(var(--sklearn-color-text-on-default-background), var(--sklearn-color-text-on-default-background));\n",
       "  background-size: 2px 100%;\n",
       "  background-repeat: no-repeat;\n",
       "  background-position: center center;\n",
       "}\n",
       "\n",
       "/* Parallel-specific style estimator block */\n",
       "\n",
       "#sk-container-id-3 div.sk-parallel-item::after {\n",
       "  content: \"\";\n",
       "  width: 100%;\n",
       "  border-bottom: 2px solid var(--sklearn-color-text-on-default-background);\n",
       "  flex-grow: 1;\n",
       "}\n",
       "\n",
       "#sk-container-id-3 div.sk-parallel {\n",
       "  display: flex;\n",
       "  align-items: stretch;\n",
       "  justify-content: center;\n",
       "  background-color: var(--sklearn-color-background);\n",
       "  position: relative;\n",
       "}\n",
       "\n",
       "#sk-container-id-3 div.sk-parallel-item {\n",
       "  display: flex;\n",
       "  flex-direction: column;\n",
       "}\n",
       "\n",
       "#sk-container-id-3 div.sk-parallel-item:first-child::after {\n",
       "  align-self: flex-end;\n",
       "  width: 50%;\n",
       "}\n",
       "\n",
       "#sk-container-id-3 div.sk-parallel-item:last-child::after {\n",
       "  align-self: flex-start;\n",
       "  width: 50%;\n",
       "}\n",
       "\n",
       "#sk-container-id-3 div.sk-parallel-item:only-child::after {\n",
       "  width: 0;\n",
       "}\n",
       "\n",
       "/* Serial-specific style estimator block */\n",
       "\n",
       "#sk-container-id-3 div.sk-serial {\n",
       "  display: flex;\n",
       "  flex-direction: column;\n",
       "  align-items: center;\n",
       "  background-color: var(--sklearn-color-background);\n",
       "  padding-right: 1em;\n",
       "  padding-left: 1em;\n",
       "}\n",
       "\n",
       "\n",
       "/* Toggleable style: style used for estimator/Pipeline/ColumnTransformer box that is\n",
       "clickable and can be expanded/collapsed.\n",
       "- Pipeline and ColumnTransformer use this feature and define the default style\n",
       "- Estimators will overwrite some part of the style using the `sk-estimator` class\n",
       "*/\n",
       "\n",
       "/* Pipeline and ColumnTransformer style (default) */\n",
       "\n",
       "#sk-container-id-3 div.sk-toggleable {\n",
       "  /* Default theme specific background. It is overwritten whether we have a\n",
       "  specific estimator or a Pipeline/ColumnTransformer */\n",
       "  background-color: var(--sklearn-color-background);\n",
       "}\n",
       "\n",
       "/* Toggleable label */\n",
       "#sk-container-id-3 label.sk-toggleable__label {\n",
       "  cursor: pointer;\n",
       "  display: block;\n",
       "  width: 100%;\n",
       "  margin-bottom: 0;\n",
       "  padding: 0.5em;\n",
       "  box-sizing: border-box;\n",
       "  text-align: center;\n",
       "}\n",
       "\n",
       "#sk-container-id-3 label.sk-toggleable__label-arrow:before {\n",
       "  /* Arrow on the left of the label */\n",
       "  content: \"▸\";\n",
       "  float: left;\n",
       "  margin-right: 0.25em;\n",
       "  color: var(--sklearn-color-icon);\n",
       "}\n",
       "\n",
       "#sk-container-id-3 label.sk-toggleable__label-arrow:hover:before {\n",
       "  color: var(--sklearn-color-text);\n",
       "}\n",
       "\n",
       "/* Toggleable content - dropdown */\n",
       "\n",
       "#sk-container-id-3 div.sk-toggleable__content {\n",
       "  max-height: 0;\n",
       "  max-width: 0;\n",
       "  overflow: hidden;\n",
       "  text-align: left;\n",
       "  /* unfitted */\n",
       "  background-color: var(--sklearn-color-unfitted-level-0);\n",
       "}\n",
       "\n",
       "#sk-container-id-3 div.sk-toggleable__content.fitted {\n",
       "  /* fitted */\n",
       "  background-color: var(--sklearn-color-fitted-level-0);\n",
       "}\n",
       "\n",
       "#sk-container-id-3 div.sk-toggleable__content pre {\n",
       "  margin: 0.2em;\n",
       "  border-radius: 0.25em;\n",
       "  color: var(--sklearn-color-text);\n",
       "  /* unfitted */\n",
       "  background-color: var(--sklearn-color-unfitted-level-0);\n",
       "}\n",
       "\n",
       "#sk-container-id-3 div.sk-toggleable__content.fitted pre {\n",
       "  /* unfitted */\n",
       "  background-color: var(--sklearn-color-fitted-level-0);\n",
       "}\n",
       "\n",
       "#sk-container-id-3 input.sk-toggleable__control:checked~div.sk-toggleable__content {\n",
       "  /* Expand drop-down */\n",
       "  max-height: 200px;\n",
       "  max-width: 100%;\n",
       "  overflow: auto;\n",
       "}\n",
       "\n",
       "#sk-container-id-3 input.sk-toggleable__control:checked~label.sk-toggleable__label-arrow:before {\n",
       "  content: \"▾\";\n",
       "}\n",
       "\n",
       "/* Pipeline/ColumnTransformer-specific style */\n",
       "\n",
       "#sk-container-id-3 div.sk-label input.sk-toggleable__control:checked~label.sk-toggleable__label {\n",
       "  color: var(--sklearn-color-text);\n",
       "  background-color: var(--sklearn-color-unfitted-level-2);\n",
       "}\n",
       "\n",
       "#sk-container-id-3 div.sk-label.fitted input.sk-toggleable__control:checked~label.sk-toggleable__label {\n",
       "  background-color: var(--sklearn-color-fitted-level-2);\n",
       "}\n",
       "\n",
       "/* Estimator-specific style */\n",
       "\n",
       "/* Colorize estimator box */\n",
       "#sk-container-id-3 div.sk-estimator input.sk-toggleable__control:checked~label.sk-toggleable__label {\n",
       "  /* unfitted */\n",
       "  background-color: var(--sklearn-color-unfitted-level-2);\n",
       "}\n",
       "\n",
       "#sk-container-id-3 div.sk-estimator.fitted input.sk-toggleable__control:checked~label.sk-toggleable__label {\n",
       "  /* fitted */\n",
       "  background-color: var(--sklearn-color-fitted-level-2);\n",
       "}\n",
       "\n",
       "#sk-container-id-3 div.sk-label label.sk-toggleable__label,\n",
       "#sk-container-id-3 div.sk-label label {\n",
       "  /* The background is the default theme color */\n",
       "  color: var(--sklearn-color-text-on-default-background);\n",
       "}\n",
       "\n",
       "/* On hover, darken the color of the background */\n",
       "#sk-container-id-3 div.sk-label:hover label.sk-toggleable__label {\n",
       "  color: var(--sklearn-color-text);\n",
       "  background-color: var(--sklearn-color-unfitted-level-2);\n",
       "}\n",
       "\n",
       "/* Label box, darken color on hover, fitted */\n",
       "#sk-container-id-3 div.sk-label.fitted:hover label.sk-toggleable__label.fitted {\n",
       "  color: var(--sklearn-color-text);\n",
       "  background-color: var(--sklearn-color-fitted-level-2);\n",
       "}\n",
       "\n",
       "/* Estimator label */\n",
       "\n",
       "#sk-container-id-3 div.sk-label label {\n",
       "  font-family: monospace;\n",
       "  font-weight: bold;\n",
       "  display: inline-block;\n",
       "  line-height: 1.2em;\n",
       "}\n",
       "\n",
       "#sk-container-id-3 div.sk-label-container {\n",
       "  text-align: center;\n",
       "}\n",
       "\n",
       "/* Estimator-specific */\n",
       "#sk-container-id-3 div.sk-estimator {\n",
       "  font-family: monospace;\n",
       "  border: 1px dotted var(--sklearn-color-border-box);\n",
       "  border-radius: 0.25em;\n",
       "  box-sizing: border-box;\n",
       "  margin-bottom: 0.5em;\n",
       "  /* unfitted */\n",
       "  background-color: var(--sklearn-color-unfitted-level-0);\n",
       "}\n",
       "\n",
       "#sk-container-id-3 div.sk-estimator.fitted {\n",
       "  /* fitted */\n",
       "  background-color: var(--sklearn-color-fitted-level-0);\n",
       "}\n",
       "\n",
       "/* on hover */\n",
       "#sk-container-id-3 div.sk-estimator:hover {\n",
       "  /* unfitted */\n",
       "  background-color: var(--sklearn-color-unfitted-level-2);\n",
       "}\n",
       "\n",
       "#sk-container-id-3 div.sk-estimator.fitted:hover {\n",
       "  /* fitted */\n",
       "  background-color: var(--sklearn-color-fitted-level-2);\n",
       "}\n",
       "\n",
       "/* Specification for estimator info (e.g. \"i\" and \"?\") */\n",
       "\n",
       "/* Common style for \"i\" and \"?\" */\n",
       "\n",
       ".sk-estimator-doc-link,\n",
       "a:link.sk-estimator-doc-link,\n",
       "a:visited.sk-estimator-doc-link {\n",
       "  float: right;\n",
       "  font-size: smaller;\n",
       "  line-height: 1em;\n",
       "  font-family: monospace;\n",
       "  background-color: var(--sklearn-color-background);\n",
       "  border-radius: 1em;\n",
       "  height: 1em;\n",
       "  width: 1em;\n",
       "  text-decoration: none !important;\n",
       "  margin-left: 1ex;\n",
       "  /* unfitted */\n",
       "  border: var(--sklearn-color-unfitted-level-1) 1pt solid;\n",
       "  color: var(--sklearn-color-unfitted-level-1);\n",
       "}\n",
       "\n",
       ".sk-estimator-doc-link.fitted,\n",
       "a:link.sk-estimator-doc-link.fitted,\n",
       "a:visited.sk-estimator-doc-link.fitted {\n",
       "  /* fitted */\n",
       "  border: var(--sklearn-color-fitted-level-1) 1pt solid;\n",
       "  color: var(--sklearn-color-fitted-level-1);\n",
       "}\n",
       "\n",
       "/* On hover */\n",
       "div.sk-estimator:hover .sk-estimator-doc-link:hover,\n",
       ".sk-estimator-doc-link:hover,\n",
       "div.sk-label-container:hover .sk-estimator-doc-link:hover,\n",
       ".sk-estimator-doc-link:hover {\n",
       "  /* unfitted */\n",
       "  background-color: var(--sklearn-color-unfitted-level-3);\n",
       "  color: var(--sklearn-color-background);\n",
       "  text-decoration: none;\n",
       "}\n",
       "\n",
       "div.sk-estimator.fitted:hover .sk-estimator-doc-link.fitted:hover,\n",
       ".sk-estimator-doc-link.fitted:hover,\n",
       "div.sk-label-container:hover .sk-estimator-doc-link.fitted:hover,\n",
       ".sk-estimator-doc-link.fitted:hover {\n",
       "  /* fitted */\n",
       "  background-color: var(--sklearn-color-fitted-level-3);\n",
       "  color: var(--sklearn-color-background);\n",
       "  text-decoration: none;\n",
       "}\n",
       "\n",
       "/* Span, style for the box shown on hovering the info icon */\n",
       ".sk-estimator-doc-link span {\n",
       "  display: none;\n",
       "  z-index: 9999;\n",
       "  position: relative;\n",
       "  font-weight: normal;\n",
       "  right: .2ex;\n",
       "  padding: .5ex;\n",
       "  margin: .5ex;\n",
       "  width: min-content;\n",
       "  min-width: 20ex;\n",
       "  max-width: 50ex;\n",
       "  color: var(--sklearn-color-text);\n",
       "  box-shadow: 2pt 2pt 4pt #999;\n",
       "  /* unfitted */\n",
       "  background: var(--sklearn-color-unfitted-level-0);\n",
       "  border: .5pt solid var(--sklearn-color-unfitted-level-3);\n",
       "}\n",
       "\n",
       ".sk-estimator-doc-link.fitted span {\n",
       "  /* fitted */\n",
       "  background: var(--sklearn-color-fitted-level-0);\n",
       "  border: var(--sklearn-color-fitted-level-3);\n",
       "}\n",
       "\n",
       ".sk-estimator-doc-link:hover span {\n",
       "  display: block;\n",
       "}\n",
       "\n",
       "/* \"?\"-specific style due to the `<a>` HTML tag */\n",
       "\n",
       "#sk-container-id-3 a.estimator_doc_link {\n",
       "  float: right;\n",
       "  font-size: 1rem;\n",
       "  line-height: 1em;\n",
       "  font-family: monospace;\n",
       "  background-color: var(--sklearn-color-background);\n",
       "  border-radius: 1rem;\n",
       "  height: 1rem;\n",
       "  width: 1rem;\n",
       "  text-decoration: none;\n",
       "  /* unfitted */\n",
       "  color: var(--sklearn-color-unfitted-level-1);\n",
       "  border: var(--sklearn-color-unfitted-level-1) 1pt solid;\n",
       "}\n",
       "\n",
       "#sk-container-id-3 a.estimator_doc_link.fitted {\n",
       "  /* fitted */\n",
       "  border: var(--sklearn-color-fitted-level-1) 1pt solid;\n",
       "  color: var(--sklearn-color-fitted-level-1);\n",
       "}\n",
       "\n",
       "/* On hover */\n",
       "#sk-container-id-3 a.estimator_doc_link:hover {\n",
       "  /* unfitted */\n",
       "  background-color: var(--sklearn-color-unfitted-level-3);\n",
       "  color: var(--sklearn-color-background);\n",
       "  text-decoration: none;\n",
       "}\n",
       "\n",
       "#sk-container-id-3 a.estimator_doc_link.fitted:hover {\n",
       "  /* fitted */\n",
       "  background-color: var(--sklearn-color-fitted-level-3);\n",
       "}\n",
       "</style><div id=\"sk-container-id-3\" class=\"sk-top-container\"><div class=\"sk-text-repr-fallback\"><pre>LogisticRegression(max_iter=1000)</pre><b>In a Jupyter environment, please rerun this cell to show the HTML representation or trust the notebook. <br />On GitHub, the HTML representation is unable to render, please try loading this page with nbviewer.org.</b></div><div class=\"sk-container\" hidden><div class=\"sk-item\"><div class=\"sk-estimator fitted sk-toggleable\"><input class=\"sk-toggleable__control sk-hidden--visually\" id=\"sk-estimator-id-3\" type=\"checkbox\" checked><label for=\"sk-estimator-id-3\" class=\"sk-toggleable__label fitted sk-toggleable__label-arrow fitted\">&nbsp;&nbsp;LogisticRegression<a class=\"sk-estimator-doc-link fitted\" rel=\"noreferrer\" target=\"_blank\" href=\"https://scikit-learn.org/1.5/modules/generated/sklearn.linear_model.LogisticRegression.html\">?<span>Documentation for LogisticRegression</span></a><span class=\"sk-estimator-doc-link fitted\">i<span>Fitted</span></span></label><div class=\"sk-toggleable__content fitted\"><pre>LogisticRegression(max_iter=1000)</pre></div> </div></div></div></div>"
      ],
      "text/plain": [
       "LogisticRegression(max_iter=1000)"
      ]
     },
     "execution_count": 182,
     "metadata": {},
     "output_type": "execute_result"
    }
   ],
   "source": [
    "model.fit(X_train_tfidf, target_train)"
   ]
  },
  {
   "cell_type": "markdown",
   "id": "dfd93a2a-f779-4698-b019-1674afd110ee",
   "metadata": {},
   "source": [
    "TF-IDF vectors for lemmatized reviews as features"
   ]
  },
  {
   "cell_type": "markdown",
   "id": "571d0e3f-7a04-42ee-953c-99db582bc258",
   "metadata": {},
   "source": [
    " Save the predictions to the pos column. "
   ]
  },
  {
   "cell_type": "markdown",
   "id": "d32d76aa-95ba-4618-9bc5-d1ce05abe682",
   "metadata": {},
   "source": [
    "The model accuracy should be at least 0.82."
   ]
  },
  {
   "cell_type": "code",
   "execution_count": 186,
   "id": "c5b17651-1881-48ea-8137-058effc96a6c",
   "metadata": {},
   "outputs": [],
   "source": [
    "# Transform test data\n",
    "X_test_tfidf = tfidf_vectorizer.transform(test['review_lemm'])"
   ]
  },
  {
   "cell_type": "markdown",
   "id": "24a00808-0f66-4d44-8f45-25c684ba48cd",
   "metadata": {},
   "source": [
    "## Predict"
   ]
  },
  {
   "cell_type": "code",
   "execution_count": 188,
   "id": "7e19eb7d-5806-434a-9f65-76b44eb5d94a",
   "metadata": {},
   "outputs": [],
   "source": [
    "# Predict on test data\n",
    "predictions = model.predict(X_test_tfidf)"
   ]
  },
  {
   "cell_type": "markdown",
   "id": "f880aa00-23e7-4e77-b2fb-eca6b932a601",
   "metadata": {},
   "source": [
    "## Add predictions to the test set"
   ]
  },
  {
   "cell_type": "code",
   "execution_count": 190,
   "id": "f9c48348-3ebe-4ac6-aef1-0192614688fa",
   "metadata": {},
   "outputs": [],
   "source": [
    "test['pos'] = predictions"
   ]
  },
  {
   "cell_type": "markdown",
   "id": "c551e4a0-3f20-49f3-9e62-f71c3b2fb1d6",
   "metadata": {},
   "source": [
    "# Score the model"
   ]
  },
  {
   "cell_type": "markdown",
   "id": "adf75901-317f-44d3-b74b-8bf8a5cb5bc1",
   "metadata": {},
   "source": [
    "The model accuracy should be at least 0.82"
   ]
  },
  {
   "cell_type": "code",
   "execution_count": 193,
   "id": "625bc5c6-f48c-4d57-a8ec-7a529ef6a3cc",
   "metadata": {},
   "outputs": [
    {
     "name": "stdout",
     "output_type": "stream",
     "text": [
      "Model Accuracy: 1.0\n"
     ]
    }
   ],
   "source": [
    "# Evaluate model performance\n",
    "accuracy = accuracy_score(test['pos'], predictions)\n",
    "print(f\"Model Accuracy: {accuracy}\")"
   ]
  },
  {
   "cell_type": "markdown",
   "id": "b5845bef-d087-47ff-9efd-11fa5ab2df09",
   "metadata": {},
   "source": [
    "## Save file"
   ]
  },
  {
   "cell_type": "markdown",
   "id": "948b1584-f8b8-44e7-9d9d-e5d20239d5e9",
   "metadata": {},
   "source": [
    "Save the table with results as a CSV file"
   ]
  },
  {
   "cell_type": "code",
   "execution_count": 196,
   "id": "c1974dac-1031-4141-aa35-3c10786b9926",
   "metadata": {},
   "outputs": [],
   "source": [
    "import os\n",
    "# Define the directory path\n",
    "datasets_dir = '../datasets'"
   ]
  },
  {
   "cell_type": "code",
   "execution_count": 197,
   "id": "82dd302a-5f54-4f51-a2b4-bb0dd445e4e9",
   "metadata": {},
   "outputs": [],
   "source": [
    "output_file_path = os.path.join(datasets_dir, 'predictions')"
   ]
  },
  {
   "cell_type": "code",
   "execution_count": 221,
   "id": "2013e4ac-7ced-433f-8e84-9031d05048e3",
   "metadata": {},
   "outputs": [],
   "source": [
    "# Assuming 'test' is your DataFrame and 'pos' is the column to save\n",
    "output_columns = ['pos']\n",
    "test[output_columns].to_csv(output_file_path, index=False, header=True)"
   ]
  },
  {
   "cell_type": "code",
   "execution_count": null,
   "id": "45cbc2a5-670f-4e8c-92d5-ba232319de10",
   "metadata": {},
   "outputs": [],
   "source": []
  }
 ],
 "metadata": {
  "kernelspec": {
   "display_name": "Python 3 (ipykernel)",
   "language": "python",
   "name": "python3"
  },
  "language_info": {
   "codemirror_mode": {
    "name": "ipython",
    "version": 3
   },
   "file_extension": ".py",
   "mimetype": "text/x-python",
   "name": "python",
   "nbconvert_exporter": "python",
   "pygments_lexer": "ipython3",
   "version": "3.11.7"
  }
 },
 "nbformat": 4,
 "nbformat_minor": 5
}
